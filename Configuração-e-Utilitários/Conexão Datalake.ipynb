{
 "cells": [
  {
   "cell_type": "markdown",
   "metadata": {},
   "source": [
    "### Configuração da conexão do Databricks ao armazenamento Azure\n",
    "\n",
    "Código para conexão entre o databricks e o armazenamento na Azure. A conclusão dessa operação exige que o aplicativo criado para o Databricks tenha acesso à conta de armazenamento.\n",
    "\n",
    "Guia para configurar o controle de acesso:\n",
    "\n",
    "1. Acessar conta de armazenamento do datalake no portal da Azure\n",
    "2. Selecionar opção 'IAM (Controle de Acesso)'\n",
    "3. Procurar e selecionar função 'Colaborador de Dados do Blob Storage'\n",
    "4. Selecionar a opção 'Selecionar Membros'\n",
    "5. Procurar e selecionar o aplicativo criado para conexão"
   ]
  },
  {
   "cell_type": "code",
   "execution_count": null,
   "metadata": {},
   "outputs": [],
   "source": [
    "# Variáveis para as credenciais de acesso\n",
    "\n",
    "id_cliente = 'inserir_seu_id'\n",
    "id_locatario = 'inserir_seu_locatario'\n",
    "senha_app = 'inserir_sua_senha'  # Precisa ser gerada\n",
    "nome_conta_de_armazenamento = 'datalakexp'  # Nome da conta de armazenamento do datalake"
   ]
  },
  {
   "cell_type": "markdown",
   "metadata": {},
   "source": [
    "### Inicializando a sessão Spark\n",
    "\n",
    "Essa etapa não é necessária quando se está no ambiente em nuvem do databricks."
   ]
  },
  {
   "cell_type": "code",
   "execution_count": null,
   "metadata": {},
   "outputs": [],
   "source": [
    "# Iniciando a sessão spark\n",
    "from pyspark.sql import SparkSession\n",
    "\n",
    "spark = SparkSession.builder.appName(\"SparkSession\").getOrCreate()"
   ]
  },
  {
   "cell_type": "code",
   "execution_count": null,
   "metadata": {},
   "outputs": [],
   "source": [
    "spark.conf.set(f\"fs.azure.account.auth.type.{nome_conta_de_armazenamento}.dfs.core.windows.net\", \"OAuth\")\n",
    "spark.conf.set(f\"fs.azure.account.oauth.provider.type.{nome_conta_de_armazenamento}.dfs.core.windows.net\", \"org.apache.hadoop.fs.azurebfs.oauth2.ClientCredsTokenProvider\")\n",
    "spark.conf.set(f\"fs.azure.account.oauth2.client.id.{nome_conta_de_armazenamento}.dfs.core.windows.net\", id_cliente)\n",
    "spark.conf.set(f\"fs.azure.account.oauth2.client.secret.{nome_conta_de_armazenamento}.dfs.core.windows.net\", senha_app)\n",
    "spark.conf.set(f\"fs.azure.account.oauth2.client.endpoint.{nome_conta_de_armazenamento}.dfs.core.windows.net\", f\"https://login.microsoftonline.com/{id_locatario}/oauth2/token\")"
   ]
  },
  {
   "cell_type": "markdown",
   "metadata": {},
   "source": [
    "### Definição dos MOUNT's\n",
    "\n",
    "Um MOUNT é um ponto de acesso, usado para facilitar o acesso a pastas."
   ]
  },
  {
   "cell_type": "code",
   "execution_count": null,
   "metadata": {},
   "outputs": [],
   "source": [
    "configs = {\"fs.azure.account.auth.type\": \"OAuth\",\n",
    "          \"fs.azure.account.oauth.provider.type\": \"org.apache.hadoop.fs.azurebfs.oauth2.ClientCredsTokenProvider\",\n",
    "          \"fs.azure.account.oauth2.client.id\": id_cliente,\n",
    "          \"fs.azure.account.oauth2.client.secret\": senha_app,\n",
    "          \"fs.azure.account.oauth2.client.endpoint\": f\"https://login.microsoftonline.com/{id_locatario}/oauth2/token\"}\n",
    "\n",
    "# Ponto de acesso da camada BRONZE\n",
    "dbutils.fs.mount(\n",
    "  source = f\"abfss://bronze@{nome_conta_de_armazenamento}.dfs.core.windows.net/\",\n",
    "  mount_point = \"/mnt/datalake/bronze\",\n",
    "  extra_configs = configs\n",
    ")\n",
    "\n",
    "# Ponto de acesso da camada SILVER\n",
    "dbutils.fs.mount(\n",
    "  source = f\"abfss://silver@{nome_conta_de_armazenamento}.dfs.core.windows.net/\",\n",
    "  mount_point = \"/mnt/datalake/silver\",\n",
    "  extra_configs = configs\n",
    ")\n",
    "\n",
    "# Ponto de acesso da camada GOLD\n",
    "dbutils.fs.mount(\n",
    "  source = f\"abfss://gold@{nome_conta_de_armazenamento}.dfs.core.windows.net/\",\n",
    "  mount_point = \"/mnt/datalake/gold\",\n",
    "  extra_configs = configs\n",
    ")"
   ]
  },
  {
   "cell_type": "markdown",
   "metadata": {},
   "source": [
    "### Checando os mounts criados"
   ]
  },
  {
   "cell_type": "markdown",
   "metadata": {},
   "source": [
    "display(dbutils.fs.mounts())"
   ]
  }
 ],
 "metadata": {
  "kernelspec": {
   "display_name": ".venv",
   "language": "python",
   "name": "python3"
  },
  "language_info": {
   "name": "python",
   "version": "3.12.3"
  }
 },
 "nbformat": 4,
 "nbformat_minor": 2
}

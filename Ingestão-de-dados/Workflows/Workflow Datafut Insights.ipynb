{
 "cells": [
  {
   "cell_type": "markdown",
   "metadata": {},
   "source": [
    "### Notebook de Workflow\n",
    "\n",
    "Notebook de workflow para centralizar a execução de notebooks de transformação."
   ]
  },
  {
   "cell_type": "code",
   "execution_count": 2,
   "metadata": {},
   "outputs": [],
   "source": [
    "%run ../../Configuração-e-Utilitários/Funções.ipynb"
   ]
  },
  {
   "cell_type": "markdown",
   "metadata": {},
   "source": [
    "### Execução para arquivos genéricos"
   ]
  },
  {
   "cell_type": "code",
   "execution_count": 10,
   "metadata": {},
   "outputs": [
    {
     "name": "stderr",
     "output_type": "stream",
     "text": [
      "Executing: 100%|██████████| 23/23 [00:15<00:00,  1.50cell/s]\n"
     ]
    },
    {
     "name": "stdout",
     "output_type": "stream",
     "text": [
      "Arquivo \"estadios.csv\" foi processado e carregado na camada silver.\n"
     ]
    },
    {
     "name": "stderr",
     "output_type": "stream",
     "text": [
      "Executing: 100%|██████████| 23/23 [00:16<00:00,  1.37cell/s]"
     ]
    },
    {
     "name": "stdout",
     "output_type": "stream",
     "text": [
      "Arquivo \"torneios.csv\" foi processado e carregado na camada silver.\n"
     ]
    },
    {
     "name": "stderr",
     "output_type": "stream",
     "text": [
      "\n"
     ]
    }
   ],
   "source": [
    "# Executando notebook para estadios.csv\n",
    "dbutils.notebook.run(\n",
    "    r'../ingestão-genérica/Ingestão de dados genérica - estadios e torneios.ipynb',\n",
    "    0,\n",
    "    {'nome_arquivo_fonte': 'estadios'},\n",
    ")\n",
    "\n",
    "# Executando notebook para torneios.csv\n",
    "dbutils.notebook.run(\n",
    "    r'../ingestão-genérica/Ingestão de dados genérica - estadios e torneios.ipynb',\n",
    "    0,\n",
    "    {'nome_arquivo_fonte': 'torneios'},\n",
    ")"
   ]
  },
  {
   "cell_type": "markdown",
   "metadata": {},
   "source": [
    "### Execução para arquivos não genéricos"
   ]
  },
  {
   "cell_type": "code",
   "execution_count": 11,
   "metadata": {},
   "outputs": [
    {
     "name": "stderr",
     "output_type": "stream",
     "text": [
      "Executing: 100%|██████████| 22/22 [00:15<00:00,  1.46cell/s]"
     ]
    },
    {
     "name": "stdout",
     "output_type": "stream",
     "text": [
      "Os arquivos da pasta \"partidas\" foram processados e carregados na camada silver.\n"
     ]
    },
    {
     "name": "stderr",
     "output_type": "stream",
     "text": [
      "\n"
     ]
    }
   ],
   "source": [
    "# Ingestão dos arquivos da pasta 'partidas'\n",
    "dbutils.notebook.run(r'../ingestão-não-genérica/Ingestão de dados - pasta partidas.csv.ipynb')"
   ]
  },
  {
   "cell_type": "code",
   "execution_count": 12,
   "metadata": {},
   "outputs": [
    {
     "name": "stderr",
     "output_type": "stream",
     "text": [
      "Executing: 100%|██████████| 18/18 [00:12<00:00,  1.41cell/s]"
     ]
    },
    {
     "name": "stdout",
     "output_type": "stream",
     "text": [
      "O arquivo \"times.json\" foi processado e carregado na camada silver.\n"
     ]
    },
    {
     "name": "stderr",
     "output_type": "stream",
     "text": [
      "\n"
     ]
    }
   ],
   "source": [
    "# Ingestão do arquivo times.json\n",
    "dbutils.notebook.run(r'../ingestão-não-genérica/Ingestão de dados - times.json.ipynb')"
   ]
  },
  {
   "cell_type": "code",
   "execution_count": 13,
   "metadata": {},
   "outputs": [
    {
     "name": "stderr",
     "output_type": "stream",
     "text": [
      "Executing: 100%|██████████| 26/26 [00:13<00:00,  1.86cell/s]"
     ]
    },
    {
     "name": "stdout",
     "output_type": "stream",
     "text": [
      "O arquivo \"jogadores.json\" foi processado e carregado na camada silver.\n"
     ]
    },
    {
     "name": "stderr",
     "output_type": "stream",
     "text": [
      "\n"
     ]
    }
   ],
   "source": [
    "# Ingestão do arquivo jogadores.json\n",
    "dbutils.notebook.run(r'../ingestão-não-genérica/Ingestão de dados - jogadores.json.ipynb')"
   ]
  },
  {
   "cell_type": "code",
   "execution_count": 14,
   "metadata": {},
   "outputs": [
    {
     "name": "stderr",
     "output_type": "stream",
     "text": [
      "Executing: 100%|██████████| 30/30 [00:17<00:00,  1.72cell/s]"
     ]
    },
    {
     "name": "stdout",
     "output_type": "stream",
     "text": [
      "Os arquivos da pasta \"eventos\" foram processados e carregados na camada silver.\n"
     ]
    },
    {
     "name": "stderr",
     "output_type": "stream",
     "text": [
      "\n"
     ]
    }
   ],
   "source": [
    "# Ingestão dos arquivos da pasta eventos\n",
    "dbutils.notebook.run(r'../ingestão-não-genérica/Ingestão de dados - pasta eventos.csv.ipynb')"
   ]
  }
 ],
 "metadata": {
  "kernelspec": {
   "display_name": "Python 3",
   "language": "python",
   "name": "python3"
  },
  "language_info": {
   "codemirror_mode": {
    "name": "ipython",
    "version": 3
   },
   "file_extension": ".py",
   "mimetype": "text/x-python",
   "name": "python",
   "nbconvert_exporter": "python",
   "pygments_lexer": "ipython3",
   "version": "3.11.8"
  }
 },
 "nbformat": 4,
 "nbformat_minor": 2
}

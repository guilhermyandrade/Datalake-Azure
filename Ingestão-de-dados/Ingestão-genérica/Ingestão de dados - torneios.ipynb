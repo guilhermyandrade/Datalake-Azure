{
 "cells": [
  {
   "cell_type": "markdown",
   "metadata": {
    "application/vnd.databricks.v1+cell": {
     "cellMetadata": {
      "byteLimit": 2048000,
      "rowLimit": 10000
     },
     "inputWidgets": {},
     "nuid": "2db67c67-14bb-4bfd-9d98-f06b48646e4c",
     "showTitle": false,
     "title": ""
    }
   },
   "source": [
    "\n",
    "### Requisitos para o arquivo torneios.csv\n",
    "\n",
    "Objetivo: realizar processo de ETL e disponibilizar os dados em camada adequada.\n",
    "\n",
    "1. Ler o arquivo csv do Datalake [ok]\n",
    "2. Renomear colunas para português usando snake case [ok]\n",
    "3. Definir a tipagem de colunas correta [ok]\n",
    "4. Coluna com data de cosumo do arquivo [ok]\n",
    "5. Salvar dados em formato parquet na camada adequada [ok]"
   ]
  },
  {
   "cell_type": "code",
   "execution_count": 2,
   "metadata": {},
   "outputs": [],
   "source": [
    "%run ../../Configuração-e-Utilitários/Variaveis.ipynb"
   ]
  },
  {
   "cell_type": "code",
   "execution_count": 3,
   "metadata": {},
   "outputs": [],
   "source": [
    "%run ../../Configuração-e-Utilitários/Funções.ipynb"
   ]
  },
  {
   "cell_type": "markdown",
   "metadata": {},
   "source": [
    "\n",
    "### Lendo os dados do arquivo"
   ]
  },
  {
   "cell_type": "code",
   "execution_count": 6,
   "metadata": {},
   "outputs": [
    {
     "name": "stdout",
     "output_type": "stream",
     "text": [
      "+---------+-----------+------------+------------+-----------+------------+----------+--------------+\n",
      "|league_id|league_name|country_name|country_code|season_year|season_start|season_end|season_current|\n",
      "+---------+-----------+------------+------------+-----------+------------+----------+--------------+\n",
      "|       71|    Serie A|      Brazil|          BR|       2010|  2010-05-08|2010-11-28|        False�|\n",
      "|       71|    Serie A|      Brazil|          BR|       2011|  2011-05-21|2011-12-04|        False�|\n",
      "|       71|    Serie A|      Brazil|          BR|       2012|  2012-05-19|2012-12-02|        False�|\n",
      "|       71|    Serie A|      Brazil|          BR|       2013|  2013-05-25|2013-12-08|        False�|\n",
      "|       71|    Serie A|      Brazil|          BR|       2014|  2014-04-19|2014-12-07|        False�|\n",
      "|       71|    Serie A|      Brazil|          BR|       2015|  2015-05-09|2015-12-06|        False�|\n",
      "|       71|    Serie A|      Brazil|          BR|       2016|  2016-05-14|2016-12-11|        False�|\n",
      "|       71|    Serie A|      Brazil|          BR|       2017|  2017-05-13|2017-12-03|        False�|\n",
      "|       71|    Serie A|      Brazil|          BR|       2018|  2018-04-14|2018-12-02|        False�|\n",
      "|       71|    Serie A|      Brazil|          BR|       2019|  2019-04-27|2019-12-08|        False�|\n",
      "|       71|    Serie A|      Brazil|          BR|       2020|  2020-08-08|2021-02-26|        False�|\n",
      "|       71|    Serie A|      Brazil|          BR|       2021|  2021-05-29|2021-12-10|        False�|\n",
      "|       71|    Serie A|      Brazil|          BR|       2022|  2022-04-10|2022-11-13|        False�|\n",
      "|       71|    Serie A|      Brazil|          BR|       2023|  2023-04-15|2023-12-03|         True�|\n",
      "|       72|    Serie B|      Brazil|          BR|       2012|  2012-05-19|2012-11-24|        False�|\n",
      "|       72|    Serie B|      Brazil|          BR|       2013|  2013-05-24|2013-11-30|        False�|\n",
      "|       72|    Serie B|      Brazil|          BR|       2014|  2014-04-18|2014-11-29|        False�|\n",
      "|       72|    Serie B|      Brazil|          BR|       2015|  2015-05-08|2015-11-28|        False�|\n",
      "|       72|    Serie B|      Brazil|          BR|       2016|  2016-05-13|2016-11-26|        False�|\n",
      "|       72|    Serie B|      Brazil|          BR|       2017|  2017-05-12|2017-11-25|        False�|\n",
      "+---------+-----------+------------+------------+-----------+------------+----------+--------------+\n",
      "only showing top 20 rows\n",
      "\n"
     ]
    }
   ],
   "source": [
    "torneios_df = (spark.read\n",
    "               .option(\"encoding\", \"UTF-16\")\n",
    "               .option(\"header\", \"true\") # Detecção do cabeçalho\n",
    "               .option(\"inferSchema\", \"true\") # Detecção do tipo de dados\n",
    "               .csv(f\"{caminho_bronze}/torneios.csv\") # Caminho do arquivo\n",
    ")\n",
    "torneios_df.show()"
   ]
  },
  {
   "cell_type": "code",
   "execution_count": 7,
   "metadata": {
    "application/vnd.databricks.v1+cell": {
     "cellMetadata": {
      "byteLimit": 2048000,
      "rowLimit": 10000
     },
     "inputWidgets": {},
     "nuid": "ab58ce06-11e4-42a6-a48e-e813aee47c55",
     "showTitle": false,
     "title": ""
    }
   },
   "outputs": [
    {
     "name": "stdout",
     "output_type": "stream",
     "text": [
      "root\n",
      " |-- league_id: string (nullable = true)\n",
      " |-- league_name: string (nullable = true)\n",
      " |-- country_name: string (nullable = true)\n",
      " |-- country_code: string (nullable = true)\n",
      " |-- season_year: integer (nullable = true)\n",
      " |-- season_start: date (nullable = true)\n",
      " |-- season_end: date (nullable = true)\n",
      " |-- season_current: string (nullable = true)\n",
      "\n"
     ]
    }
   ],
   "source": [
    "torneios_df.printSchema()"
   ]
  },
  {
   "cell_type": "markdown",
   "metadata": {
    "application/vnd.databricks.v1+cell": {
     "cellMetadata": {},
     "inputWidgets": {},
     "nuid": "41a6c58b-fa39-4ec9-a73c-cb34195be12f",
     "showTitle": false,
     "title": ""
    }
   },
   "source": [
    "### Renomeando colunas para português"
   ]
  },
  {
   "cell_type": "code",
   "execution_count": 8,
   "metadata": {
    "application/vnd.databricks.v1+cell": {
     "cellMetadata": {
      "byteLimit": 2048000,
      "rowLimit": 10000
     },
     "inputWidgets": {},
     "nuid": "fb7edf06-c62a-4734-8331-9cbb7516efb0",
     "showTitle": false,
     "title": ""
    }
   },
   "outputs": [
    {
     "name": "stdout",
     "output_type": "stream",
     "text": [
      "+----------+------------+------+-------------+----------------+----------------------+-------------------+---------------+\n",
      "|id_torneio|nome_torneio|  pais|sigla_do_pais|ano_da_temporada|dt_inicio_da_temporada|dt_fim_da_temporada|temporada_atual|\n",
      "+----------+------------+------+-------------+----------------+----------------------+-------------------+---------------+\n",
      "|        71|     Serie A|Brazil|           BR|            2010|            2010-05-08|         2010-11-28|         False�|\n",
      "|        71|     Serie A|Brazil|           BR|            2011|            2011-05-21|         2011-12-04|         False�|\n",
      "|        71|     Serie A|Brazil|           BR|            2012|            2012-05-19|         2012-12-02|         False�|\n",
      "|        71|     Serie A|Brazil|           BR|            2013|            2013-05-25|         2013-12-08|         False�|\n",
      "|        71|     Serie A|Brazil|           BR|            2014|            2014-04-19|         2014-12-07|         False�|\n",
      "|        71|     Serie A|Brazil|           BR|            2015|            2015-05-09|         2015-12-06|         False�|\n",
      "|        71|     Serie A|Brazil|           BR|            2016|            2016-05-14|         2016-12-11|         False�|\n",
      "|        71|     Serie A|Brazil|           BR|            2017|            2017-05-13|         2017-12-03|         False�|\n",
      "|        71|     Serie A|Brazil|           BR|            2018|            2018-04-14|         2018-12-02|         False�|\n",
      "|        71|     Serie A|Brazil|           BR|            2019|            2019-04-27|         2019-12-08|         False�|\n",
      "|        71|     Serie A|Brazil|           BR|            2020|            2020-08-08|         2021-02-26|         False�|\n",
      "|        71|     Serie A|Brazil|           BR|            2021|            2021-05-29|         2021-12-10|         False�|\n",
      "|        71|     Serie A|Brazil|           BR|            2022|            2022-04-10|         2022-11-13|         False�|\n",
      "|        71|     Serie A|Brazil|           BR|            2023|            2023-04-15|         2023-12-03|          True�|\n",
      "|        72|     Serie B|Brazil|           BR|            2012|            2012-05-19|         2012-11-24|         False�|\n",
      "|        72|     Serie B|Brazil|           BR|            2013|            2013-05-24|         2013-11-30|         False�|\n",
      "|        72|     Serie B|Brazil|           BR|            2014|            2014-04-18|         2014-11-29|         False�|\n",
      "|        72|     Serie B|Brazil|           BR|            2015|            2015-05-08|         2015-11-28|         False�|\n",
      "|        72|     Serie B|Brazil|           BR|            2016|            2016-05-13|         2016-11-26|         False�|\n",
      "|        72|     Serie B|Brazil|           BR|            2017|            2017-05-12|         2017-11-25|         False�|\n",
      "+----------+------------+------+-------------+----------------+----------------------+-------------------+---------------+\n",
      "only showing top 20 rows\n",
      "\n"
     ]
    }
   ],
   "source": [
    "torneios_df = torneios_df \\\n",
    "    .withColumnRenamed(\"league_id\", \"id_torneio\") \\\n",
    "    .withColumnRenamed(\"league_name\", \"nome_torneio\") \\\n",
    "    .withColumnRenamed(\"country_name\", \"pais\") \\\n",
    "    .withColumnRenamed(\"country_code\", \"sigla_do_pais\") \\\n",
    "    .withColumnRenamed(\"season_year\", \"ano_da_temporada\") \\\n",
    "    .withColumnRenamed(\"season_start\", \"dt_inicio_da_temporada\") \\\n",
    "    .withColumnRenamed(\"season_end\", \"dt_fim_da_temporada\") \\\n",
    "    .withColumnRenamed(\"season_current\", \"temporada_atual\")\n",
    "\n",
    "torneios_df.show()"
   ]
  },
  {
   "cell_type": "markdown",
   "metadata": {},
   "source": [
    "### Alterando valores booleanos para 'Sim'/'Não'"
   ]
  },
  {
   "cell_type": "code",
   "execution_count": 9,
   "metadata": {},
   "outputs": [
    {
     "name": "stdout",
     "output_type": "stream",
     "text": [
      "+----------+------------+------+-------------+----------------+----------------------+-------------------+---------------+\n",
      "|id_torneio|nome_torneio|  pais|sigla_do_pais|ano_da_temporada|dt_inicio_da_temporada|dt_fim_da_temporada|temporada_atual|\n",
      "+----------+------------+------+-------------+----------------+----------------------+-------------------+---------------+\n",
      "|        71|     Serie A|Brazil|           BR|            2010|            2010-05-08|         2010-11-28|            Não|\n",
      "|        71|     Serie A|Brazil|           BR|            2011|            2011-05-21|         2011-12-04|            Não|\n",
      "|        71|     Serie A|Brazil|           BR|            2012|            2012-05-19|         2012-12-02|            Não|\n",
      "|        71|     Serie A|Brazil|           BR|            2013|            2013-05-25|         2013-12-08|            Não|\n",
      "|        71|     Serie A|Brazil|           BR|            2014|            2014-04-19|         2014-12-07|            Não|\n",
      "|        71|     Serie A|Brazil|           BR|            2015|            2015-05-09|         2015-12-06|            Não|\n",
      "|        71|     Serie A|Brazil|           BR|            2016|            2016-05-14|         2016-12-11|            Não|\n",
      "|        71|     Serie A|Brazil|           BR|            2017|            2017-05-13|         2017-12-03|            Não|\n",
      "|        71|     Serie A|Brazil|           BR|            2018|            2018-04-14|         2018-12-02|            Não|\n",
      "|        71|     Serie A|Brazil|           BR|            2019|            2019-04-27|         2019-12-08|            Não|\n",
      "|        71|     Serie A|Brazil|           BR|            2020|            2020-08-08|         2021-02-26|            Não|\n",
      "|        71|     Serie A|Brazil|           BR|            2021|            2021-05-29|         2021-12-10|            Não|\n",
      "|        71|     Serie A|Brazil|           BR|            2022|            2022-04-10|         2022-11-13|            Não|\n",
      "|        71|     Serie A|Brazil|           BR|            2023|            2023-04-15|         2023-12-03|            Sim|\n",
      "|        72|     Serie B|Brazil|           BR|            2012|            2012-05-19|         2012-11-24|            Não|\n",
      "|        72|     Serie B|Brazil|           BR|            2013|            2013-05-24|         2013-11-30|            Não|\n",
      "|        72|     Serie B|Brazil|           BR|            2014|            2014-04-18|         2014-11-29|            Não|\n",
      "|        72|     Serie B|Brazil|           BR|            2015|            2015-05-08|         2015-11-28|            Não|\n",
      "|        72|     Serie B|Brazil|           BR|            2016|            2016-05-13|         2016-11-26|            Não|\n",
      "|        72|     Serie B|Brazil|           BR|            2017|            2017-05-12|         2017-11-25|            Não|\n",
      "+----------+------------+------+-------------+----------------+----------------------+-------------------+---------------+\n",
      "only showing top 20 rows\n",
      "\n"
     ]
    }
   ],
   "source": [
    "from pyspark.sql.functions import when, substring\n",
    "\n",
    "torneios_df = torneios_df.withColumn('temporada_atual', when(substring(torneios_df.temporada_atual, 0, 1) == 'T', 'Sim').otherwise('Não'))\n",
    "\n",
    "torneios_df.show()"
   ]
  },
  {
   "cell_type": "markdown",
   "metadata": {
    "application/vnd.databricks.v1+cell": {
     "cellMetadata": {},
     "inputWidgets": {},
     "nuid": "388521fc-967b-4f84-a155-a8e2d3082c3c",
     "showTitle": false,
     "title": ""
    }
   },
   "source": [
    "### Inserindo data de ingestão"
   ]
  },
  {
   "cell_type": "code",
   "execution_count": 10,
   "metadata": {
    "application/vnd.databricks.v1+cell": {
     "cellMetadata": {
      "byteLimit": 2048000,
      "rowLimit": 10000
     },
     "inputWidgets": {},
     "nuid": "c7ddde48-3e92-4f96-9815-7a42e307a81c",
     "showTitle": false,
     "title": ""
    }
   },
   "outputs": [
    {
     "name": "stdout",
     "output_type": "stream",
     "text": [
      "+----------+------------+------+-------------+----------------+----------------------+-------------------+---------------+----------------+\n",
      "|id_torneio|nome_torneio|  pais|sigla_do_pais|ano_da_temporada|dt_inicio_da_temporada|dt_fim_da_temporada|temporada_atual|data_de_ingestao|\n",
      "+----------+------------+------+-------------+----------------+----------------------+-------------------+---------------+----------------+\n",
      "|        71|     Serie A|Brazil|           BR|            2010|            2010-05-08|         2010-11-28|            Não|      2024-05-01|\n",
      "|        71|     Serie A|Brazil|           BR|            2011|            2011-05-21|         2011-12-04|            Não|      2024-05-01|\n",
      "|        71|     Serie A|Brazil|           BR|            2012|            2012-05-19|         2012-12-02|            Não|      2024-05-01|\n",
      "|        71|     Serie A|Brazil|           BR|            2013|            2013-05-25|         2013-12-08|            Não|      2024-05-01|\n",
      "|        71|     Serie A|Brazil|           BR|            2014|            2014-04-19|         2014-12-07|            Não|      2024-05-01|\n",
      "|        71|     Serie A|Brazil|           BR|            2015|            2015-05-09|         2015-12-06|            Não|      2024-05-01|\n",
      "|        71|     Serie A|Brazil|           BR|            2016|            2016-05-14|         2016-12-11|            Não|      2024-05-01|\n",
      "|        71|     Serie A|Brazil|           BR|            2017|            2017-05-13|         2017-12-03|            Não|      2024-05-01|\n",
      "|        71|     Serie A|Brazil|           BR|            2018|            2018-04-14|         2018-12-02|            Não|      2024-05-01|\n",
      "|        71|     Serie A|Brazil|           BR|            2019|            2019-04-27|         2019-12-08|            Não|      2024-05-01|\n",
      "|        71|     Serie A|Brazil|           BR|            2020|            2020-08-08|         2021-02-26|            Não|      2024-05-01|\n",
      "|        71|     Serie A|Brazil|           BR|            2021|            2021-05-29|         2021-12-10|            Não|      2024-05-01|\n",
      "|        71|     Serie A|Brazil|           BR|            2022|            2022-04-10|         2022-11-13|            Não|      2024-05-01|\n",
      "|        71|     Serie A|Brazil|           BR|            2023|            2023-04-15|         2023-12-03|            Sim|      2024-05-01|\n",
      "|        72|     Serie B|Brazil|           BR|            2012|            2012-05-19|         2012-11-24|            Não|      2024-05-01|\n",
      "|        72|     Serie B|Brazil|           BR|            2013|            2013-05-24|         2013-11-30|            Não|      2024-05-01|\n",
      "|        72|     Serie B|Brazil|           BR|            2014|            2014-04-18|         2014-11-29|            Não|      2024-05-01|\n",
      "|        72|     Serie B|Brazil|           BR|            2015|            2015-05-08|         2015-11-28|            Não|      2024-05-01|\n",
      "|        72|     Serie B|Brazil|           BR|            2016|            2016-05-13|         2016-11-26|            Não|      2024-05-01|\n",
      "|        72|     Serie B|Brazil|           BR|            2017|            2017-05-12|         2017-11-25|            Não|      2024-05-01|\n",
      "+----------+------------+------+-------------+----------------+----------------------+-------------------+---------------+----------------+\n",
      "only showing top 20 rows\n",
      "\n"
     ]
    }
   ],
   "source": [
    "# Função para adição de data de ingestão\n",
    "torneios_df = adicionar_data_de_ingestao(\n",
    "    df = torneios_df,\n",
    "    nome_coluna = 'data_de_ingestao',\n",
    "    incluir_hora = False,\n",
    "    add_tempo = -3,\n",
    "    unidade_de_medida = 'horas'\n",
    ")\n",
    "\n",
    "torneios_df.show()"
   ]
  },
  {
   "cell_type": "code",
   "execution_count": 14,
   "metadata": {},
   "outputs": [
    {
     "name": "stdout",
     "output_type": "stream",
     "text": [
      "root\n",
      " |-- id_torneio: string (nullable = true)\n",
      " |-- nome_torneio: string (nullable = true)\n",
      " |-- pais: string (nullable = true)\n",
      " |-- sigla_do_pais: string (nullable = true)\n",
      " |-- ano_da_temporada: integer (nullable = true)\n",
      " |-- dt_inicio_da_temporada: date (nullable = true)\n",
      " |-- dt_fim_da_temporada: date (nullable = true)\n",
      " |-- temporada_atual: string (nullable = false)\n",
      " |-- data_de_ingestao: date (nullable = true)\n",
      "\n"
     ]
    }
   ],
   "source": [
    "torneios_df.printSchema()"
   ]
  },
  {
   "cell_type": "markdown",
   "metadata": {
    "application/vnd.databricks.v1+cell": {
     "cellMetadata": {},
     "inputWidgets": {},
     "nuid": "0fe6d465-75e5-4139-aa12-8d6fa15bd738",
     "showTitle": false,
     "title": ""
    }
   },
   "source": [
    "### Inserindo o arquivo tratado na camada silver"
   ]
  },
  {
   "cell_type": "code",
   "execution_count": null,
   "metadata": {
    "application/vnd.databricks.v1+cell": {
     "cellMetadata": {
      "byteLimit": 2048000,
      "rowLimit": 10000
     },
     "inputWidgets": {},
     "nuid": "7e48d2f2-45ee-4737-bf24-27258999a333",
     "showTitle": false,
     "title": ""
    }
   },
   "outputs": [],
   "source": [
    "torneios_df.write.mode('overwrite').parquet(f\"{caminho_silver}/torneios.csv\")"
   ]
  }
 ],
 "metadata": {
  "application/vnd.databricks.v1+notebook": {
   "dashboards": [],
   "language": "python",
   "notebookMetadata": {
    "pythonIndentUnit": 4
   },
   "notebookName": "Ingestão de dados - torneios",
   "widgets": {}
  },
  "kernelspec": {
   "display_name": "Python 3",
   "language": "python",
   "name": "python3"
  },
  "language_info": {
   "codemirror_mode": {
    "name": "ipython",
    "version": 3
   },
   "file_extension": ".py",
   "mimetype": "text/x-python",
   "name": "python",
   "nbconvert_exporter": "python",
   "pygments_lexer": "ipython3",
   "version": "3.12.3"
  }
 },
 "nbformat": 4,
 "nbformat_minor": 0
}

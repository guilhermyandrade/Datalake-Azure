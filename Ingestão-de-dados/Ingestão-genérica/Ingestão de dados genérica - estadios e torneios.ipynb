{
 "cells": [
  {
   "cell_type": "markdown",
   "metadata": {
    "application/vnd.databricks.v1+cell": {
     "cellMetadata": {
      "byteLimit": 2048000,
      "rowLimit": 10000
     },
     "inputWidgets": {},
     "nuid": "2db67c67-14bb-4bfd-9d98-f06b48646e4c",
     "showTitle": false,
     "title": ""
    }
   },
   "source": [
    "\n",
    "### Requisitos para os arquivos .csv\n",
    "\n",
    "Objetivo: realizar processo de ETL e disponibilizar os dados em camada adequada.\n",
    "\n",
    "1. Ler o arquivo csv do Datalake [ok]\n",
    "2. Renomear colunas para português usando snake case [ok]\n",
    "3. Definir a tipagem de colunas correta [ok]\n",
    "4. Coluna com data de cosumo do arquivo [ok]\n",
    "5. Salvar dados em formato parquet na camada adequada [ok]"
   ]
  },
  {
   "cell_type": "code",
   "execution_count": 11,
   "metadata": {},
   "outputs": [],
   "source": [
    "%run ../../Configuração-e-Utilitários/Variaveis.ipynb"
   ]
  },
  {
   "cell_type": "code",
   "execution_count": 12,
   "metadata": {},
   "outputs": [],
   "source": [
    "%run ../../Configuração-e-Utilitários/Funções.ipynb"
   ]
  },
  {
   "cell_type": "markdown",
   "metadata": {},
   "source": [
    "### Obtendo valor do parâmetro do notebook"
   ]
  },
  {
   "cell_type": "code",
   "execution_count": 15,
   "metadata": {},
   "outputs": [],
   "source": [
    "dbutils.widgets.text('nome_arquivo_fonte', '')\n",
    "arquivo_fonte = dbutils.widgets.get('nome_arquivo_fonte')"
   ]
  },
  {
   "cell_type": "markdown",
   "metadata": {},
   "source": [
    "\n",
    "### Lendo os dados do arquivo"
   ]
  },
  {
   "cell_type": "code",
   "execution_count": 18,
   "metadata": {},
   "outputs": [
    {
     "name": "stdout",
     "output_type": "stream",
     "text": [
      "+-----+--------------------+--------------------+--------------------+-------+--------+-------+--------------------+\n",
      "|   id|                name|             address|                city|country|capacity|surface|               image|\n",
      "+-----+--------------------+--------------------+--------------------+-------+--------+-------+--------------------+\n",
      "|  204|Estadio Jornalist...|Rua Professor Eur...|Rio de Janeiro, R...| Brazil|   78838|  grass|https://media-2.a...|\n",
      "|  216|    Arena Fonte Nova|Rua Lions Club, N...|     Salvador, Bahia| Brazil|   56500|  grass|https://media-1.a...|\n",
      "|  244|Estádio José Pinh...|Avenida Padre Cac...|Porto Alegre, Rio...| Brazil|   50128|  grass|https://media-3.a...|\n",
      "|  218|Estádio Nilton Sa...|Rua Arquias Corde...|      Rio de Janeiro| Brazil|   46931|  grass|https://media-1.a...|\n",
      "|  258|      Allianz Parque|Rua Turiaçu 1840,...|São Paulo, São Paulo| Brazil|   43713|  grass|https://media-2.a...|\n",
      "|  259|Estádio Durival d...|Rua Engenheiro Re...|    Curitiba, Paraná| Brazil|   20083|  grass|https://media-2.a...|\n",
      "|  276|Estádio Adelmar d...|   Praça da Bandeira|  Recife, Pernambuco| Brazil|   32983|  grass|https://media-2.a...|\n",
      "|  206|Estádio Raimundo ...|Avenida Ismênia T...|Belo Horizonte, M...| Brazil|   23018|  grass|https://media-1.a...|\n",
      "|  269|Estádio Cícero Po...|Praca Roberto Gom...|São Paulo, São Paulo| Brazil|   66795|  grass|https://media-3.a...|\n",
      "|10494|Estádio Urbano Ca...|Rue Princesa Isab...|   Santos, São Paulo| Brazil|   21256|  grass|https://media-2.a...|\n",
      "|  225|Estádio Governado...|Avenida Alberto C...|    Fortaleza, Ceará| Brazil|   63903|  grass|https://media-2.a...|\n",
      "|  241|     Arena do Grêmio|      Bairro Humaitá|Porto Alegre, Rio...| Brazil|   60540|  grass|https://media-2.a...|\n",
      "|11531|   Neo Química Arena|Avenida Miguel In...|São Paulo, São Paulo| Brazil|   49205|  grass|https://media-2.a...|\n",
      "|  227|         Arena Condá|Rua Clevelândia, ...|Chapecó, Santa Ca...| Brazil|   22600|  grass|https://media-2.a...|\n",
      "|19377|Estádio São Januário|Rua Gal Almério d...|Rio de Janeiro, R...| Brazil|   24584|  grass|https://media-3.a...|\n",
      "|10493|    Arena da Baixada|Rua Buenos Aires ...|    Curitiba, Paraná| Brazil|   43981|  grass|https://media-2.a...|\n",
      "|  234|Estádio Governado...|Avenida Antonio A...|Belo Horizonte, M...| Brazil|   62170|  grass|https://media-1.a...|\n",
      "|  281|Estádio Manoel Ba...|Rua Artêmio Castr...|     Salvador, Bahia| Brazil|   35980|  grass|https://media-3.a...|\n",
      "| 7126|Estádio Orlando S...|Rua Humaitá 194, ...|Florianópolis, Sa...| Brazil|   19584|  grass|https://media-1.a...|\n",
      "|  242|Estádio Brinco de...|Avenida Imperatri...| Campinas, São Paulo| Brazil|   29130|  grass|https://media-1.a...|\n",
      "+-----+--------------------+--------------------+--------------------+-------+--------+-------+--------------------+\n",
      "only showing top 20 rows\n",
      "\n"
     ]
    }
   ],
   "source": [
    "df = (spark.read\n",
    "               .option(\"encoding\", \"UTF-16\")\n",
    "               .option(\"header\", \"true\") # Detecção do cabeçalho\n",
    "               .option(\"inferSchema\", \"true\") # Detecção do tipo de dados\n",
    "               .csv(f\"{caminho_bronze}/{arquivo_fonte}.csv\") # Caminho do arquivo\n",
    ")\n",
    "df.show()"
   ]
  },
  {
   "cell_type": "code",
   "execution_count": 19,
   "metadata": {
    "application/vnd.databricks.v1+cell": {
     "cellMetadata": {
      "byteLimit": 2048000,
      "rowLimit": 10000
     },
     "inputWidgets": {},
     "nuid": "ab58ce06-11e4-42a6-a48e-e813aee47c55",
     "showTitle": false,
     "title": ""
    }
   },
   "outputs": [
    {
     "name": "stdout",
     "output_type": "stream",
     "text": [
      "root\n",
      " |-- id: string (nullable = true)\n",
      " |-- name: string (nullable = true)\n",
      " |-- address: string (nullable = true)\n",
      " |-- city: string (nullable = true)\n",
      " |-- country: string (nullable = true)\n",
      " |-- capacity: integer (nullable = true)\n",
      " |-- surface: string (nullable = true)\n",
      " |-- image: string (nullable = true)\n",
      "\n"
     ]
    }
   ],
   "source": [
    "df.printSchema()"
   ]
  },
  {
   "cell_type": "markdown",
   "metadata": {
    "application/vnd.databricks.v1+cell": {
     "cellMetadata": {},
     "inputWidgets": {},
     "nuid": "41a6c58b-fa39-4ec9-a73c-cb34195be12f",
     "showTitle": false,
     "title": ""
    }
   },
   "source": [
    "### Renomeando colunas para português e alterando valores"
   ]
  },
  {
   "cell_type": "code",
   "execution_count": 20,
   "metadata": {
    "application/vnd.databricks.v1+cell": {
     "cellMetadata": {
      "byteLimit": 2048000,
      "rowLimit": 10000
     },
     "inputWidgets": {},
     "nuid": "fb7edf06-c62a-4734-8331-9cbb7516efb0",
     "showTitle": false,
     "title": ""
    }
   },
   "outputs": [
    {
     "name": "stdout",
     "output_type": "stream",
     "text": [
      "+----------+--------------------+--------------------+--------------------+------+----------+----------+--------------------+\n",
      "|id_estadio|          nm_estadio|            endereço|              cidade|  pais|capacidade|superficie|         link_imagem|\n",
      "+----------+--------------------+--------------------+--------------------+------+----------+----------+--------------------+\n",
      "|       204|Estadio Jornalist...|Rua Professor Eur...|Rio de Janeiro, R...|Brazil|     78838|     grass|https://media-2.a...|\n",
      "|       216|    Arena Fonte Nova|Rua Lions Club, N...|     Salvador, Bahia|Brazil|     56500|     grass|https://media-1.a...|\n",
      "|       244|Estádio José Pinh...|Avenida Padre Cac...|Porto Alegre, Rio...|Brazil|     50128|     grass|https://media-3.a...|\n",
      "|       218|Estádio Nilton Sa...|Rua Arquias Corde...|      Rio de Janeiro|Brazil|     46931|     grass|https://media-1.a...|\n",
      "|       258|      Allianz Parque|Rua Turiaçu 1840,...|São Paulo, São Paulo|Brazil|     43713|     grass|https://media-2.a...|\n",
      "|       259|Estádio Durival d...|Rua Engenheiro Re...|    Curitiba, Paraná|Brazil|     20083|     grass|https://media-2.a...|\n",
      "|       276|Estádio Adelmar d...|   Praça da Bandeira|  Recife, Pernambuco|Brazil|     32983|     grass|https://media-2.a...|\n",
      "|       206|Estádio Raimundo ...|Avenida Ismênia T...|Belo Horizonte, M...|Brazil|     23018|     grass|https://media-1.a...|\n",
      "|       269|Estádio Cícero Po...|Praca Roberto Gom...|São Paulo, São Paulo|Brazil|     66795|     grass|https://media-3.a...|\n",
      "|     10494|Estádio Urbano Ca...|Rue Princesa Isab...|   Santos, São Paulo|Brazil|     21256|     grass|https://media-2.a...|\n",
      "|       225|Estádio Governado...|Avenida Alberto C...|    Fortaleza, Ceará|Brazil|     63903|     grass|https://media-2.a...|\n",
      "|       241|     Arena do Grêmio|      Bairro Humaitá|Porto Alegre, Rio...|Brazil|     60540|     grass|https://media-2.a...|\n",
      "|     11531|   Neo Química Arena|Avenida Miguel In...|São Paulo, São Paulo|Brazil|     49205|     grass|https://media-2.a...|\n",
      "|       227|         Arena Condá|Rua Clevelândia, ...|Chapecó, Santa Ca...|Brazil|     22600|     grass|https://media-2.a...|\n",
      "|     19377|Estádio São Januário|Rua Gal Almério d...|Rio de Janeiro, R...|Brazil|     24584|     grass|https://media-3.a...|\n",
      "|     10493|    Arena da Baixada|Rua Buenos Aires ...|    Curitiba, Paraná|Brazil|     43981|     grass|https://media-2.a...|\n",
      "|       234|Estádio Governado...|Avenida Antonio A...|Belo Horizonte, M...|Brazil|     62170|     grass|https://media-1.a...|\n",
      "|       281|Estádio Manoel Ba...|Rua Artêmio Castr...|     Salvador, Bahia|Brazil|     35980|     grass|https://media-3.a...|\n",
      "|      7126|Estádio Orlando S...|Rua Humaitá 194, ...|Florianópolis, Sa...|Brazil|     19584|     grass|https://media-1.a...|\n",
      "|       242|Estádio Brinco de...|Avenida Imperatri...| Campinas, São Paulo|Brazil|     29130|     grass|https://media-1.a...|\n",
      "+----------+--------------------+--------------------+--------------------+------+----------+----------+--------------------+\n",
      "only showing top 20 rows\n",
      "\n"
     ]
    }
   ],
   "source": [
    "if arquivo_fonte == 'estadios':\n",
    "    df = df \\\n",
    "        .withColumnRenamed(\"id\", \"id_estadio\") \\\n",
    "        .withColumnRenamed(\"name\", \"nm_estadio\") \\\n",
    "        .withColumnRenamed(\"address\", \"endereço\") \\\n",
    "        .withColumnRenamed(\"city\", \"cidade\") \\\n",
    "        .withColumnRenamed(\"country\", \"pais\") \\\n",
    "        .withColumnRenamed(\"capacity\", \"capacidade\") \\\n",
    "        .withColumnRenamed(\"surface\", \"superficie\") \\\n",
    "        .withColumnRenamed(\"image\", \"link_imagem\")\n",
    "\n",
    "elif arquivo_fonte == 'torneios':\n",
    "\n",
    "    from pyspark.sql.functions import when, substring\n",
    "\n",
    "    df = df \\\n",
    "        .withColumnRenamed(\"league_id\", \"id_torneio\") \\\n",
    "        .withColumnRenamed(\"league_name\", \"nome_torneio\") \\\n",
    "        .withColumnRenamed(\"country_name\", \"pais\") \\\n",
    "        .withColumnRenamed(\"country_code\", \"sigla_do_pais\") \\\n",
    "        .withColumnRenamed(\"season_year\", \"ano_da_temporada\") \\\n",
    "        .withColumnRenamed(\"season_start\", \"dt_inicio_da_temporada\") \\\n",
    "        .withColumnRenamed(\"season_end\", \"dt_fim_da_temporada\") \\\n",
    "        .withColumnRenamed(\"season_current\", \"temporada_atual\")\n",
    "    \n",
    "    df = df.withColumn('temporada_atual', df.temporada_atual.cast('string'))\n",
    "    df = df.withColumn('temporada_atual', when(substring(df.temporada_atual, 1, 1) == 'T', 'Sim').otherwise('Não'))\n",
    "\n",
    "df.show()"
   ]
  },
  {
   "cell_type": "markdown",
   "metadata": {
    "application/vnd.databricks.v1+cell": {
     "cellMetadata": {},
     "inputWidgets": {},
     "nuid": "388521fc-967b-4f84-a155-a8e2d3082c3c",
     "showTitle": false,
     "title": ""
    }
   },
   "source": [
    "### Inserindo data de ingestão"
   ]
  },
  {
   "cell_type": "code",
   "execution_count": 27,
   "metadata": {
    "application/vnd.databricks.v1+cell": {
     "cellMetadata": {
      "byteLimit": 2048000,
      "rowLimit": 10000
     },
     "inputWidgets": {},
     "nuid": "c7ddde48-3e92-4f96-9815-7a42e307a81c",
     "showTitle": false,
     "title": ""
    }
   },
   "outputs": [
    {
     "name": "stdout",
     "output_type": "stream",
     "text": [
      "+----------+--------------------+--------------------+--------------------+------+----------+----------+--------------------+----------------+\n",
      "|id_estadio|          nm_estadio|            endereço|              cidade|  pais|capacidade|superficie|         link_imagem|data_de_ingestao|\n",
      "+----------+--------------------+--------------------+--------------------+------+----------+----------+--------------------+----------------+\n",
      "|       204|Estadio Jornalist...|Rua Professor Eur...|Rio de Janeiro, R...|Brazil|     78838|     grass|https://media-2.a...|      2024-05-01|\n",
      "|       216|    Arena Fonte Nova|Rua Lions Club, N...|     Salvador, Bahia|Brazil|     56500|     grass|https://media-1.a...|      2024-05-01|\n",
      "|       244|Estádio José Pinh...|Avenida Padre Cac...|Porto Alegre, Rio...|Brazil|     50128|     grass|https://media-3.a...|      2024-05-01|\n",
      "|       218|Estádio Nilton Sa...|Rua Arquias Corde...|      Rio de Janeiro|Brazil|     46931|     grass|https://media-1.a...|      2024-05-01|\n",
      "|       258|      Allianz Parque|Rua Turiaçu 1840,...|São Paulo, São Paulo|Brazil|     43713|     grass|https://media-2.a...|      2024-05-01|\n",
      "|       259|Estádio Durival d...|Rua Engenheiro Re...|    Curitiba, Paraná|Brazil|     20083|     grass|https://media-2.a...|      2024-05-01|\n",
      "|       276|Estádio Adelmar d...|   Praça da Bandeira|  Recife, Pernambuco|Brazil|     32983|     grass|https://media-2.a...|      2024-05-01|\n",
      "|       206|Estádio Raimundo ...|Avenida Ismênia T...|Belo Horizonte, M...|Brazil|     23018|     grass|https://media-1.a...|      2024-05-01|\n",
      "|       269|Estádio Cícero Po...|Praca Roberto Gom...|São Paulo, São Paulo|Brazil|     66795|     grass|https://media-3.a...|      2024-05-01|\n",
      "|     10494|Estádio Urbano Ca...|Rue Princesa Isab...|   Santos, São Paulo|Brazil|     21256|     grass|https://media-2.a...|      2024-05-01|\n",
      "|       225|Estádio Governado...|Avenida Alberto C...|    Fortaleza, Ceará|Brazil|     63903|     grass|https://media-2.a...|      2024-05-01|\n",
      "|       241|     Arena do Grêmio|      Bairro Humaitá|Porto Alegre, Rio...|Brazil|     60540|     grass|https://media-2.a...|      2024-05-01|\n",
      "|     11531|   Neo Química Arena|Avenida Miguel In...|São Paulo, São Paulo|Brazil|     49205|     grass|https://media-2.a...|      2024-05-01|\n",
      "|       227|         Arena Condá|Rua Clevelândia, ...|Chapecó, Santa Ca...|Brazil|     22600|     grass|https://media-2.a...|      2024-05-01|\n",
      "|     19377|Estádio São Januário|Rua Gal Almério d...|Rio de Janeiro, R...|Brazil|     24584|     grass|https://media-3.a...|      2024-05-01|\n",
      "|     10493|    Arena da Baixada|Rua Buenos Aires ...|    Curitiba, Paraná|Brazil|     43981|     grass|https://media-2.a...|      2024-05-01|\n",
      "|       234|Estádio Governado...|Avenida Antonio A...|Belo Horizonte, M...|Brazil|     62170|     grass|https://media-1.a...|      2024-05-01|\n",
      "|       281|Estádio Manoel Ba...|Rua Artêmio Castr...|     Salvador, Bahia|Brazil|     35980|     grass|https://media-3.a...|      2024-05-01|\n",
      "|      7126|Estádio Orlando S...|Rua Humaitá 194, ...|Florianópolis, Sa...|Brazil|     19584|     grass|https://media-1.a...|      2024-05-01|\n",
      "|       242|Estádio Brinco de...|Avenida Imperatri...| Campinas, São Paulo|Brazil|     29130|     grass|https://media-1.a...|      2024-05-01|\n",
      "+----------+--------------------+--------------------+--------------------+------+----------+----------+--------------------+----------------+\n",
      "only showing top 20 rows\n",
      "\n"
     ]
    }
   ],
   "source": [
    "# Função para adição de data de ingestão\n",
    "df = adicionar_data_de_ingestao(\n",
    "    df = df,\n",
    "    nome_coluna = 'data_de_ingestao',\n",
    "    incluir_hora = False,\n",
    "    add_tempo = -3,\n",
    "    unidade_de_medida = 'horas'\n",
    ")\n",
    "\n",
    "df.show()"
   ]
  },
  {
   "cell_type": "code",
   "execution_count": 28,
   "metadata": {},
   "outputs": [
    {
     "name": "stdout",
     "output_type": "stream",
     "text": [
      "root\n",
      " |-- id_estadio: string (nullable = true)\n",
      " |-- nm_estadio: string (nullable = true)\n",
      " |-- endereço: string (nullable = true)\n",
      " |-- cidade: string (nullable = true)\n",
      " |-- pais: string (nullable = true)\n",
      " |-- capacidade: integer (nullable = true)\n",
      " |-- superficie: string (nullable = true)\n",
      " |-- link_imagem: string (nullable = true)\n",
      " |-- data_de_ingestao: date (nullable = true)\n",
      "\n"
     ]
    }
   ],
   "source": [
    "df.printSchema()"
   ]
  },
  {
   "cell_type": "markdown",
   "metadata": {
    "application/vnd.databricks.v1+cell": {
     "cellMetadata": {},
     "inputWidgets": {},
     "nuid": "0fe6d465-75e5-4139-aa12-8d6fa15bd738",
     "showTitle": false,
     "title": ""
    }
   },
   "source": [
    "### Inserindo o arquivo tratado na camada silver"
   ]
  },
  {
   "cell_type": "code",
   "execution_count": 23,
   "metadata": {
    "application/vnd.databricks.v1+cell": {
     "cellMetadata": {
      "byteLimit": 2048000,
      "rowLimit": 10000
     },
     "inputWidgets": {},
     "nuid": "7e48d2f2-45ee-4737-bf24-27258999a333",
     "showTitle": false,
     "title": ""
    }
   },
   "outputs": [],
   "source": [
    "df.write.mode('overwrite').parquet(f\"{caminho_silver}/{arquivo_fonte}\")"
   ]
  },
  {
   "cell_type": "code",
   "execution_count": 24,
   "metadata": {},
   "outputs": [],
   "source": [
    "dbutils.notebook.exit(f'Arquivo {arquivo_fonte} foi processado e carregado na camada silver.')"
   ]
  }
 ],
 "metadata": {
  "application/vnd.databricks.v1+notebook": {
   "dashboards": [],
   "language": "python",
   "notebookMetadata": {
    "pythonIndentUnit": 4
   },
   "notebookName": "Ingestão de dados - torneios",
   "widgets": {}
  },
  "kernelspec": {
   "display_name": "Python 3",
   "language": "python",
   "name": "python3"
  },
  "language_info": {
   "codemirror_mode": {
    "name": "ipython",
    "version": 3
   },
   "file_extension": ".py",
   "mimetype": "text/x-python",
   "name": "python",
   "nbconvert_exporter": "python",
   "pygments_lexer": "ipython3",
   "version": "3.12.3"
  }
 },
 "nbformat": 4,
 "nbformat_minor": 0
}

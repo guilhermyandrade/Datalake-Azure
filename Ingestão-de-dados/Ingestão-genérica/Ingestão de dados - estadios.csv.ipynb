{
 "cells": [
  {
   "cell_type": "markdown",
   "metadata": {
    "application/vnd.databricks.v1+cell": {
     "cellMetadata": {
      "byteLimit": 2048000,
      "rowLimit": 10000
     },
     "inputWidgets": {},
     "nuid": "03437101-ea0f-475b-82ae-a1f936d8fcc0",
     "showTitle": false,
     "title": ""
    }
   },
   "source": [
    "\n",
    "### Requisitos para o arquivo estadios.csv\n",
    "\n",
    "Objetivo: realizar processo de ETL e disponibilizar os dados em camada adequada.\n",
    "\n",
    "1. Ler o arquivo csv do Datalake [ok]\n",
    "2. Renomear colunas para português usando snake case [ok]\n",
    "3. Definir a tipagem de colunas correta [ok]\n",
    "4. Coluna com data de cosumo do arquivo [ok]\n",
    "5. Salvar dados em formato parquet na camada adequada [ok]"
   ]
  },
  {
   "cell_type": "code",
   "execution_count": 1,
   "metadata": {},
   "outputs": [],
   "source": [
    "%run ../../Configuração-e-Utilitários/Variaveis.ipynb"
   ]
  },
  {
   "cell_type": "code",
   "execution_count": 2,
   "metadata": {},
   "outputs": [],
   "source": [
    "%run ../../Configuração-e-Utilitários/Funções.ipynb"
   ]
  },
  {
   "cell_type": "markdown",
   "metadata": {
    "application/vnd.databricks.v1+cell": {
     "cellMetadata": {
      "byteLimit": 2048000,
      "rowLimit": 10000
     },
     "inputWidgets": {},
     "nuid": "2e933a92-16db-45b5-8317-83e30e7b82b0",
     "showTitle": false,
     "title": ""
    }
   },
   "source": [
    "\n",
    "### Lendo os dados do arquivo"
   ]
  },
  {
   "cell_type": "code",
   "execution_count": 5,
   "metadata": {
    "application/vnd.databricks.v1+cell": {
     "cellMetadata": {
      "byteLimit": 2048000,
      "rowLimit": 10000
     },
     "inputWidgets": {},
     "nuid": "86f6eb0b-8838-4945-b48f-df662643ae31",
     "showTitle": false,
     "title": ""
    }
   },
   "outputs": [
    {
     "name": "stdout",
     "output_type": "stream",
     "text": [
      "+-----+--------------------+--------------------+--------------------+-------+--------+-------+--------------------+\n",
      "|   id|                name|             address|                city|country|capacity|surface|               image|\n",
      "+-----+--------------------+--------------------+--------------------+-------+--------+-------+--------------------+\n",
      "|  204|Estadio Jornalist...|Rua Professor Eur...|Rio de Janeiro, R...| Brazil|   78838|  grass|https://media-2.a...|\n",
      "|  216|    Arena Fonte Nova|Rua Lions Club, N...|     Salvador, Bahia| Brazil|   56500|  grass|https://media-1.a...|\n",
      "|  244|Estádio José Pinh...|Avenida Padre Cac...|Porto Alegre, Rio...| Brazil|   50128|  grass|https://media-3.a...|\n",
      "|  218|Estádio Nilton Sa...|Rua Arquias Corde...|      Rio de Janeiro| Brazil|   46931|  grass|https://media-1.a...|\n",
      "|  258|      Allianz Parque|Rua Turiaçu 1840,...|São Paulo, São Paulo| Brazil|   43713|  grass|https://media-2.a...|\n",
      "|  259|Estádio Durival d...|Rua Engenheiro Re...|    Curitiba, Paraná| Brazil|   20083|  grass|https://media-2.a...|\n",
      "|  276|Estádio Adelmar d...|   Praça da Bandeira|  Recife, Pernambuco| Brazil|   32983|  grass|https://media-2.a...|\n",
      "|  206|Estádio Raimundo ...|Avenida Ismênia T...|Belo Horizonte, M...| Brazil|   23018|  grass|https://media-1.a...|\n",
      "|  269|Estádio Cícero Po...|Praca Roberto Gom...|São Paulo, São Paulo| Brazil|   66795|  grass|https://media-3.a...|\n",
      "|10494|Estádio Urbano Ca...|Rue Princesa Isab...|   Santos, São Paulo| Brazil|   21256|  grass|https://media-2.a...|\n",
      "|  225|Estádio Governado...|Avenida Alberto C...|    Fortaleza, Ceará| Brazil|   63903|  grass|https://media-2.a...|\n",
      "|  241|     Arena do Grêmio|      Bairro Humaitá|Porto Alegre, Rio...| Brazil|   60540|  grass|https://media-2.a...|\n",
      "|11531|   Neo Química Arena|Avenida Miguel In...|São Paulo, São Paulo| Brazil|   49205|  grass|https://media-2.a...|\n",
      "|  227|         Arena Condá|Rua Clevelândia, ...|Chapecó, Santa Ca...| Brazil|   22600|  grass|https://media-2.a...|\n",
      "|19377|Estádio São Januário|Rua Gal Almério d...|Rio de Janeiro, R...| Brazil|   24584|  grass|https://media-3.a...|\n",
      "|10493|    Arena da Baixada|Rua Buenos Aires ...|    Curitiba, Paraná| Brazil|   43981|  grass|https://media-2.a...|\n",
      "|  234|Estádio Governado...|Avenida Antonio A...|Belo Horizonte, M...| Brazil|   62170|  grass|https://media-1.a...|\n",
      "|  281|Estádio Manoel Ba...|Rua Artêmio Castr...|     Salvador, Bahia| Brazil|   35980|  grass|https://media-3.a...|\n",
      "| 7126|Estádio Orlando S...|Rua Humaitá 194, ...|Florianópolis, Sa...| Brazil|   19584|  grass|https://media-1.a...|\n",
      "|  242|Estádio Brinco de...|Avenida Imperatri...| Campinas, São Paulo| Brazil|   29130|  grass|https://media-1.a...|\n",
      "+-----+--------------------+--------------------+--------------------+-------+--------+-------+--------------------+\n",
      "only showing top 20 rows\n",
      "\n"
     ]
    }
   ],
   "source": [
    "estadios_df = (spark.read\n",
    "               .option(\"encoding\", \"UTF-16\")\n",
    "               .option(\"header\", \"true\") # Detecção do cabeçalho\n",
    "               .option(\"inferSchema\", \"true\") # Detecção do tipo de dados\n",
    "               .csv(f\"{caminho_bronze}/estadios.csv\") # Caminho do arquivo\n",
    ")\n",
    "estadios_df.show()"
   ]
  },
  {
   "cell_type": "code",
   "execution_count": 6,
   "metadata": {
    "application/vnd.databricks.v1+cell": {
     "cellMetadata": {
      "byteLimit": 2048000,
      "rowLimit": 10000
     },
     "inputWidgets": {},
     "nuid": "fc715078-3b62-4228-be5e-9a38ffb6d7c9",
     "showTitle": false,
     "title": ""
    }
   },
   "outputs": [
    {
     "name": "stdout",
     "output_type": "stream",
     "text": [
      "root\n",
      " |-- id: string (nullable = true)\n",
      " |-- name: string (nullable = true)\n",
      " |-- address: string (nullable = true)\n",
      " |-- city: string (nullable = true)\n",
      " |-- country: string (nullable = true)\n",
      " |-- capacity: integer (nullable = true)\n",
      " |-- surface: string (nullable = true)\n",
      " |-- image: string (nullable = true)\n",
      "\n"
     ]
    }
   ],
   "source": [
    "estadios_df.printSchema()"
   ]
  },
  {
   "cell_type": "markdown",
   "metadata": {
    "application/vnd.databricks.v1+cell": {
     "cellMetadata": {
      "byteLimit": 2048000,
      "rowLimit": 10000
     },
     "inputWidgets": {},
     "nuid": "33d857e5-7cc6-4d6a-9d94-62ebed4f91f4",
     "showTitle": false,
     "title": ""
    }
   },
   "source": [
    "### Renomeando as colunas"
   ]
  },
  {
   "cell_type": "code",
   "execution_count": 7,
   "metadata": {
    "application/vnd.databricks.v1+cell": {
     "cellMetadata": {
      "byteLimit": 2048000,
      "rowLimit": 10000
     },
     "inputWidgets": {},
     "nuid": "b444ef47-2415-4dd3-98b9-95ae52a73775",
     "showTitle": false,
     "title": ""
    }
   },
   "outputs": [
    {
     "name": "stdout",
     "output_type": "stream",
     "text": [
      "+----------+--------------------+--------------------+--------------------+------+----------+----------+--------------------+\n",
      "|id_estadio|          nm_estadio|            endereço|              cidade|  pais|capacidade|superficie|         link_imagem|\n",
      "+----------+--------------------+--------------------+--------------------+------+----------+----------+--------------------+\n",
      "|       204|Estadio Jornalist...|Rua Professor Eur...|Rio de Janeiro, R...|Brazil|     78838|     grass|https://media-2.a...|\n",
      "|       216|    Arena Fonte Nova|Rua Lions Club, N...|     Salvador, Bahia|Brazil|     56500|     grass|https://media-1.a...|\n",
      "|       244|Estádio José Pinh...|Avenida Padre Cac...|Porto Alegre, Rio...|Brazil|     50128|     grass|https://media-3.a...|\n",
      "|       218|Estádio Nilton Sa...|Rua Arquias Corde...|      Rio de Janeiro|Brazil|     46931|     grass|https://media-1.a...|\n",
      "|       258|      Allianz Parque|Rua Turiaçu 1840,...|São Paulo, São Paulo|Brazil|     43713|     grass|https://media-2.a...|\n",
      "|       259|Estádio Durival d...|Rua Engenheiro Re...|    Curitiba, Paraná|Brazil|     20083|     grass|https://media-2.a...|\n",
      "|       276|Estádio Adelmar d...|   Praça da Bandeira|  Recife, Pernambuco|Brazil|     32983|     grass|https://media-2.a...|\n",
      "|       206|Estádio Raimundo ...|Avenida Ismênia T...|Belo Horizonte, M...|Brazil|     23018|     grass|https://media-1.a...|\n",
      "|       269|Estádio Cícero Po...|Praca Roberto Gom...|São Paulo, São Paulo|Brazil|     66795|     grass|https://media-3.a...|\n",
      "|     10494|Estádio Urbano Ca...|Rue Princesa Isab...|   Santos, São Paulo|Brazil|     21256|     grass|https://media-2.a...|\n",
      "|       225|Estádio Governado...|Avenida Alberto C...|    Fortaleza, Ceará|Brazil|     63903|     grass|https://media-2.a...|\n",
      "|       241|     Arena do Grêmio|      Bairro Humaitá|Porto Alegre, Rio...|Brazil|     60540|     grass|https://media-2.a...|\n",
      "|     11531|   Neo Química Arena|Avenida Miguel In...|São Paulo, São Paulo|Brazil|     49205|     grass|https://media-2.a...|\n",
      "|       227|         Arena Condá|Rua Clevelândia, ...|Chapecó, Santa Ca...|Brazil|     22600|     grass|https://media-2.a...|\n",
      "|     19377|Estádio São Januário|Rua Gal Almério d...|Rio de Janeiro, R...|Brazil|     24584|     grass|https://media-3.a...|\n",
      "|     10493|    Arena da Baixada|Rua Buenos Aires ...|    Curitiba, Paraná|Brazil|     43981|     grass|https://media-2.a...|\n",
      "|       234|Estádio Governado...|Avenida Antonio A...|Belo Horizonte, M...|Brazil|     62170|     grass|https://media-1.a...|\n",
      "|       281|Estádio Manoel Ba...|Rua Artêmio Castr...|     Salvador, Bahia|Brazil|     35980|     grass|https://media-3.a...|\n",
      "|      7126|Estádio Orlando S...|Rua Humaitá 194, ...|Florianópolis, Sa...|Brazil|     19584|     grass|https://media-1.a...|\n",
      "|       242|Estádio Brinco de...|Avenida Imperatri...| Campinas, São Paulo|Brazil|     29130|     grass|https://media-1.a...|\n",
      "+----------+--------------------+--------------------+--------------------+------+----------+----------+--------------------+\n",
      "only showing top 20 rows\n",
      "\n"
     ]
    }
   ],
   "source": [
    "estadios_df = estadios_df \\\n",
    "  .withColumnRenamed(\"id\", \"id_estadio\") \\\n",
    "  .withColumnRenamed(\"name\", \"nm_estadio\") \\\n",
    "  .withColumnRenamed(\"address\", \"endereço\") \\\n",
    "  .withColumnRenamed(\"city\", \"cidade\") \\\n",
    "  .withColumnRenamed(\"country\", \"pais\") \\\n",
    "  .withColumnRenamed(\"capacity\", \"capacidade\") \\\n",
    "  .withColumnRenamed(\"surface\", \"superficie\") \\\n",
    "  .withColumnRenamed(\"image\", \"link_imagem\") \\\n",
    "\n",
    "estadios_df.show()\n"
   ]
  },
  {
   "cell_type": "markdown",
   "metadata": {
    "application/vnd.databricks.v1+cell": {
     "cellMetadata": {
      "byteLimit": 2048000,
      "rowLimit": 10000
     },
     "inputWidgets": {},
     "nuid": "cbe82474-da99-4ead-a0ac-5d3f4fce9fba",
     "showTitle": false,
     "title": ""
    }
   },
   "source": [
    "### Criando coluna de data de consumo"
   ]
  },
  {
   "cell_type": "code",
   "execution_count": 8,
   "metadata": {
    "application/vnd.databricks.v1+cell": {
     "cellMetadata": {
      "byteLimit": 2048000,
      "rowLimit": 10000
     },
     "inputWidgets": {},
     "nuid": "e194e634-7dc6-463e-a143-4d5815d0f1f4",
     "showTitle": false,
     "title": ""
    }
   },
   "outputs": [
    {
     "name": "stdout",
     "output_type": "stream",
     "text": [
      "+----------+--------------------+--------------------+--------------------+------+----------+----------+--------------------+----------------+\n",
      "|id_estadio|          nm_estadio|            endereço|              cidade|  pais|capacidade|superficie|         link_imagem|data_de_ingestao|\n",
      "+----------+--------------------+--------------------+--------------------+------+----------+----------+--------------------+----------------+\n",
      "|       204|Estadio Jornalist...|Rua Professor Eur...|Rio de Janeiro, R...|Brazil|     78838|     grass|https://media-2.a...|      2024-05-04|\n",
      "|       216|    Arena Fonte Nova|Rua Lions Club, N...|     Salvador, Bahia|Brazil|     56500|     grass|https://media-1.a...|      2024-05-04|\n",
      "|       244|Estádio José Pinh...|Avenida Padre Cac...|Porto Alegre, Rio...|Brazil|     50128|     grass|https://media-3.a...|      2024-05-04|\n",
      "|       218|Estádio Nilton Sa...|Rua Arquias Corde...|      Rio de Janeiro|Brazil|     46931|     grass|https://media-1.a...|      2024-05-04|\n",
      "|       258|      Allianz Parque|Rua Turiaçu 1840,...|São Paulo, São Paulo|Brazil|     43713|     grass|https://media-2.a...|      2024-05-04|\n",
      "|       259|Estádio Durival d...|Rua Engenheiro Re...|    Curitiba, Paraná|Brazil|     20083|     grass|https://media-2.a...|      2024-05-04|\n",
      "|       276|Estádio Adelmar d...|   Praça da Bandeira|  Recife, Pernambuco|Brazil|     32983|     grass|https://media-2.a...|      2024-05-04|\n",
      "|       206|Estádio Raimundo ...|Avenida Ismênia T...|Belo Horizonte, M...|Brazil|     23018|     grass|https://media-1.a...|      2024-05-04|\n",
      "|       269|Estádio Cícero Po...|Praca Roberto Gom...|São Paulo, São Paulo|Brazil|     66795|     grass|https://media-3.a...|      2024-05-04|\n",
      "|     10494|Estádio Urbano Ca...|Rue Princesa Isab...|   Santos, São Paulo|Brazil|     21256|     grass|https://media-2.a...|      2024-05-04|\n",
      "|       225|Estádio Governado...|Avenida Alberto C...|    Fortaleza, Ceará|Brazil|     63903|     grass|https://media-2.a...|      2024-05-04|\n",
      "|       241|     Arena do Grêmio|      Bairro Humaitá|Porto Alegre, Rio...|Brazil|     60540|     grass|https://media-2.a...|      2024-05-04|\n",
      "|     11531|   Neo Química Arena|Avenida Miguel In...|São Paulo, São Paulo|Brazil|     49205|     grass|https://media-2.a...|      2024-05-04|\n",
      "|       227|         Arena Condá|Rua Clevelândia, ...|Chapecó, Santa Ca...|Brazil|     22600|     grass|https://media-2.a...|      2024-05-04|\n",
      "|     19377|Estádio São Januário|Rua Gal Almério d...|Rio de Janeiro, R...|Brazil|     24584|     grass|https://media-3.a...|      2024-05-04|\n",
      "|     10493|    Arena da Baixada|Rua Buenos Aires ...|    Curitiba, Paraná|Brazil|     43981|     grass|https://media-2.a...|      2024-05-04|\n",
      "|       234|Estádio Governado...|Avenida Antonio A...|Belo Horizonte, M...|Brazil|     62170|     grass|https://media-1.a...|      2024-05-04|\n",
      "|       281|Estádio Manoel Ba...|Rua Artêmio Castr...|     Salvador, Bahia|Brazil|     35980|     grass|https://media-3.a...|      2024-05-04|\n",
      "|      7126|Estádio Orlando S...|Rua Humaitá 194, ...|Florianópolis, Sa...|Brazil|     19584|     grass|https://media-1.a...|      2024-05-04|\n",
      "|       242|Estádio Brinco de...|Avenida Imperatri...| Campinas, São Paulo|Brazil|     29130|     grass|https://media-1.a...|      2024-05-04|\n",
      "+----------+--------------------+--------------------+--------------------+------+----------+----------+--------------------+----------------+\n",
      "only showing top 20 rows\n",
      "\n"
     ]
    }
   ],
   "source": [
    "# Função para adição de data de ingestão\n",
    "estadios_df = adicionar_data_de_ingestao(\n",
    "    df = estadios_df,\n",
    "    nome_coluna = 'data_de_ingestao',\n",
    "    incluir_hora = False,\n",
    "    add_tempo = -3,\n",
    "    unidade_de_medida = 'horas'\n",
    ")\n",
    "\n",
    "estadios_df.show()"
   ]
  },
  {
   "cell_type": "code",
   "execution_count": 9,
   "metadata": {},
   "outputs": [
    {
     "name": "stdout",
     "output_type": "stream",
     "text": [
      "root\n",
      " |-- id_estadio: string (nullable = true)\n",
      " |-- nm_estadio: string (nullable = true)\n",
      " |-- endereço: string (nullable = true)\n",
      " |-- cidade: string (nullable = true)\n",
      " |-- pais: string (nullable = true)\n",
      " |-- capacidade: integer (nullable = true)\n",
      " |-- superficie: string (nullable = true)\n",
      " |-- link_imagem: string (nullable = true)\n",
      " |-- data_de_ingestao: date (nullable = true)\n",
      "\n"
     ]
    }
   ],
   "source": [
    "estadios_df.printSchema()"
   ]
  },
  {
   "cell_type": "markdown",
   "metadata": {
    "application/vnd.databricks.v1+cell": {
     "cellMetadata": {
      "byteLimit": 2048000,
      "rowLimit": 10000
     },
     "inputWidgets": {},
     "nuid": "a1f1a9fd-d439-4e5e-9d02-ad249b350396",
     "showTitle": false,
     "title": ""
    }
   },
   "source": [
    "### Salvando em formato parquet"
   ]
  },
  {
   "cell_type": "code",
   "execution_count": 12,
   "metadata": {
    "application/vnd.databricks.v1+cell": {
     "cellMetadata": {
      "byteLimit": 2048000,
      "rowLimit": 10000
     },
     "inputWidgets": {},
     "nuid": "db287d03-6a39-4639-80ad-80c7559a62c4",
     "showTitle": false,
     "title": ""
    }
   },
   "outputs": [],
   "source": [
    "estadios_df.write.mode('overwrite').parquet(f\"{caminho_silver}/estadios\")"
   ]
  }
 ],
 "metadata": {
  "application/vnd.databricks.v1+notebook": {
   "dashboards": [],
   "language": "python",
   "notebookMetadata": {
    "pythonIndentUnit": 4
   },
   "notebookName": "Ingestão de dados - estadios.csv",
   "widgets": {}
  },
  "kernelspec": {
   "display_name": ".venv",
   "language": "python",
   "name": "python3"
  },
  "language_info": {
   "codemirror_mode": {
    "name": "ipython",
    "version": 3
   },
   "file_extension": ".py",
   "mimetype": "text/x-python",
   "name": "python",
   "nbconvert_exporter": "python",
   "pygments_lexer": "ipython3",
   "version": "3.11.8"
  }
 },
 "nbformat": 4,
 "nbformat_minor": 0
}

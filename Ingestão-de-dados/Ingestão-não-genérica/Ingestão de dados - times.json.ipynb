{
 "cells": [
  {
   "cell_type": "markdown",
   "metadata": {
    "application/vnd.databricks.v1+cell": {
     "cellMetadata": {},
     "inputWidgets": {},
     "nuid": "30fce6c8-0f09-45ae-956c-0d30cd71fcc4",
     "showTitle": false,
     "title": ""
    }
   },
   "source": [
    "\n",
    "### Requisitos para o arquivo times.json\n",
    "\n",
    "Objetivo: realizar processo de ETL e disponibilizar os dados em camada adequada.\n",
    "\n",
    "1. Ler o arquivo json do Datalake [ok]\n",
    "2. Renomear colunas para português usando snake case [ok]\n",
    "3. Definir a tipagem de colunas correta (manualmente) [ok]\n",
    "4. Coluna com data de cosumo do arquivo [ok]\n",
    "5. Salvar dados em formato parquet na camada adequada [ok]"
   ]
  },
  {
   "cell_type": "code",
   "execution_count": 1,
   "metadata": {},
   "outputs": [],
   "source": [
    "%run ../../Configuração-e-Utilitários/Variaveis.ipynb"
   ]
  },
  {
   "cell_type": "code",
   "execution_count": 2,
   "metadata": {},
   "outputs": [],
   "source": [
    "%run ../../Configuração-e-Utilitários/Funções.ipynb"
   ]
  },
  {
   "cell_type": "markdown",
   "metadata": {
    "application/vnd.databricks.v1+cell": {
     "cellMetadata": {},
     "inputWidgets": {},
     "nuid": "2542c704-172b-4c77-b76b-b275560ce662",
     "showTitle": false,
     "title": ""
    }
   },
   "source": [
    "### Leitura do arquivo e definição de schema"
   ]
  },
  {
   "cell_type": "code",
   "execution_count": 5,
   "metadata": {
    "application/vnd.databricks.v1+cell": {
     "cellMetadata": {
      "byteLimit": 2048000,
      "rowLimit": 10000
     },
     "inputWidgets": {},
     "nuid": "3bee6ca9-cebf-4756-a6bb-da9fcd2db7b1",
     "showTitle": false,
     "title": ""
    }
   },
   "outputs": [
    {
     "name": "stdout",
     "output_type": "stream",
     "text": [
      "+---+-------------------+----+-------+--------+--------------------+\n",
      "| id|               name|code|founded|national|                logo|\n",
      "+---+-------------------+----+-------+--------+--------------------+\n",
      "|  6|             Brazil| BRA| 1914.0|    true|https://media-1.a...|\n",
      "|118|              Bahia| BAH| 1931.0|   false|https://media-1.a...|\n",
      "|119|      Internacional| INT| 1909.0|   false|https://media-2.a...|\n",
      "|120|           Botafogo| BOT| 1904.0|   false|https://media-2.a...|\n",
      "|121|          Palmeiras| PAL| 1914.0|   false|https://media-2.a...|\n",
      "|122|             Parana| PAR| 1989.0|   false|https://media-1.a...|\n",
      "|123|       Sport Recife| SPO| 1905.0|   false|https://media-2.a...|\n",
      "|124|         Fluminense| FLU| 1902.0|   false|https://media-1.a...|\n",
      "|125|    America Mineiro| AME| 1912.0|   false|https://media-3.a...|\n",
      "|126|          Sao Paulo| PAU| 1930.0|   false|https://media-2.a...|\n",
      "|127|           Flamengo| FLA| 1895.0|   false|https://media-2.a...|\n",
      "|128|             Santos| SAN| 1912.0|   false|https://media-2.a...|\n",
      "|129|              Ceara| CEA| 1914.0|   false|https://media-3.a...|\n",
      "|130|             Gremio| GRE| 1903.0|   false|https://media-1.a...|\n",
      "|131|        Corinthians| COR| 1910.0|   false|https://media-1.a...|\n",
      "|132|     Chapecoense-sc| CHA| 1973.0|   false|https://media-1.a...|\n",
      "|133|      Vasco DA Gama| VAS| 1898.0|   false|https://media-2.a...|\n",
      "|134|Atletico Paranaense| ATL| 1924.0|   false|https://media-2.a...|\n",
      "|135|           Cruzeiro| CRU| 1921.0|   false|https://media-3.a...|\n",
      "|136|            Vitoria| VIT| 1899.0|   false|https://media-1.a...|\n",
      "+---+-------------------+----+-------+--------+--------------------+\n",
      "only showing top 20 rows\n",
      "\n"
     ]
    }
   ],
   "source": [
    "from pyspark.sql.types import StructType, StructField, StringType, DoubleType, BooleanType\n",
    "\n",
    "# Criando o schema dos dados\n",
    "schema = StructType(\n",
    "    fields=[\n",
    "        StructField(\"id\", StringType(), False),\n",
    "        StructField(\"name\", StringType(), False),\n",
    "        StructField(\"code\", StringType(), False),\n",
    "        StructField(\"founded\", DoubleType(), False),\n",
    "        StructField(\"national\", BooleanType(), False),\n",
    "        StructField(\"logo\", StringType(), False),\n",
    "    ]\n",
    ")\n",
    "\n",
    "# Lendo o arquivo passando o schema como parâmetro\n",
    "times_df = spark.read.schema(schema).json(f\"{caminho_bronze}/times.json\")\n",
    "\n",
    "times_df.show()"
   ]
  },
  {
   "cell_type": "code",
   "execution_count": 6,
   "metadata": {},
   "outputs": [
    {
     "name": "stdout",
     "output_type": "stream",
     "text": [
      "root\n",
      " |-- id: string (nullable = true)\n",
      " |-- name: string (nullable = true)\n",
      " |-- code: string (nullable = true)\n",
      " |-- founded: integer (nullable = true)\n",
      " |-- national: boolean (nullable = true)\n",
      " |-- logo: string (nullable = true)\n",
      "\n"
     ]
    }
   ],
   "source": [
    "# Definindo o tipo da coluna founded como integer. Se transformar direto no schema, os valores da coluna são perdidos.\n",
    "times_df = times_df.withColumn(\"founded\", times_df.founded.cast(\"integer\"))\n",
    "\n",
    "times_df.printSchema()"
   ]
  },
  {
   "cell_type": "markdown",
   "metadata": {},
   "source": [
    "### Alterando valores booleanos da coluna 'national' para 'Sim'/'Não' "
   ]
  },
  {
   "cell_type": "code",
   "execution_count": 7,
   "metadata": {},
   "outputs": [
    {
     "name": "stdout",
     "output_type": "stream",
     "text": [
      "+---+-------------------+----+-------+--------+--------------------+\n",
      "| id|               name|code|founded|national|                logo|\n",
      "+---+-------------------+----+-------+--------+--------------------+\n",
      "|  6|             Brazil| BRA|   1914|     Sim|https://media-1.a...|\n",
      "|118|              Bahia| BAH|   1931|     Não|https://media-1.a...|\n",
      "|119|      Internacional| INT|   1909|     Não|https://media-2.a...|\n",
      "|120|           Botafogo| BOT|   1904|     Não|https://media-2.a...|\n",
      "|121|          Palmeiras| PAL|   1914|     Não|https://media-2.a...|\n",
      "|122|             Parana| PAR|   1989|     Não|https://media-1.a...|\n",
      "|123|       Sport Recife| SPO|   1905|     Não|https://media-2.a...|\n",
      "|124|         Fluminense| FLU|   1902|     Não|https://media-1.a...|\n",
      "|125|    America Mineiro| AME|   1912|     Não|https://media-3.a...|\n",
      "|126|          Sao Paulo| PAU|   1930|     Não|https://media-2.a...|\n",
      "|127|           Flamengo| FLA|   1895|     Não|https://media-2.a...|\n",
      "|128|             Santos| SAN|   1912|     Não|https://media-2.a...|\n",
      "|129|              Ceara| CEA|   1914|     Não|https://media-3.a...|\n",
      "|130|             Gremio| GRE|   1903|     Não|https://media-1.a...|\n",
      "|131|        Corinthians| COR|   1910|     Não|https://media-1.a...|\n",
      "|132|     Chapecoense-sc| CHA|   1973|     Não|https://media-1.a...|\n",
      "|133|      Vasco DA Gama| VAS|   1898|     Não|https://media-2.a...|\n",
      "|134|Atletico Paranaense| ATL|   1924|     Não|https://media-2.a...|\n",
      "|135|           Cruzeiro| CRU|   1921|     Não|https://media-3.a...|\n",
      "|136|            Vitoria| VIT|   1899|     Não|https://media-1.a...|\n",
      "+---+-------------------+----+-------+--------+--------------------+\n",
      "only showing top 20 rows\n",
      "\n"
     ]
    }
   ],
   "source": [
    "from pyspark.sql.functions import when\n",
    "\n",
    "times_df = times_df.withColumn('national', times_df.national.cast('string'))\n",
    "times_df = times_df.withColumn('national', when(times_df.national == 'true', 'Sim').otherwise('Não'))\n",
    "\n",
    "times_df.show()"
   ]
  },
  {
   "cell_type": "markdown",
   "metadata": {},
   "source": [
    "### Renomeando os atributos para português com uso do snake_case"
   ]
  },
  {
   "cell_type": "code",
   "execution_count": 10,
   "metadata": {},
   "outputs": [
    {
     "name": "stdout",
     "output_type": "stream",
     "text": [
      "+-------+-------------------+-----+---------------+---------+--------------------+\n",
      "|id_time|       nome_do_time|sigla|ano_de_fundacao|nacional?|    link_imagem_logo|\n",
      "+-------+-------------------+-----+---------------+---------+--------------------+\n",
      "|      6|             Brazil|  BRA|           1914|      Sim|https://media-1.a...|\n",
      "|    118|              Bahia|  BAH|           1931|      Não|https://media-1.a...|\n",
      "|    119|      Internacional|  INT|           1909|      Não|https://media-2.a...|\n",
      "|    120|           Botafogo|  BOT|           1904|      Não|https://media-2.a...|\n",
      "|    121|          Palmeiras|  PAL|           1914|      Não|https://media-2.a...|\n",
      "|    122|             Parana|  PAR|           1989|      Não|https://media-1.a...|\n",
      "|    123|       Sport Recife|  SPO|           1905|      Não|https://media-2.a...|\n",
      "|    124|         Fluminense|  FLU|           1902|      Não|https://media-1.a...|\n",
      "|    125|    America Mineiro|  AME|           1912|      Não|https://media-3.a...|\n",
      "|    126|          Sao Paulo|  PAU|           1930|      Não|https://media-2.a...|\n",
      "|    127|           Flamengo|  FLA|           1895|      Não|https://media-2.a...|\n",
      "|    128|             Santos|  SAN|           1912|      Não|https://media-2.a...|\n",
      "|    129|              Ceara|  CEA|           1914|      Não|https://media-3.a...|\n",
      "|    130|             Gremio|  GRE|           1903|      Não|https://media-1.a...|\n",
      "|    131|        Corinthians|  COR|           1910|      Não|https://media-1.a...|\n",
      "|    132|     Chapecoense-sc|  CHA|           1973|      Não|https://media-1.a...|\n",
      "|    133|      Vasco DA Gama|  VAS|           1898|      Não|https://media-2.a...|\n",
      "|    134|Atletico Paranaense|  ATL|           1924|      Não|https://media-2.a...|\n",
      "|    135|           Cruzeiro|  CRU|           1921|      Não|https://media-3.a...|\n",
      "|    136|            Vitoria|  VIT|           1899|      Não|https://media-1.a...|\n",
      "+-------+-------------------+-----+---------------+---------+--------------------+\n",
      "only showing top 20 rows\n",
      "\n"
     ]
    }
   ],
   "source": [
    "times_df = times_df.withColumnRenamed('code', 'sigla') \\\n",
    "                           .withColumnRenamed('country', 'pais') \\\n",
    "                           .withColumnRenamed('founded', 'ano_de_fundacao') \\\n",
    "                           .withColumnRenamed('id', 'id_time') \\\n",
    "                           .withColumnRenamed('logo', 'link_imagem_logo') \\\n",
    "                           .withColumnRenamed('name', 'nome_do_time') \\\n",
    "                           .withColumnRenamed('national', 'nacional?')\n",
    "\n",
    "times_df.show()"
   ]
  },
  {
   "cell_type": "code",
   "execution_count": 11,
   "metadata": {},
   "outputs": [
    {
     "name": "stdout",
     "output_type": "stream",
     "text": [
      "+-------+-------------------+-----+---------------+---------+--------------------+----------------+\n",
      "|id_time|       nome_do_time|sigla|ano_de_fundacao|nacional?|    link_imagem_logo|data_de_ingestao|\n",
      "+-------+-------------------+-----+---------------+---------+--------------------+----------------+\n",
      "|      6|             Brazil|  BRA|           1914|      Sim|https://media-1.a...|      2024-05-01|\n",
      "|    118|              Bahia|  BAH|           1931|      Não|https://media-1.a...|      2024-05-01|\n",
      "|    119|      Internacional|  INT|           1909|      Não|https://media-2.a...|      2024-05-01|\n",
      "|    120|           Botafogo|  BOT|           1904|      Não|https://media-2.a...|      2024-05-01|\n",
      "|    121|          Palmeiras|  PAL|           1914|      Não|https://media-2.a...|      2024-05-01|\n",
      "|    122|             Parana|  PAR|           1989|      Não|https://media-1.a...|      2024-05-01|\n",
      "|    123|       Sport Recife|  SPO|           1905|      Não|https://media-2.a...|      2024-05-01|\n",
      "|    124|         Fluminense|  FLU|           1902|      Não|https://media-1.a...|      2024-05-01|\n",
      "|    125|    America Mineiro|  AME|           1912|      Não|https://media-3.a...|      2024-05-01|\n",
      "|    126|          Sao Paulo|  PAU|           1930|      Não|https://media-2.a...|      2024-05-01|\n",
      "|    127|           Flamengo|  FLA|           1895|      Não|https://media-2.a...|      2024-05-01|\n",
      "|    128|             Santos|  SAN|           1912|      Não|https://media-2.a...|      2024-05-01|\n",
      "|    129|              Ceara|  CEA|           1914|      Não|https://media-3.a...|      2024-05-01|\n",
      "|    130|             Gremio|  GRE|           1903|      Não|https://media-1.a...|      2024-05-01|\n",
      "|    131|        Corinthians|  COR|           1910|      Não|https://media-1.a...|      2024-05-01|\n",
      "|    132|     Chapecoense-sc|  CHA|           1973|      Não|https://media-1.a...|      2024-05-01|\n",
      "|    133|      Vasco DA Gama|  VAS|           1898|      Não|https://media-2.a...|      2024-05-01|\n",
      "|    134|Atletico Paranaense|  ATL|           1924|      Não|https://media-2.a...|      2024-05-01|\n",
      "|    135|           Cruzeiro|  CRU|           1921|      Não|https://media-3.a...|      2024-05-01|\n",
      "|    136|            Vitoria|  VIT|           1899|      Não|https://media-1.a...|      2024-05-01|\n",
      "+-------+-------------------+-----+---------------+---------+--------------------+----------------+\n",
      "only showing top 20 rows\n",
      "\n"
     ]
    }
   ],
   "source": [
    "times_df = adicionar_data_de_ingestao(\n",
    "    df = times_df,\n",
    "    nome_coluna = 'data_de_ingestao',\n",
    "    add_tempo = -3,\n",
    "    unidade_de_medida = 'horas'\n",
    ")\n",
    "\n",
    "times_df.show()"
   ]
  },
  {
   "cell_type": "markdown",
   "metadata": {},
   "source": [
    "### Salvando arquivo"
   ]
  },
  {
   "cell_type": "code",
   "execution_count": 13,
   "metadata": {},
   "outputs": [],
   "source": [
    "times_df.write.mode('overwrite').parquet(f\"{caminho_silver}/times\")"
   ]
  },
  {
   "cell_type": "code",
   "execution_count": 14,
   "metadata": {},
   "outputs": [],
   "source": [
    "dbutils.notebook.exit('O arquivo \"times.json\" foi processado e carregado na camada silver.')"
   ]
  }
 ],
 "metadata": {
  "application/vnd.databricks.v1+notebook": {
   "dashboards": [],
   "language": "python",
   "notebookMetadata": {
    "pythonIndentUnit": 4
   },
   "notebookName": "Ingestão de dados - times.json",
   "widgets": {}
  },
  "kernelspec": {
   "display_name": "Python 3",
   "language": "python",
   "name": "python3"
  },
  "language_info": {
   "codemirror_mode": {
    "name": "ipython",
    "version": 3
   },
   "file_extension": ".py",
   "mimetype": "text/x-python",
   "name": "python",
   "nbconvert_exporter": "python",
   "pygments_lexer": "ipython3",
   "version": "3.12.3"
  }
 },
 "nbformat": 4,
 "nbformat_minor": 0
}

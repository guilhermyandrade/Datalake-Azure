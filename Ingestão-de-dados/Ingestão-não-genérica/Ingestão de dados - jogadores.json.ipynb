{
 "cells": [
  {
   "cell_type": "markdown",
   "metadata": {},
   "source": [
    "\n",
    "### Requisitos para os arquivos da pasta partidas\n",
    "\n",
    "Objetivo: realizar processo de ETL e disponibilizar os dados em camada adequada.\n",
    "\n",
    "1. Ler o arquivos csv da pasta no Datalake [ok]\n",
    "2. Renomear colunas para português usando snake case [ok]\n",
    "3. Definir a tipagem de colunas correta [ok]\n",
    "4. Coluna com data de cosumo do arquivo [ok]\n",
    "5. Salvar dados em formato parquet na camada adequada [ok]"
   ]
  },
  {
   "cell_type": "code",
   "execution_count": 1,
   "metadata": {},
   "outputs": [],
   "source": [
    "%run ../../Configuração-e-Utilitários/Variaveis.ipynb"
   ]
  },
  {
   "cell_type": "code",
   "execution_count": 2,
   "metadata": {},
   "outputs": [],
   "source": [
    "%run ../../Configuração-e-Utilitários/Funções.ipynb"
   ]
  },
  {
   "cell_type": "markdown",
   "metadata": {},
   "source": [
    "### Leitura do arquivo e definição de schema"
   ]
  },
  {
   "cell_type": "code",
   "execution_count": 5,
   "metadata": {},
   "outputs": [
    {
     "name": "stdout",
     "output_type": "stream",
     "text": [
      "+---+--------------------+-----------------+------+------+-------+--------------------+-----------------+-----------+--------------------+------+\n",
      "|age|               birth|        firstname|height|    id|injured|            lastname|             name|nationality|               photo|weight|\n",
      "+---+--------------------+-----------------+------+------+-------+--------------------+-----------------+-----------+--------------------+------+\n",
      "| 24|{Brazil, 1999-05-...|         Vinícius|  NULL| 10367|  false|      Lopes da Silva|   Vinícius Lopes|     Brazil|https://media-4.a...|  NULL|\n",
      "| 20|{Brazil, 2003-04-...|        Ryan Luka|185 cm|266020|  false|   Cordeiro de Souza|        Ryan Luka|     Brazil|https://media-4.a...| 76 kg|\n",
      "| 24|{Brazil, 1999-05-...|Vinicius Balieiro|  NULL|278496|  false|Lourenco De Carvalho|Vinicius Balieiro|     Brazil|https://media-4.a...|  NULL|\n",
      "| 22|{Brazil, 2001-08-...|             Yago|174 cm|305815|  false|   de Paula Ferreira|    Yago Ferreira|     Brazil|https://media-4.a...| 73 kg|\n",
      "| 19|{Brazil, 2004-04-...|           Mateus|184 cm|306216|  false|           Dias Lima|         Mateusão|     Brazil|https://media-4.a...| 80 kg|\n",
      "| 19|{Brazil, 2004-11-...|      Victor Hugo|  NULL|322069|  false|      da Silva Costa|      Victor Hugo|     Brazil|https://media-4.a...|  NULL|\n",
      "| 19|{Brazil, 2004-06-...|          Douglas|190 cm|327635|  false|      Mendes Moreira|   Douglas Mendes|     Brazil|https://media-4.a...| 84 kg|\n",
      "| 21|{Colombia, 2002-0...|       Yani David|  NULL|356992|  false|      Quintero Rivas|      Y. Quintero|   Colombia|https://media-4.a...|  NULL|\n",
      "| 20|{Brazil, 2003-03-...|           Sidnei|  NULL|402498|  false|    Fernandes Junior|           Sidnei|     Brazil|https://media-4.a...|  NULL|\n",
      "| 18|{Brazil, 2005-06-...|           Adryan|  NULL|403952|  false|       Bezerra Silva|           Adryan|     Brazil|https://media-4.a...|  NULL|\n",
      "| 18|{Brazil, 2005-05-...|     Pedro Inácio|  NULL|405162|  false| dos Santos Ferreira|     Pedro Inácio|     Brazil|https://media-4.a...|  NULL|\n",
      "| 21|{Brazil, 2002-09-...|         Vinicius|  NULL|405341|  false|    Negro Di Stefano|         Vinicius|     Brazil|https://media-4.a...|  NULL|\n",
      "| 20|{Brazil, 2003-03-...|     Rubens Tadeu|  NULL|408347|  false|    Hartmann Ricoldi|           Rubens|     Brazil|https://media-4.a...|  NULL|\n",
      "| 20|{Brazil, 2003-04-...|   Pedro Henrique|  NULL|408349|  false|  Fernandes Clemente|   Pedro Clemente|     Brazil|https://media-4.a...|  NULL|\n",
      "| 18|{Brazil, 2005-01-...|     Kauan Kelvin|  NULL|408350|  false|  Magalhães da Silva|     Kauan Kelvin|     Brazil|https://media-4.a...|  NULL|\n",
      "| 19|{Brazil, 2004-01-...|            Pedro|186 cm|409765|  false|Henrique Franklim...|           Pedrão|     Brazil|https://media-4.a...|  NULL|\n",
      "| 16|{Brazil, 2007-02-...|          Evertow|186 cm|415048|  false|Vaz Pereira da Silva|          Evertow|     Brazil|https://media-4.a...| 79 kg|\n",
      "| 17|{Brazil, 2006-05-...|            Allex|164 cm|415052|  false|Rodrigues Pereira...|            Allex|     Brazil|https://media-4.a...| 60 kg|\n",
      "| 18|{Brazil, 2005-01-...|   Carlos Eduardo|193 cm|415082|  false|    Coutinho de Góes|             Cadu|     Brazil|https://media-4.a...| 75 kg|\n",
      "| 18|{Brazil, 2005-06-...|        Newertton|167 cm|415151|  false|    Martins da Silva|        Newertton|     Brazil|https://media-4.a...| 59 kg|\n",
      "+---+--------------------+-----------------+------+------+-------+--------------------+-----------------+-----------+--------------------+------+\n",
      "only showing top 20 rows\n",
      "\n"
     ]
    }
   ],
   "source": [
    "# Lendo o arquivo passando o schema como parâmetro\n",
    "jogadores_df = spark.read.json(f\"{caminho_bronze}/jogadores.json\")\n",
    "\n",
    "jogadores_df.show()"
   ]
  },
  {
   "cell_type": "code",
   "execution_count": 6,
   "metadata": {},
   "outputs": [
    {
     "name": "stdout",
     "output_type": "stream",
     "text": [
      "root\n",
      " |-- age: long (nullable = true)\n",
      " |-- birth: struct (nullable = true)\n",
      " |    |-- country: string (nullable = true)\n",
      " |    |-- date: string (nullable = true)\n",
      " |    |-- place: string (nullable = true)\n",
      " |-- firstname: string (nullable = true)\n",
      " |-- height: string (nullable = true)\n",
      " |-- id: long (nullable = true)\n",
      " |-- injured: boolean (nullable = true)\n",
      " |-- lastname: string (nullable = true)\n",
      " |-- name: string (nullable = true)\n",
      " |-- nationality: string (nullable = true)\n",
      " |-- photo: string (nullable = true)\n",
      " |-- weight: string (nullable = true)\n",
      "\n"
     ]
    }
   ],
   "source": [
    "jogadores_df.printSchema()"
   ]
  },
  {
   "cell_type": "markdown",
   "metadata": {},
   "source": [
    "### Lidando com a coluna aninhada 'birth'"
   ]
  },
  {
   "cell_type": "code",
   "execution_count": 7,
   "metadata": {},
   "outputs": [
    {
     "name": "stdout",
     "output_type": "stream",
     "text": [
      "+---+-----------------+------+------+-------+--------------------+-----------------+-----------+--------------------+------+--------+----------+------------+\n",
      "|age|        firstname|height|    id|injured|            lastname|             name|nationality|               photo|weight| country|      date|       place|\n",
      "+---+-----------------+------+------+-------+--------------------+-----------------+-----------+--------------------+------+--------+----------+------------+\n",
      "| 24|         Vinícius|  NULL| 10367|  false|      Lopes da Silva|   Vinícius Lopes|     Brazil|https://media-4.a...|  NULL|  Brazil|1999-05-07|        NULL|\n",
      "| 20|        Ryan Luka|185 cm|266020|  false|   Cordeiro de Souza|        Ryan Luka|     Brazil|https://media-4.a...| 76 kg|  Brazil|2003-04-30|        NULL|\n",
      "| 24|Vinicius Balieiro|  NULL|278496|  false|Lourenco De Carvalho|Vinicius Balieiro|     Brazil|https://media-4.a...|  NULL|  Brazil|1999-05-28|        NULL|\n",
      "| 22|             Yago|174 cm|305815|  false|   de Paula Ferreira|    Yago Ferreira|     Brazil|https://media-4.a...| 73 kg|  Brazil|2001-08-02|        NULL|\n",
      "| 19|           Mateus|184 cm|306216|  false|           Dias Lima|         Mateusão|     Brazil|https://media-4.a...| 80 kg|  Brazil|2004-04-23|        NULL|\n",
      "| 19|      Victor Hugo|  NULL|322069|  false|      da Silva Costa|      Victor Hugo|     Brazil|https://media-4.a...|  NULL|  Brazil|2004-11-11|        NULL|\n",
      "| 19|          Douglas|190 cm|327635|  false|      Mendes Moreira|   Douglas Mendes|     Brazil|https://media-4.a...| 84 kg|  Brazil|2004-06-13|        NULL|\n",
      "| 21|       Yani David|  NULL|356992|  false|      Quintero Rivas|      Y. Quintero|   Colombia|https://media-4.a...|  NULL|Colombia|2002-07-17|        NULL|\n",
      "| 20|           Sidnei|  NULL|402498|  false|    Fernandes Junior|           Sidnei|     Brazil|https://media-4.a...|  NULL|  Brazil|2003-03-28|        NULL|\n",
      "| 18|           Adryan|  NULL|403952|  false|       Bezerra Silva|           Adryan|     Brazil|https://media-4.a...|  NULL|  Brazil|2005-06-18|        NULL|\n",
      "| 18|     Pedro Inácio|  NULL|405162|  false| dos Santos Ferreira|     Pedro Inácio|     Brazil|https://media-4.a...|  NULL|  Brazil|2005-05-12|        NULL|\n",
      "| 21|         Vinicius|  NULL|405341|  false|    Negro Di Stefano|         Vinicius|     Brazil|https://media-4.a...|  NULL|  Brazil|2002-09-23|        NULL|\n",
      "| 20|     Rubens Tadeu|  NULL|408347|  false|    Hartmann Ricoldi|           Rubens|     Brazil|https://media-4.a...|  NULL|  Brazil|2003-03-28|Porto Alegre|\n",
      "| 20|   Pedro Henrique|  NULL|408349|  false|  Fernandes Clemente|   Pedro Clemente|     Brazil|https://media-4.a...|  NULL|  Brazil|2003-04-29|     Taubaté|\n",
      "| 18|     Kauan Kelvin|  NULL|408350|  false|  Magalhães da Silva|     Kauan Kelvin|     Brazil|https://media-4.a...|  NULL|  Brazil|2005-01-21|     Goiânia|\n",
      "| 19|            Pedro|186 cm|409765|  false|Henrique Franklim...|           Pedrão|     Brazil|https://media-4.a...|  NULL|  Brazil|2004-01-06|        NULL|\n",
      "| 16|          Evertow|186 cm|415048|  false|Vaz Pereira da Silva|          Evertow|     Brazil|https://media-4.a...| 79 kg|  Brazil|2007-02-01|        NULL|\n",
      "| 17|            Allex|164 cm|415052|  false|Rodrigues Pereira...|            Allex|     Brazil|https://media-4.a...| 60 kg|  Brazil|2006-05-04|   São Paulo|\n",
      "| 18|   Carlos Eduardo|193 cm|415082|  false|    Coutinho de Góes|             Cadu|     Brazil|https://media-4.a...| 75 kg|  Brazil|2005-01-11|        NULL|\n",
      "| 18|        Newertton|167 cm|415151|  false|    Martins da Silva|        Newertton|     Brazil|https://media-4.a...| 59 kg|  Brazil|2005-06-03|        NULL|\n",
      "+---+-----------------+------+------+-------+--------------------+-----------------+-----------+--------------------+------+--------+----------+------------+\n",
      "only showing top 20 rows\n",
      "\n"
     ]
    }
   ],
   "source": [
    "from pyspark.sql.functions import explode, array\n",
    "\n",
    "jogadores_df = jogadores_df.withColumn('country', explode(array(jogadores_df.birth.country))) \\\n",
    "                           .withColumn('date', explode(array(jogadores_df.birth.date))) \\\n",
    "                           .withColumn('place', explode(array(jogadores_df.birth.place)))\n",
    "\n",
    "\n",
    "# Deletando a coluna aninhada\n",
    "jogadores_df = jogadores_df.drop('birth')\n",
    "\n",
    "# Imprimindo o df\n",
    "jogadores_df.show()"
   ]
  },
  {
   "cell_type": "markdown",
   "metadata": {},
   "source": [
    "### Tratando colunas 'height' e 'weight' e alterando booleanos para 'Sim'/'Não'"
   ]
  },
  {
   "cell_type": "code",
   "execution_count": 8,
   "metadata": {},
   "outputs": [
    {
     "name": "stdout",
     "output_type": "stream",
     "text": [
      "+---+-----------------+------+------+-------+--------------------+-----------------+-----------+--------------------+------+--------+----------+------------+\n",
      "|age|        firstname|height|    id|injured|            lastname|             name|nationality|               photo|weight| country|      date|       place|\n",
      "+---+-----------------+------+------+-------+--------------------+-----------------+-----------+--------------------+------+--------+----------+------------+\n",
      "| 24|         Vinícius|  NULL| 10367|  false|      Lopes da Silva|   Vinícius Lopes|     Brazil|https://media-4.a...|  NULL|  Brazil|1999-05-07|        NULL|\n",
      "| 20|        Ryan Luka|   185|266020|  false|   Cordeiro de Souza|        Ryan Luka|     Brazil|https://media-4.a...|    76|  Brazil|2003-04-30|        NULL|\n",
      "| 24|Vinicius Balieiro|  NULL|278496|  false|Lourenco De Carvalho|Vinicius Balieiro|     Brazil|https://media-4.a...|  NULL|  Brazil|1999-05-28|        NULL|\n",
      "| 22|             Yago|   174|305815|  false|   de Paula Ferreira|    Yago Ferreira|     Brazil|https://media-4.a...|    73|  Brazil|2001-08-02|        NULL|\n",
      "| 19|           Mateus|   184|306216|  false|           Dias Lima|         Mateusão|     Brazil|https://media-4.a...|    80|  Brazil|2004-04-23|        NULL|\n",
      "| 19|      Victor Hugo|  NULL|322069|  false|      da Silva Costa|      Victor Hugo|     Brazil|https://media-4.a...|  NULL|  Brazil|2004-11-11|        NULL|\n",
      "| 19|          Douglas|   190|327635|  false|      Mendes Moreira|   Douglas Mendes|     Brazil|https://media-4.a...|    84|  Brazil|2004-06-13|        NULL|\n",
      "| 21|       Yani David|  NULL|356992|  false|      Quintero Rivas|      Y. Quintero|   Colombia|https://media-4.a...|  NULL|Colombia|2002-07-17|        NULL|\n",
      "| 20|           Sidnei|  NULL|402498|  false|    Fernandes Junior|           Sidnei|     Brazil|https://media-4.a...|  NULL|  Brazil|2003-03-28|        NULL|\n",
      "| 18|           Adryan|  NULL|403952|  false|       Bezerra Silva|           Adryan|     Brazil|https://media-4.a...|  NULL|  Brazil|2005-06-18|        NULL|\n",
      "| 18|     Pedro Inácio|  NULL|405162|  false| dos Santos Ferreira|     Pedro Inácio|     Brazil|https://media-4.a...|  NULL|  Brazil|2005-05-12|        NULL|\n",
      "| 21|         Vinicius|  NULL|405341|  false|    Negro Di Stefano|         Vinicius|     Brazil|https://media-4.a...|  NULL|  Brazil|2002-09-23|        NULL|\n",
      "| 20|     Rubens Tadeu|  NULL|408347|  false|    Hartmann Ricoldi|           Rubens|     Brazil|https://media-4.a...|  NULL|  Brazil|2003-03-28|Porto Alegre|\n",
      "| 20|   Pedro Henrique|  NULL|408349|  false|  Fernandes Clemente|   Pedro Clemente|     Brazil|https://media-4.a...|  NULL|  Brazil|2003-04-29|     Taubaté|\n",
      "| 18|     Kauan Kelvin|  NULL|408350|  false|  Magalhães da Silva|     Kauan Kelvin|     Brazil|https://media-4.a...|  NULL|  Brazil|2005-01-21|     Goiânia|\n",
      "| 19|            Pedro|   186|409765|  false|Henrique Franklim...|           Pedrão|     Brazil|https://media-4.a...|  NULL|  Brazil|2004-01-06|        NULL|\n",
      "| 16|          Evertow|   186|415048|  false|Vaz Pereira da Silva|          Evertow|     Brazil|https://media-4.a...|    79|  Brazil|2007-02-01|        NULL|\n",
      "| 17|            Allex|   164|415052|  false|Rodrigues Pereira...|            Allex|     Brazil|https://media-4.a...|    60|  Brazil|2006-05-04|   São Paulo|\n",
      "| 18|   Carlos Eduardo|   193|415082|  false|    Coutinho de Góes|             Cadu|     Brazil|https://media-4.a...|    75|  Brazil|2005-01-11|        NULL|\n",
      "| 18|        Newertton|   167|415151|  false|    Martins da Silva|        Newertton|     Brazil|https://media-4.a...|    59|  Brazil|2005-06-03|        NULL|\n",
      "+---+-----------------+------+------+-------+--------------------+-----------------+-----------+--------------------+------+--------+----------+------------+\n",
      "only showing top 20 rows\n",
      "\n"
     ]
    }
   ],
   "source": [
    "from pyspark.sql.functions import col, regexp_replace, lower\n",
    "\n",
    "# Retirando os caracteres especificados\n",
    "jogadores_df = jogadores_df.withColumn('height', regexp_replace(lower(col('height')), ' cm', '')) \\\n",
    "                           .withColumn('weight', regexp_replace(lower(col('weight')), ' kg', ''))\n",
    "\n",
    "jogadores_df.show()"
   ]
  },
  {
   "cell_type": "markdown",
   "metadata": {},
   "source": [
    "### Ajustando o schema dos dados"
   ]
  },
  {
   "cell_type": "code",
   "execution_count": 9,
   "metadata": {},
   "outputs": [
    {
     "name": "stdout",
     "output_type": "stream",
     "text": [
      "root\n",
      " |-- age: long (nullable = true)\n",
      " |-- firstname: string (nullable = true)\n",
      " |-- height: string (nullable = true)\n",
      " |-- id: long (nullable = true)\n",
      " |-- injured: boolean (nullable = true)\n",
      " |-- lastname: string (nullable = true)\n",
      " |-- name: string (nullable = true)\n",
      " |-- nationality: string (nullable = true)\n",
      " |-- photo: string (nullable = true)\n",
      " |-- weight: string (nullable = true)\n",
      " |-- country: string (nullable = true)\n",
      " |-- date: string (nullable = true)\n",
      " |-- place: string (nullable = true)\n",
      "\n"
     ]
    }
   ],
   "source": [
    "jogadores_df.printSchema()"
   ]
  },
  {
   "cell_type": "code",
   "execution_count": 12,
   "metadata": {},
   "outputs": [
    {
     "name": "stdout",
     "output_type": "stream",
     "text": [
      "root\n",
      " |-- age: integer (nullable = true)\n",
      " |-- firstname: string (nullable = true)\n",
      " |-- height: integer (nullable = true)\n",
      " |-- id: integer (nullable = true)\n",
      " |-- injured: boolean (nullable = true)\n",
      " |-- lastname: string (nullable = true)\n",
      " |-- name: string (nullable = true)\n",
      " |-- nationality: string (nullable = true)\n",
      " |-- photo: string (nullable = true)\n",
      " |-- weight: integer (nullable = true)\n",
      " |-- country: string (nullable = true)\n",
      " |-- date: date (nullable = true)\n",
      " |-- place: string (nullable = true)\n",
      "\n"
     ]
    }
   ],
   "source": [
    "from pyspark.sql.functions import col\n",
    "\n",
    "jogadores_df = jogadores_df.withColumn('age', col('age').cast('integer')) \\\n",
    "                           .withColumn('height', col('height').cast('integer')) \\\n",
    "                           .withColumn('weight', col('weight').cast('integer')) \\\n",
    "                           .withColumn('id', col('id').cast('integer')) \\\n",
    "                           .withColumn('date', col('date').cast('date')) \\\n",
    "\n",
    "jogadores_df.printSchema()"
   ]
  },
  {
   "cell_type": "markdown",
   "metadata": {},
   "source": [
    "### Alterando valores booleanos da coluna 'injured' para 'Sim'/'Não' "
   ]
  },
  {
   "cell_type": "code",
   "execution_count": 13,
   "metadata": {},
   "outputs": [
    {
     "name": "stdout",
     "output_type": "stream",
     "text": [
      "+---+-----------------+------+------+-------+--------------------+-----------------+-----------+--------------------+------+--------+----------+------------+\n",
      "|age|        firstname|height|    id|injured|            lastname|             name|nationality|               photo|weight| country|      date|       place|\n",
      "+---+-----------------+------+------+-------+--------------------+-----------------+-----------+--------------------+------+--------+----------+------------+\n",
      "| 24|         Vinícius|  NULL| 10367|    Não|      Lopes da Silva|   Vinícius Lopes|     Brazil|https://media-4.a...|  NULL|  Brazil|1999-05-07|        NULL|\n",
      "| 20|        Ryan Luka|   185|266020|    Não|   Cordeiro de Souza|        Ryan Luka|     Brazil|https://media-4.a...|    76|  Brazil|2003-04-30|        NULL|\n",
      "| 24|Vinicius Balieiro|  NULL|278496|    Não|Lourenco De Carvalho|Vinicius Balieiro|     Brazil|https://media-4.a...|  NULL|  Brazil|1999-05-28|        NULL|\n",
      "| 22|             Yago|   174|305815|    Não|   de Paula Ferreira|    Yago Ferreira|     Brazil|https://media-4.a...|    73|  Brazil|2001-08-02|        NULL|\n",
      "| 19|           Mateus|   184|306216|    Não|           Dias Lima|         Mateusão|     Brazil|https://media-4.a...|    80|  Brazil|2004-04-23|        NULL|\n",
      "| 19|      Victor Hugo|  NULL|322069|    Não|      da Silva Costa|      Victor Hugo|     Brazil|https://media-4.a...|  NULL|  Brazil|2004-11-11|        NULL|\n",
      "| 19|          Douglas|   190|327635|    Não|      Mendes Moreira|   Douglas Mendes|     Brazil|https://media-4.a...|    84|  Brazil|2004-06-13|        NULL|\n",
      "| 21|       Yani David|  NULL|356992|    Não|      Quintero Rivas|      Y. Quintero|   Colombia|https://media-4.a...|  NULL|Colombia|2002-07-17|        NULL|\n",
      "| 20|           Sidnei|  NULL|402498|    Não|    Fernandes Junior|           Sidnei|     Brazil|https://media-4.a...|  NULL|  Brazil|2003-03-28|        NULL|\n",
      "| 18|           Adryan|  NULL|403952|    Não|       Bezerra Silva|           Adryan|     Brazil|https://media-4.a...|  NULL|  Brazil|2005-06-18|        NULL|\n",
      "| 18|     Pedro Inácio|  NULL|405162|    Não| dos Santos Ferreira|     Pedro Inácio|     Brazil|https://media-4.a...|  NULL|  Brazil|2005-05-12|        NULL|\n",
      "| 21|         Vinicius|  NULL|405341|    Não|    Negro Di Stefano|         Vinicius|     Brazil|https://media-4.a...|  NULL|  Brazil|2002-09-23|        NULL|\n",
      "| 20|     Rubens Tadeu|  NULL|408347|    Não|    Hartmann Ricoldi|           Rubens|     Brazil|https://media-4.a...|  NULL|  Brazil|2003-03-28|Porto Alegre|\n",
      "| 20|   Pedro Henrique|  NULL|408349|    Não|  Fernandes Clemente|   Pedro Clemente|     Brazil|https://media-4.a...|  NULL|  Brazil|2003-04-29|     Taubaté|\n",
      "| 18|     Kauan Kelvin|  NULL|408350|    Não|  Magalhães da Silva|     Kauan Kelvin|     Brazil|https://media-4.a...|  NULL|  Brazil|2005-01-21|     Goiânia|\n",
      "| 19|            Pedro|   186|409765|    Não|Henrique Franklim...|           Pedrão|     Brazil|https://media-4.a...|  NULL|  Brazil|2004-01-06|        NULL|\n",
      "| 16|          Evertow|   186|415048|    Não|Vaz Pereira da Silva|          Evertow|     Brazil|https://media-4.a...|    79|  Brazil|2007-02-01|        NULL|\n",
      "| 17|            Allex|   164|415052|    Não|Rodrigues Pereira...|            Allex|     Brazil|https://media-4.a...|    60|  Brazil|2006-05-04|   São Paulo|\n",
      "| 18|   Carlos Eduardo|   193|415082|    Não|    Coutinho de Góes|             Cadu|     Brazil|https://media-4.a...|    75|  Brazil|2005-01-11|        NULL|\n",
      "| 18|        Newertton|   167|415151|    Não|    Martins da Silva|        Newertton|     Brazil|https://media-4.a...|    59|  Brazil|2005-06-03|        NULL|\n",
      "+---+-----------------+------+------+-------+--------------------+-----------------+-----------+--------------------+------+--------+----------+------------+\n",
      "only showing top 20 rows\n",
      "\n"
     ]
    }
   ],
   "source": [
    "from pyspark.sql.functions import when\n",
    "\n",
    "jogadores_df = jogadores_df.withColumn('injured', col('injured').cast('string'))\n",
    "jogadores_df = jogadores_df.withColumn('injured', when(col('injured') == 'true', 'Sim').otherwise('Não'))\n",
    "\n",
    "jogadores_df.show()"
   ]
  },
  {
   "cell_type": "markdown",
   "metadata": {},
   "source": [
    "### Renomeando os atributos para português com uso do snake_case"
   ]
  },
  {
   "cell_type": "code",
   "execution_count": 14,
   "metadata": {},
   "outputs": [
    {
     "name": "stdout",
     "output_type": "stream",
     "text": [
      "+-----+-----------------+-----------+----------+----------+--------------------+-----------------+-------------+--------------------+---------+--------------+------------------+----------------+\n",
      "|idade|    primeiro_nome|altura (cm)|id_jogador|lesionado?|         ultimo_nome|    nome_completo|nacionalidade|         link_imagem|peso (kg)|pais_de_origem|data_de_nascimento|cidade_de_origem|\n",
      "+-----+-----------------+-----------+----------+----------+--------------------+-----------------+-------------+--------------------+---------+--------------+------------------+----------------+\n",
      "|   24|         Vinícius|       NULL|     10367|       Não|      Lopes da Silva|   Vinícius Lopes|       Brazil|https://media-4.a...|     NULL|        Brazil|        1999-05-07|            NULL|\n",
      "|   20|        Ryan Luka|        185|    266020|       Não|   Cordeiro de Souza|        Ryan Luka|       Brazil|https://media-4.a...|       76|        Brazil|        2003-04-30|            NULL|\n",
      "|   24|Vinicius Balieiro|       NULL|    278496|       Não|Lourenco De Carvalho|Vinicius Balieiro|       Brazil|https://media-4.a...|     NULL|        Brazil|        1999-05-28|            NULL|\n",
      "|   22|             Yago|        174|    305815|       Não|   de Paula Ferreira|    Yago Ferreira|       Brazil|https://media-4.a...|       73|        Brazil|        2001-08-02|            NULL|\n",
      "|   19|           Mateus|        184|    306216|       Não|           Dias Lima|         Mateusão|       Brazil|https://media-4.a...|       80|        Brazil|        2004-04-23|            NULL|\n",
      "|   19|      Victor Hugo|       NULL|    322069|       Não|      da Silva Costa|      Victor Hugo|       Brazil|https://media-4.a...|     NULL|        Brazil|        2004-11-11|            NULL|\n",
      "|   19|          Douglas|        190|    327635|       Não|      Mendes Moreira|   Douglas Mendes|       Brazil|https://media-4.a...|       84|        Brazil|        2004-06-13|            NULL|\n",
      "|   21|       Yani David|       NULL|    356992|       Não|      Quintero Rivas|      Y. Quintero|     Colombia|https://media-4.a...|     NULL|      Colombia|        2002-07-17|            NULL|\n",
      "|   20|           Sidnei|       NULL|    402498|       Não|    Fernandes Junior|           Sidnei|       Brazil|https://media-4.a...|     NULL|        Brazil|        2003-03-28|            NULL|\n",
      "|   18|           Adryan|       NULL|    403952|       Não|       Bezerra Silva|           Adryan|       Brazil|https://media-4.a...|     NULL|        Brazil|        2005-06-18|            NULL|\n",
      "|   18|     Pedro Inácio|       NULL|    405162|       Não| dos Santos Ferreira|     Pedro Inácio|       Brazil|https://media-4.a...|     NULL|        Brazil|        2005-05-12|            NULL|\n",
      "|   21|         Vinicius|       NULL|    405341|       Não|    Negro Di Stefano|         Vinicius|       Brazil|https://media-4.a...|     NULL|        Brazil|        2002-09-23|            NULL|\n",
      "|   20|     Rubens Tadeu|       NULL|    408347|       Não|    Hartmann Ricoldi|           Rubens|       Brazil|https://media-4.a...|     NULL|        Brazil|        2003-03-28|    Porto Alegre|\n",
      "|   20|   Pedro Henrique|       NULL|    408349|       Não|  Fernandes Clemente|   Pedro Clemente|       Brazil|https://media-4.a...|     NULL|        Brazil|        2003-04-29|         Taubaté|\n",
      "|   18|     Kauan Kelvin|       NULL|    408350|       Não|  Magalhães da Silva|     Kauan Kelvin|       Brazil|https://media-4.a...|     NULL|        Brazil|        2005-01-21|         Goiânia|\n",
      "|   19|            Pedro|        186|    409765|       Não|Henrique Franklim...|           Pedrão|       Brazil|https://media-4.a...|     NULL|        Brazil|        2004-01-06|            NULL|\n",
      "|   16|          Evertow|        186|    415048|       Não|Vaz Pereira da Silva|          Evertow|       Brazil|https://media-4.a...|       79|        Brazil|        2007-02-01|            NULL|\n",
      "|   17|            Allex|        164|    415052|       Não|Rodrigues Pereira...|            Allex|       Brazil|https://media-4.a...|       60|        Brazil|        2006-05-04|       São Paulo|\n",
      "|   18|   Carlos Eduardo|        193|    415082|       Não|    Coutinho de Góes|             Cadu|       Brazil|https://media-4.a...|       75|        Brazil|        2005-01-11|            NULL|\n",
      "|   18|        Newertton|        167|    415151|       Não|    Martins da Silva|        Newertton|       Brazil|https://media-4.a...|       59|        Brazil|        2005-06-03|            NULL|\n",
      "+-----+-----------------+-----------+----------+----------+--------------------+-----------------+-------------+--------------------+---------+--------------+------------------+----------------+\n",
      "only showing top 20 rows\n",
      "\n"
     ]
    }
   ],
   "source": [
    "jogadores_df = jogadores_df.withColumnRenamed('id', 'id_jogador') \\\n",
    "                           .withColumnRenamed('age', 'idade') \\\n",
    "                           .withColumnRenamed('firstname', 'primeiro_nome') \\\n",
    "                           .withColumnRenamed('lastname', 'ultimo_nome') \\\n",
    "                           .withColumnRenamed('name', 'nome_completo') \\\n",
    "                           .withColumnRenamed('nationality', 'nacionalidade') \\\n",
    "                           .withColumnRenamed('injured', 'lesionado?') \\\n",
    "                           .withColumnRenamed('country', 'pais_de_origem') \\\n",
    "                           .withColumnRenamed('date', 'data_de_nascimento') \\\n",
    "                           .withColumnRenamed('place', 'cidade_de_origem') \\\n",
    "                           .withColumnRenamed('height', 'altura (cm)') \\\n",
    "                           .withColumnRenamed('weight', 'peso (kg)') \\\n",
    "                           .withColumnRenamed('photo', 'link_imagem')\n",
    "\n",
    "jogadores_df.show()"
   ]
  },
  {
   "cell_type": "markdown",
   "metadata": {},
   "source": [
    "### Criando coluna com data de consumo"
   ]
  },
  {
   "cell_type": "code",
   "execution_count": 15,
   "metadata": {},
   "outputs": [
    {
     "name": "stdout",
     "output_type": "stream",
     "text": [
      "+-----+-----------------+-----------+----------+----------+--------------------+-----------------+-------------+--------------------+---------+--------------+------------------+----------------+----------------+\n",
      "|idade|    primeiro_nome|altura (cm)|id_jogador|lesionado?|         ultimo_nome|    nome_completo|nacionalidade|         link_imagem|peso (kg)|pais_de_origem|data_de_nascimento|cidade_de_origem|data_de_ingestao|\n",
      "+-----+-----------------+-----------+----------+----------+--------------------+-----------------+-------------+--------------------+---------+--------------+------------------+----------------+----------------+\n",
      "|   24|         Vinícius|       NULL|     10367|       Não|      Lopes da Silva|   Vinícius Lopes|       Brazil|https://media-4.a...|     NULL|        Brazil|        1999-05-07|            NULL|      2024-05-01|\n",
      "|   20|        Ryan Luka|        185|    266020|       Não|   Cordeiro de Souza|        Ryan Luka|       Brazil|https://media-4.a...|       76|        Brazil|        2003-04-30|            NULL|      2024-05-01|\n",
      "|   24|Vinicius Balieiro|       NULL|    278496|       Não|Lourenco De Carvalho|Vinicius Balieiro|       Brazil|https://media-4.a...|     NULL|        Brazil|        1999-05-28|            NULL|      2024-05-01|\n",
      "|   22|             Yago|        174|    305815|       Não|   de Paula Ferreira|    Yago Ferreira|       Brazil|https://media-4.a...|       73|        Brazil|        2001-08-02|            NULL|      2024-05-01|\n",
      "|   19|           Mateus|        184|    306216|       Não|           Dias Lima|         Mateusão|       Brazil|https://media-4.a...|       80|        Brazil|        2004-04-23|            NULL|      2024-05-01|\n",
      "|   19|      Victor Hugo|       NULL|    322069|       Não|      da Silva Costa|      Victor Hugo|       Brazil|https://media-4.a...|     NULL|        Brazil|        2004-11-11|            NULL|      2024-05-01|\n",
      "|   19|          Douglas|        190|    327635|       Não|      Mendes Moreira|   Douglas Mendes|       Brazil|https://media-4.a...|       84|        Brazil|        2004-06-13|            NULL|      2024-05-01|\n",
      "|   21|       Yani David|       NULL|    356992|       Não|      Quintero Rivas|      Y. Quintero|     Colombia|https://media-4.a...|     NULL|      Colombia|        2002-07-17|            NULL|      2024-05-01|\n",
      "|   20|           Sidnei|       NULL|    402498|       Não|    Fernandes Junior|           Sidnei|       Brazil|https://media-4.a...|     NULL|        Brazil|        2003-03-28|            NULL|      2024-05-01|\n",
      "|   18|           Adryan|       NULL|    403952|       Não|       Bezerra Silva|           Adryan|       Brazil|https://media-4.a...|     NULL|        Brazil|        2005-06-18|            NULL|      2024-05-01|\n",
      "|   18|     Pedro Inácio|       NULL|    405162|       Não| dos Santos Ferreira|     Pedro Inácio|       Brazil|https://media-4.a...|     NULL|        Brazil|        2005-05-12|            NULL|      2024-05-01|\n",
      "|   21|         Vinicius|       NULL|    405341|       Não|    Negro Di Stefano|         Vinicius|       Brazil|https://media-4.a...|     NULL|        Brazil|        2002-09-23|            NULL|      2024-05-01|\n",
      "|   20|     Rubens Tadeu|       NULL|    408347|       Não|    Hartmann Ricoldi|           Rubens|       Brazil|https://media-4.a...|     NULL|        Brazil|        2003-03-28|    Porto Alegre|      2024-05-01|\n",
      "|   20|   Pedro Henrique|       NULL|    408349|       Não|  Fernandes Clemente|   Pedro Clemente|       Brazil|https://media-4.a...|     NULL|        Brazil|        2003-04-29|         Taubaté|      2024-05-01|\n",
      "|   18|     Kauan Kelvin|       NULL|    408350|       Não|  Magalhães da Silva|     Kauan Kelvin|       Brazil|https://media-4.a...|     NULL|        Brazil|        2005-01-21|         Goiânia|      2024-05-01|\n",
      "|   19|            Pedro|        186|    409765|       Não|Henrique Franklim...|           Pedrão|       Brazil|https://media-4.a...|     NULL|        Brazil|        2004-01-06|            NULL|      2024-05-01|\n",
      "|   16|          Evertow|        186|    415048|       Não|Vaz Pereira da Silva|          Evertow|       Brazil|https://media-4.a...|       79|        Brazil|        2007-02-01|            NULL|      2024-05-01|\n",
      "|   17|            Allex|        164|    415052|       Não|Rodrigues Pereira...|            Allex|       Brazil|https://media-4.a...|       60|        Brazil|        2006-05-04|       São Paulo|      2024-05-01|\n",
      "|   18|   Carlos Eduardo|        193|    415082|       Não|    Coutinho de Góes|             Cadu|       Brazil|https://media-4.a...|       75|        Brazil|        2005-01-11|            NULL|      2024-05-01|\n",
      "|   18|        Newertton|        167|    415151|       Não|    Martins da Silva|        Newertton|       Brazil|https://media-4.a...|       59|        Brazil|        2005-06-03|            NULL|      2024-05-01|\n",
      "+-----+-----------------+-----------+----------+----------+--------------------+-----------------+-------------+--------------------+---------+--------------+------------------+----------------+----------------+\n",
      "only showing top 20 rows\n",
      "\n"
     ]
    }
   ],
   "source": [
    "jogadores_df = adicionar_data_de_ingestao(\n",
    "    df = jogadores_df,\n",
    "    nome_coluna = 'data_de_ingestao',\n",
    "    add_tempo = -3,\n",
    "    unidade_de_medida = 'horas'\n",
    ")\n",
    "\n",
    "jogadores_df.show()"
   ]
  },
  {
   "cell_type": "markdown",
   "metadata": {},
   "source": [
    "### Salvando arquivo"
   ]
  },
  {
   "cell_type": "code",
   "execution_count": 17,
   "metadata": {},
   "outputs": [],
   "source": [
    "jogadores_df.write.mode('overwrite').parquet(f\"{caminho_silver}/jogadores\")"
   ]
  },
  {
   "cell_type": "code",
   "execution_count": 18,
   "metadata": {},
   "outputs": [],
   "source": [
    "dbutils.notebook.exit('O arquivo \"jogadores.json\" foi processado e carregado na camada silver.')"
   ]
  }
 ],
 "metadata": {
  "kernelspec": {
   "display_name": "Python 3",
   "language": "python",
   "name": "python3"
  },
  "language_info": {
   "codemirror_mode": {
    "name": "ipython",
    "version": 3
   },
   "file_extension": ".py",
   "mimetype": "text/x-python",
   "name": "python",
   "nbconvert_exporter": "python",
   "pygments_lexer": "ipython3",
   "version": "3.12.3"
  }
 },
 "nbformat": 4,
 "nbformat_minor": 2
}

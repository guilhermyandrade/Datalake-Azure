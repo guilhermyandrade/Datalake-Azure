{
 "cells": [
  {
   "cell_type": "markdown",
   "metadata": {
    "application/vnd.databricks.v1+cell": {
     "cellMetadata": {},
     "inputWidgets": {},
     "nuid": "4f5ab488-4ad4-4c70-b137-3a923648e802",
     "showTitle": false,
     "title": ""
    }
   },
   "source": [
    "\n",
    "### Requisitos para os arquivos da pasta partidas\n",
    "\n",
    "Objetivo: realizar processo de ETL e disponibilizar os dados em camada adequada.\n",
    "\n",
    "1. Ler o arquivos csv da pasta no Datalake [ok]\n",
    "2. Renomear colunas para português usando snake case [ok]\n",
    "3. Definir a tipagem de colunas correta [ok]\n",
    "4. Coluna com data de cosumo do arquivo [ok]\n",
    "5. Salvar dados em formato parquet na camada adequada [ok]"
   ]
  },
  {
   "cell_type": "code",
   "execution_count": 1,
   "metadata": {},
   "outputs": [],
   "source": [
    "%run ../../Configuração-e-Utilitários/Variaveis.ipynb"
   ]
  },
  {
   "cell_type": "code",
   "execution_count": 2,
   "metadata": {},
   "outputs": [],
   "source": [
    "%run ../../Configuração-e-Utilitários/Funções.ipynb"
   ]
  },
  {
   "cell_type": "markdown",
   "metadata": {
    "application/vnd.databricks.v1+cell": {
     "cellMetadata": {},
     "inputWidgets": {},
     "nuid": "8665a122-4340-4026-bed5-7aff6238fd8f",
     "showTitle": false,
     "title": ""
    }
   },
   "source": [
    "### Lendo os arquivos"
   ]
  },
  {
   "cell_type": "code",
   "execution_count": 5,
   "metadata": {},
   "outputs": [
    {
     "name": "stdout",
     "output_type": "stream",
     "text": [
      "+--------------------+--------------------+--------------------+--------------------+-----+--------------+--------+-------+\n",
      "|                time|                team|              player|              assist| type|        detail|comments|id_game|\n",
      "+--------------------+--------------------+--------------------+--------------------+-----+--------------+--------+-------+\n",
      "|{'elapsed': 12, '...|{'id': 127, 'name...|{'id': 1771, 'nam...|{'id': 30408, 'na...| Goal|   Normal Goal|    NULL|1005649|\n",
      "|{'elapsed': 17, '...|{'id': 127, 'name...|{'id': 10174, 'na...|{'id': None, 'nam...| Card|   Yellow Card|Argument|1005649|\n",
      "|{'elapsed': 23, '...|{'id': 147, 'name...|{'id': 10242, 'na...|{'id': None, 'nam...| Card|   Yellow Card|    Foul|1005649|\n",
      "|{'elapsed': 31, '...|{'id': 147, 'name...|{'id': 10400, 'na...|{'id': None, 'nam...| Card|   Yellow Card|    Foul|1005649|\n",
      "|{'elapsed': 51, '...|{'id': 147, 'name...|{'id': 41290, 'na...|{'id': 77821, 'na...|subst|Substitution 1|    NULL|1005649|\n",
      "|{'elapsed': 54, '...|{'id': 147, 'name...|{'id': 10400, 'na...|{'id': 380435, 'n...|subst|Substitution 2|    NULL|1005649|\n",
      "|{'elapsed': 54, '...|{'id': 147, 'name...|{'id': 143368, 'n...|{'id': 10571, 'na...|subst|Substitution 3|    NULL|1005649|\n",
      "|{'elapsed': 56, '...|{'id': 127, 'name...|{'id': 10174, 'na...|{'id': None, 'nam...| Goal|       Penalty|    NULL|1005649|\n",
      "|{'elapsed': 69, '...|{'id': 127, 'name...|{'id': 22231, 'na...|{'id': 322067, 'n...|subst|Substitution 1|    NULL|1005649|\n",
      "|{'elapsed': 69, '...|{'id': 127, 'name...|{'id': 2414, 'nam...|{'id': 10180, 'na...|subst|Substitution 2|    NULL|1005649|\n",
      "|{'elapsed': 71, '...|{'id': 147, 'name...|{'id': 9964, 'nam...|{'id': 9686, 'nam...|subst|Substitution 4|    NULL|1005649|\n",
      "|{'elapsed': 71, '...|{'id': 147, 'name...|{'id': 9907, 'nam...|{'id': 41357, 'na...|subst|Substitution 5|    NULL|1005649|\n",
      "|{'elapsed': 76, '...|{'id': 127, 'name...|{'id': 10174, 'na...|{'id': 10321, 'na...|subst|Substitution 3|    NULL|1005649|\n",
      "|{'elapsed': 76, '...|{'id': 127, 'name...|{'id': 311157, 'n...|{'id': 10506, 'na...|subst|Substitution 4|    NULL|1005649|\n",
      "|{'elapsed': 80, '...|{'id': 127, 'name...|{'id': 10089, 'na...|{'id': None, 'nam...| Card|   Yellow Card|    Foul|1005649|\n",
      "|{'elapsed': 86, '...|{'id': 127, 'name...|{'id': 10168, 'na...|{'id': 352371, 'n...|subst|Substitution 5|    NULL|1005649|\n",
      "|{'elapsed': 89, '...|{'id': 127, 'name...|{'id': 10506, 'na...|{'id': None, 'nam...| Card|   Yellow Card|    Foul|1005649|\n",
      "|{'elapsed': 90, '...|{'id': 147, 'name...|{'id': 9686, 'nam...|{'id': None, 'nam...| Card|   Yellow Card|    Foul|1005649|\n",
      "|{'elapsed': 90, '...|{'id': 127, 'name...|{'id': 10321, 'na...|{'id': 352371, 'n...| Goal|   Normal Goal|    NULL|1005649|\n",
      "|{'elapsed': 4, 'e...|{'id': 120, 'name...|{'id': 390, 'name...|{'id': 44348, 'na...| Goal|   Normal Goal|    NULL|1005650|\n",
      "+--------------------+--------------------+--------------------+--------------------+-----+--------------+--------+-------+\n",
      "only showing top 20 rows\n",
      "\n"
     ]
    }
   ],
   "source": [
    "eventos_df = (spark.read\n",
    "               .option(\"header\", \"true\")\n",
    "               .option(\"inferSchema\", \"true\")\n",
    "               .option(\"encoding\", \"UTF-8\")\n",
    "               #.schema(schema)\n",
    "               .csv(f\"{caminho_bronze}/eventos.csv\") #/eventos-*.csv\")  # O asterisco representa qualquer coisa após o underline (\"_\")\n",
    ").drop('_c0')\n",
    "\n",
    "# Imprimindo o df\n",
    "eventos_df.show()"
   ]
  },
  {
   "cell_type": "code",
   "execution_count": 6,
   "metadata": {
    "application/vnd.databricks.v1+cell": {
     "cellMetadata": {
      "byteLimit": 2048000,
      "rowLimit": 10000
     },
     "inputWidgets": {},
     "nuid": "fc517ec1-90c1-4aeb-bede-dae4e946325c",
     "showTitle": false,
     "title": ""
    }
   },
   "outputs": [
    {
     "name": "stdout",
     "output_type": "stream",
     "text": [
      "root\n",
      " |-- time: string (nullable = true)\n",
      " |-- team: string (nullable = true)\n",
      " |-- player: string (nullable = true)\n",
      " |-- assist: string (nullable = true)\n",
      " |-- type: string (nullable = true)\n",
      " |-- detail: string (nullable = true)\n",
      " |-- comments: string (nullable = true)\n",
      " |-- id_game: integer (nullable = true)\n",
      "\n"
     ]
    }
   ],
   "source": [
    "eventos_df.printSchema()"
   ]
  },
  {
   "cell_type": "markdown",
   "metadata": {},
   "source": [
    "### Criando schema e acessando dados de colunas aninhadas"
   ]
  },
  {
   "cell_type": "markdown",
   "metadata": {},
   "source": [
    "##### Verificando colunas aninhadas"
   ]
  },
  {
   "cell_type": "code",
   "execution_count": 7,
   "metadata": {},
   "outputs": [
    {
     "name": "stdout",
     "output_type": "stream",
     "text": [
      "Colunas para alteração: \n",
      " Row(time=\"{'elapsed': 12, 'extra': 0}\") \n",
      " Row(team=\"{'id': 127, 'name': 'Flamengo', 'logo': 'https://media-4.api-sports.io/football/teams/127.png'}\") \n",
      " Row(player=\"{'id': 1771, 'name': 'Ayrton Lucas'}\") \n",
      " Row(assist=\"{'id': 30408, 'name': 'Gerson'}\") \n",
      "\n",
      "+--------------------+--------------------+--------------------+--------------------+-----+--------------+--------+-------+\n",
      "|                time|                team|              player|              assist| type|        detail|comments|id_game|\n",
      "+--------------------+--------------------+--------------------+--------------------+-----+--------------+--------+-------+\n",
      "|{'elapsed': 12, '...|{'id': 127, 'name...|{'id': 1771, 'nam...|{'id': 30408, 'na...| Goal|   Normal Goal|    NULL|1005649|\n",
      "|{'elapsed': 17, '...|{'id': 127, 'name...|{'id': 10174, 'na...|{'id': None, 'nam...| Card|   Yellow Card|Argument|1005649|\n",
      "|{'elapsed': 23, '...|{'id': 147, 'name...|{'id': 10242, 'na...|{'id': None, 'nam...| Card|   Yellow Card|    Foul|1005649|\n",
      "|{'elapsed': 31, '...|{'id': 147, 'name...|{'id': 10400, 'na...|{'id': None, 'nam...| Card|   Yellow Card|    Foul|1005649|\n",
      "|{'elapsed': 51, '...|{'id': 147, 'name...|{'id': 41290, 'na...|{'id': 77821, 'na...|subst|Substitution 1|    NULL|1005649|\n",
      "|{'elapsed': 54, '...|{'id': 147, 'name...|{'id': 10400, 'na...|{'id': 380435, 'n...|subst|Substitution 2|    NULL|1005649|\n",
      "|{'elapsed': 54, '...|{'id': 147, 'name...|{'id': 143368, 'n...|{'id': 10571, 'na...|subst|Substitution 3|    NULL|1005649|\n",
      "|{'elapsed': 56, '...|{'id': 127, 'name...|{'id': 10174, 'na...|{'id': None, 'nam...| Goal|       Penalty|    NULL|1005649|\n",
      "|{'elapsed': 69, '...|{'id': 127, 'name...|{'id': 22231, 'na...|{'id': 322067, 'n...|subst|Substitution 1|    NULL|1005649|\n",
      "|{'elapsed': 69, '...|{'id': 127, 'name...|{'id': 2414, 'nam...|{'id': 10180, 'na...|subst|Substitution 2|    NULL|1005649|\n",
      "|{'elapsed': 71, '...|{'id': 147, 'name...|{'id': 9964, 'nam...|{'id': 9686, 'nam...|subst|Substitution 4|    NULL|1005649|\n",
      "|{'elapsed': 71, '...|{'id': 147, 'name...|{'id': 9907, 'nam...|{'id': 41357, 'na...|subst|Substitution 5|    NULL|1005649|\n",
      "|{'elapsed': 76, '...|{'id': 127, 'name...|{'id': 10174, 'na...|{'id': 10321, 'na...|subst|Substitution 3|    NULL|1005649|\n",
      "|{'elapsed': 76, '...|{'id': 127, 'name...|{'id': 311157, 'n...|{'id': 10506, 'na...|subst|Substitution 4|    NULL|1005649|\n",
      "|{'elapsed': 80, '...|{'id': 127, 'name...|{'id': 10089, 'na...|{'id': None, 'nam...| Card|   Yellow Card|    Foul|1005649|\n",
      "|{'elapsed': 86, '...|{'id': 127, 'name...|{'id': 10168, 'na...|{'id': 352371, 'n...|subst|Substitution 5|    NULL|1005649|\n",
      "|{'elapsed': 89, '...|{'id': 127, 'name...|{'id': 10506, 'na...|{'id': None, 'nam...| Card|   Yellow Card|    Foul|1005649|\n",
      "|{'elapsed': 90, '...|{'id': 147, 'name...|{'id': 9686, 'nam...|{'id': None, 'nam...| Card|   Yellow Card|    Foul|1005649|\n",
      "|{'elapsed': 90, '...|{'id': 127, 'name...|{'id': 10321, 'na...|{'id': 352371, 'n...| Goal|   Normal Goal|    NULL|1005649|\n",
      "|{'elapsed': 4, 'e...|{'id': 120, 'name...|{'id': 390, 'name...|{'id': 44348, 'na...| Goal|   Normal Goal|    NULL|1005650|\n",
      "+--------------------+--------------------+--------------------+--------------------+-----+--------------+--------+-------+\n",
      "only showing top 20 rows\n",
      "\n"
     ]
    }
   ],
   "source": [
    "print('Colunas para alteração: \\n',\n",
    "    eventos_df.select(eventos_df.time).collect()[0], '\\n',\n",
    "    eventos_df.select(eventos_df.team).collect()[0], '\\n',\n",
    "    eventos_df.select(eventos_df.player).collect()[0], '\\n',\n",
    "    eventos_df.select(eventos_df.assist).collect()[0], '\\n'\n",
    ")\n",
    "\n",
    "eventos_df.show()"
   ]
  },
  {
   "cell_type": "markdown",
   "metadata": {},
   "source": [
    "##### Criando schema das colunas aninhadas"
   ]
  },
  {
   "cell_type": "code",
   "execution_count": 8,
   "metadata": {},
   "outputs": [],
   "source": [
    "from pyspark.sql.types import StructType, StructField, StringType, IntegerType\n",
    "\n",
    "schema_time = StructType(\n",
    "    fields=[\n",
    "        StructField('elapsed', IntegerType()),\n",
    "        StructField('extra', IntegerType()),\n",
    "    ]\n",
    ")\n",
    "\n",
    "schema_team = StructType(\n",
    "    fields=[\n",
    "        StructField('id', IntegerType()),\n",
    "        StructField('name', StringType()),\n",
    "        StructField('logo', StringType())\n",
    "    ]\n",
    ")\n",
    "\n",
    "schema_player_assist = StructType(\n",
    "    fields=[\n",
    "        StructField('id', IntegerType()),\n",
    "        StructField('name', StringType())\n",
    "    ]\n",
    ")"
   ]
  },
  {
   "cell_type": "markdown",
   "metadata": {},
   "source": [
    "##### Alteração do schema"
   ]
  },
  {
   "cell_type": "code",
   "execution_count": 9,
   "metadata": {},
   "outputs": [
    {
     "name": "stdout",
     "output_type": "stream",
     "text": [
      "root\n",
      " |-- time: struct (nullable = true)\n",
      " |    |-- elapsed: integer (nullable = true)\n",
      " |    |-- extra: integer (nullable = true)\n",
      " |-- team: struct (nullable = true)\n",
      " |    |-- id: integer (nullable = true)\n",
      " |    |-- name: string (nullable = true)\n",
      " |    |-- logo: string (nullable = true)\n",
      " |-- player: struct (nullable = true)\n",
      " |    |-- id: integer (nullable = true)\n",
      " |    |-- name: string (nullable = true)\n",
      " |-- assist: struct (nullable = true)\n",
      " |    |-- id: integer (nullable = true)\n",
      " |    |-- name: string (nullable = true)\n",
      " |-- type: string (nullable = true)\n",
      " |-- detail: string (nullable = true)\n",
      " |-- comments: string (nullable = true)\n",
      " |-- id_game: integer (nullable = true)\n",
      "\n"
     ]
    }
   ],
   "source": [
    "from pyspark.sql.functions import from_json\n",
    "\n",
    "eventos_df = eventos_df.withColumn('time', from_json(eventos_df.time, schema_time))\n",
    "eventos_df = eventos_df.withColumn('team', from_json(eventos_df.team, schema_team))\n",
    "eventos_df = eventos_df.withColumn('player', from_json(eventos_df.player, schema_player_assist))\n",
    "eventos_df = eventos_df.withColumn('assist', from_json(eventos_df.assist, schema_player_assist))\n",
    "\n",
    "eventos_df.printSchema()"
   ]
  },
  {
   "cell_type": "markdown",
   "metadata": {},
   "source": [
    "### Formatando colunas aninhadas para o formato tabular"
   ]
  },
  {
   "cell_type": "code",
   "execution_count": 10,
   "metadata": {},
   "outputs": [],
   "source": [
    "from pyspark.sql.functions import explode, array\n",
    "\n",
    "# Coluna TEAM\n",
    "eventos_df = eventos_df.withColumn('team_id', explode(array('team.id')) )\n",
    "eventos_df = eventos_df.withColumn('team_name', explode(array('team.name')) )\n",
    "eventos_df = eventos_df.withColumn('team_logo', explode(array('team.logo')) )\n",
    "\n",
    "# Coluna TIME\n",
    "eventos_df = eventos_df.withColumn('time_elapsed', explode(array('time.elapsed')) )\n",
    "eventos_df = eventos_df.withColumn('time_extra', explode(array('time.extra')) )\n",
    "\n",
    "# Coluna PLAYER\n",
    "eventos_df = eventos_df.withColumn('player_id', explode(array('player.id')) )\n",
    "eventos_df = eventos_df.withColumn('player_name', explode(array('player.name')) )\n",
    "\n",
    "# Coluna ASSIST\n",
    "eventos_df = eventos_df.withColumn('assist_id', explode(array('assist.id')) )\n",
    "eventos_df = eventos_df.withColumn('assist_name', explode(array('assist.name')) )\n"
   ]
  },
  {
   "cell_type": "code",
   "execution_count": 11,
   "metadata": {},
   "outputs": [],
   "source": [
    "# Drop das colunas aninhadas\n",
    "eventos_df = eventos_df.drop('time') \\\n",
    "                       .drop('team') \\\n",
    "                       .drop('player')\\\n",
    "                       .drop('assist')"
   ]
  },
  {
   "cell_type": "code",
   "execution_count": 12,
   "metadata": {},
   "outputs": [
    {
     "name": "stdout",
     "output_type": "stream",
     "text": [
      "+-----+--------------+--------+-------+-------+---------+--------------------+------------+----------+---------+---------------+---------+--------------+\n",
      "| type|        detail|comments|id_game|team_id|team_name|           team_logo|time_elapsed|time_extra|player_id|    player_name|assist_id|   assist_name|\n",
      "+-----+--------------+--------+-------+-------+---------+--------------------+------------+----------+---------+---------------+---------+--------------+\n",
      "| Goal|   Normal Goal|    NULL|1005649|    127| Flamengo|https://media-4.a...|          12|         0|     1771|   Ayrton Lucas|    30408|        Gerson|\n",
      "| Card|   Yellow Card|Argument|1005649|    127| Flamengo|https://media-4.a...|          17|         0|    10174|Gabriel Barbosa|     NULL|          NULL|\n",
      "| Card|   Yellow Card|    Foul|1005649|    147| Coritiba|https://media-4.a...|          23|         0|    10242|    Júnior Urso|     NULL|          NULL|\n",
      "| Card|   Yellow Card|    Foul|1005649|    147| Coritiba|https://media-4.a...|          31|         0|    10400|William Pottker|     NULL|          NULL|\n",
      "|subst|Substitution 1|    NULL|1005649|    147| Coritiba|https://media-4.a...|          51|         0|    41290|  Rodrigo Pinho|    77821|        Robson|\n",
      "|subst|Substitution 2|    NULL|1005649|    147| Coritiba|https://media-4.a...|          54|         0|    10400|William Pottker|   380435|    Kaio César|\n",
      "|subst|Substitution 3|    NULL|1005649|    147| Coritiba|https://media-4.a...|          54|         0|   143368|    Bruno Gomes|    10571|        Andrey|\n",
      "| Goal|       Penalty|    NULL|1005649|    127| Flamengo|https://media-4.a...|          56|         0|    10174|Gabriel Barbosa|     NULL|          NULL|\n",
      "|subst|Substitution 1|    NULL|1005649|    127| Flamengo|https://media-4.a...|          69|         0|    22231|    Thiago Maia|   322067|    Igor Jesus|\n",
      "|subst|Substitution 2|    NULL|1005649|    127| Flamengo|https://media-4.a...|          69|         0|     2414|        Everton|    10180|Bruno Henrique|\n",
      "|subst|Substitution 4|    NULL|1005649|    147| Coritiba|https://media-4.a...|          71|         0|     9964|        Liziero|     9686|    Zé Roberto|\n",
      "|subst|Substitution 5|    NULL|1005649|    147| Coritiba|https://media-4.a...|          71|         0|     9907|    Victor Luís|    41357|      Jamerson|\n",
      "|subst|Substitution 3|    NULL|1005649|    127| Flamengo|https://media-4.a...|          76|         0|    10174|Gabriel Barbosa|    10321|         Pedro|\n",
      "|subst|Substitution 4|    NULL|1005649|    127| Flamengo|https://media-4.a...|          76|         0|   311157| Matheus França|    10506|       Marinho|\n",
      "| Card|   Yellow Card|    Foul|1005649|    127| Flamengo|https://media-4.a...|          80|         0|    10089| Fabrício Bruno|     NULL|          NULL|\n",
      "|subst|Substitution 5|    NULL|1005649|    127| Flamengo|https://media-4.a...|          86|         0|    10168|Éverton Ribeiro|   352371|   Victor Hugo|\n",
      "| Card|   Yellow Card|    Foul|1005649|    127| Flamengo|https://media-4.a...|          89|         0|    10506|        Marinho|     NULL|          NULL|\n",
      "| Card|   Yellow Card|    Foul|1005649|    147| Coritiba|https://media-4.a...|          90|         4|     9686|     Zé Roberto|     NULL|          NULL|\n",
      "| Goal|   Normal Goal|    NULL|1005649|    127| Flamengo|https://media-4.a...|          90|         5|    10321|          Pedro|   352371|   Victor Hugo|\n",
      "| Goal|   Normal Goal|    NULL|1005650|    120| Botafogo|https://media-4.a...|           4|         0|      390|Tiquinho Soares|    44348|       Eduardo|\n",
      "+-----+--------------+--------+-------+-------+---------+--------------------+------------+----------+---------+---------------+---------+--------------+\n",
      "only showing top 20 rows\n",
      "\n",
      "root\n",
      " |-- type: string (nullable = true)\n",
      " |-- detail: string (nullable = true)\n",
      " |-- comments: string (nullable = true)\n",
      " |-- id_game: integer (nullable = true)\n",
      " |-- team_id: integer (nullable = true)\n",
      " |-- team_name: string (nullable = true)\n",
      " |-- team_logo: string (nullable = true)\n",
      " |-- time_elapsed: integer (nullable = true)\n",
      " |-- time_extra: integer (nullable = true)\n",
      " |-- player_id: integer (nullable = true)\n",
      " |-- player_name: string (nullable = true)\n",
      " |-- assist_id: integer (nullable = true)\n",
      " |-- assist_name: string (nullable = true)\n",
      "\n"
     ]
    }
   ],
   "source": [
    "eventos_df.show()\n",
    "eventos_df.printSchema()"
   ]
  },
  {
   "cell_type": "markdown",
   "metadata": {
    "application/vnd.databricks.v1+cell": {
     "cellMetadata": {},
     "inputWidgets": {},
     "nuid": "783e4a83-8159-48a1-8bce-c839fd84196c",
     "showTitle": false,
     "title": ""
    }
   },
   "source": [
    "### Renomeando as colunas"
   ]
  },
  {
   "cell_type": "code",
   "execution_count": 13,
   "metadata": {
    "application/vnd.databricks.v1+cell": {
     "cellMetadata": {
      "byteLimit": 2048000,
      "rowLimit": 10000
     },
     "inputWidgets": {},
     "nuid": "078015ad-a5a4-4781-89e7-951b42bacc36",
     "showTitle": false,
     "title": ""
    }
   },
   "outputs": [
    {
     "name": "stdout",
     "output_type": "stream",
     "text": [
      "+--------------+-----------------+-----------+----------+-------+------------+--------------------+----------------+----------------------------+----------+---------------+--------------+-------------------+\n",
      "|tipo_do_evento|detalhe_do_evento|comentarios|id_partida|id_time|nome_do_time|        logo_do_time|minuto_do_evento|minuto_do_evento_prorrogacao|id_jogador|nome_do_jogador|id_assistencia|nome_da_assistancia|\n",
      "+--------------+-----------------+-----------+----------+-------+------------+--------------------+----------------+----------------------------+----------+---------------+--------------+-------------------+\n",
      "|          Goal|      Normal Goal|       NULL|   1005649|    127|    Flamengo|https://media-4.a...|              12|                           0|      1771|   Ayrton Lucas|         30408|             Gerson|\n",
      "|          Card|      Yellow Card|   Argument|   1005649|    127|    Flamengo|https://media-4.a...|              17|                           0|     10174|Gabriel Barbosa|          NULL|               NULL|\n",
      "|          Card|      Yellow Card|       Foul|   1005649|    147|    Coritiba|https://media-4.a...|              23|                           0|     10242|    Júnior Urso|          NULL|               NULL|\n",
      "|          Card|      Yellow Card|       Foul|   1005649|    147|    Coritiba|https://media-4.a...|              31|                           0|     10400|William Pottker|          NULL|               NULL|\n",
      "|         subst|   Substitution 1|       NULL|   1005649|    147|    Coritiba|https://media-4.a...|              51|                           0|     41290|  Rodrigo Pinho|         77821|             Robson|\n",
      "|         subst|   Substitution 2|       NULL|   1005649|    147|    Coritiba|https://media-4.a...|              54|                           0|     10400|William Pottker|        380435|         Kaio César|\n",
      "|         subst|   Substitution 3|       NULL|   1005649|    147|    Coritiba|https://media-4.a...|              54|                           0|    143368|    Bruno Gomes|         10571|             Andrey|\n",
      "|          Goal|          Penalty|       NULL|   1005649|    127|    Flamengo|https://media-4.a...|              56|                           0|     10174|Gabriel Barbosa|          NULL|               NULL|\n",
      "|         subst|   Substitution 1|       NULL|   1005649|    127|    Flamengo|https://media-4.a...|              69|                           0|     22231|    Thiago Maia|        322067|         Igor Jesus|\n",
      "|         subst|   Substitution 2|       NULL|   1005649|    127|    Flamengo|https://media-4.a...|              69|                           0|      2414|        Everton|         10180|     Bruno Henrique|\n",
      "|         subst|   Substitution 4|       NULL|   1005649|    147|    Coritiba|https://media-4.a...|              71|                           0|      9964|        Liziero|          9686|         Zé Roberto|\n",
      "|         subst|   Substitution 5|       NULL|   1005649|    147|    Coritiba|https://media-4.a...|              71|                           0|      9907|    Victor Luís|         41357|           Jamerson|\n",
      "|         subst|   Substitution 3|       NULL|   1005649|    127|    Flamengo|https://media-4.a...|              76|                           0|     10174|Gabriel Barbosa|         10321|              Pedro|\n",
      "|         subst|   Substitution 4|       NULL|   1005649|    127|    Flamengo|https://media-4.a...|              76|                           0|    311157| Matheus França|         10506|            Marinho|\n",
      "|          Card|      Yellow Card|       Foul|   1005649|    127|    Flamengo|https://media-4.a...|              80|                           0|     10089| Fabrício Bruno|          NULL|               NULL|\n",
      "|         subst|   Substitution 5|       NULL|   1005649|    127|    Flamengo|https://media-4.a...|              86|                           0|     10168|Éverton Ribeiro|        352371|        Victor Hugo|\n",
      "|          Card|      Yellow Card|       Foul|   1005649|    127|    Flamengo|https://media-4.a...|              89|                           0|     10506|        Marinho|          NULL|               NULL|\n",
      "|          Card|      Yellow Card|       Foul|   1005649|    147|    Coritiba|https://media-4.a...|              90|                           4|      9686|     Zé Roberto|          NULL|               NULL|\n",
      "|          Goal|      Normal Goal|       NULL|   1005649|    127|    Flamengo|https://media-4.a...|              90|                           5|     10321|          Pedro|        352371|        Victor Hugo|\n",
      "|          Goal|      Normal Goal|       NULL|   1005650|    120|    Botafogo|https://media-4.a...|               4|                           0|       390|Tiquinho Soares|         44348|            Eduardo|\n",
      "+--------------+-----------------+-----------+----------+-------+------------+--------------------+----------------+----------------------------+----------+---------------+--------------+-------------------+\n",
      "only showing top 20 rows\n",
      "\n"
     ]
    }
   ],
   "source": [
    "eventos_df = eventos_df \\\n",
    "    .withColumnRenamed(\"id_game\", \"id_partida\") \\\n",
    "    .withColumnRenamed(\"team_id\", \"id_time\") \\\n",
    "    .withColumnRenamed(\"player_id\", \"id_jogador\") \\\n",
    "    .withColumnRenamed(\"assist_id\", \"id_assistencia\") \\\n",
    "    .withColumnRenamed(\"type\", \"tipo_do_evento\") \\\n",
    "    .withColumnRenamed(\"detail\", \"detalhe_do_evento\") \\\n",
    "    .withColumnRenamed(\"comments\", \"comentarios\") \\\n",
    "    .withColumnRenamed(\"player_name\", \"nome_do_jogador\") \\\n",
    "    .withColumnRenamed(\"team_name\", \"nome_do_time\") \\\n",
    "    .withColumnRenamed(\"team_logo\", \"logo_do_time\") \\\n",
    "    .withColumnRenamed(\"time_elapsed\", \"minuto_do_evento\") \\\n",
    "    .withColumnRenamed(\"time_extra\", \"minuto_do_evento_prorrogacao\") \\\n",
    "    .withColumnRenamed(\"assist_name\", \"nome_da_assistancia\")\n",
    "\n",
    "eventos_df.show()"
   ]
  },
  {
   "cell_type": "markdown",
   "metadata": {},
   "source": [
    "### Tratamento dos valores das colunas"
   ]
  },
  {
   "cell_type": "code",
   "execution_count": 14,
   "metadata": {},
   "outputs": [
    {
     "name": "stdout",
     "output_type": "stream",
     "text": [
      "root\n",
      " |-- tipo_do_evento: string (nullable = true)\n",
      " |-- detalhe_do_evento: string (nullable = true)\n",
      " |-- comentarios: string (nullable = true)\n",
      " |-- id_partida: integer (nullable = true)\n",
      " |-- id_time: integer (nullable = true)\n",
      " |-- nome_do_time: string (nullable = true)\n",
      " |-- logo_do_time: string (nullable = true)\n",
      " |-- minuto_do_evento: integer (nullable = true)\n",
      " |-- minuto_do_evento_prorrogacao: integer (nullable = true)\n",
      " |-- id_jogador: integer (nullable = true)\n",
      " |-- nome_do_jogador: string (nullable = true)\n",
      " |-- id_assistencia: integer (nullable = true)\n",
      " |-- nome_da_assistancia: string (nullable = true)\n",
      "\n"
     ]
    }
   ],
   "source": [
    "eventos_df.printSchema()"
   ]
  },
  {
   "cell_type": "markdown",
   "metadata": {
    "application/vnd.databricks.v1+cell": {
     "cellMetadata": {},
     "inputWidgets": {},
     "nuid": "05f3a0c9-5377-46a3-8aba-3d407debdba5",
     "showTitle": false,
     "title": ""
    }
   },
   "source": [
    "### Criando coluna com data de consumo"
   ]
  },
  {
   "cell_type": "code",
   "execution_count": 15,
   "metadata": {
    "application/vnd.databricks.v1+cell": {
     "cellMetadata": {
      "byteLimit": 2048000,
      "rowLimit": 10000
     },
     "inputWidgets": {},
     "nuid": "c7618875-fc82-4c8e-8d6d-df542f1a2310",
     "showTitle": false,
     "title": ""
    }
   },
   "outputs": [
    {
     "name": "stdout",
     "output_type": "stream",
     "text": [
      "+--------------+-----------------+-----------+----------+-------+------------+--------------------+----------------+----------------------------+----------+---------------+--------------+-------------------+----------------+\n",
      "|tipo_do_evento|detalhe_do_evento|comentarios|id_partida|id_time|nome_do_time|        logo_do_time|minuto_do_evento|minuto_do_evento_prorrogacao|id_jogador|nome_do_jogador|id_assistencia|nome_da_assistancia|data_de_ingestao|\n",
      "+--------------+-----------------+-----------+----------+-------+------------+--------------------+----------------+----------------------------+----------+---------------+--------------+-------------------+----------------+\n",
      "|          Goal|      Normal Goal|       NULL|   1005649|    127|    Flamengo|https://media-4.a...|              12|                           0|      1771|   Ayrton Lucas|         30408|             Gerson|      2024-05-09|\n",
      "|          Card|      Yellow Card|   Argument|   1005649|    127|    Flamengo|https://media-4.a...|              17|                           0|     10174|Gabriel Barbosa|          NULL|               NULL|      2024-05-09|\n",
      "|          Card|      Yellow Card|       Foul|   1005649|    147|    Coritiba|https://media-4.a...|              23|                           0|     10242|    Júnior Urso|          NULL|               NULL|      2024-05-09|\n",
      "|          Card|      Yellow Card|       Foul|   1005649|    147|    Coritiba|https://media-4.a...|              31|                           0|     10400|William Pottker|          NULL|               NULL|      2024-05-09|\n",
      "|         subst|   Substitution 1|       NULL|   1005649|    147|    Coritiba|https://media-4.a...|              51|                           0|     41290|  Rodrigo Pinho|         77821|             Robson|      2024-05-09|\n",
      "|         subst|   Substitution 2|       NULL|   1005649|    147|    Coritiba|https://media-4.a...|              54|                           0|     10400|William Pottker|        380435|         Kaio César|      2024-05-09|\n",
      "|         subst|   Substitution 3|       NULL|   1005649|    147|    Coritiba|https://media-4.a...|              54|                           0|    143368|    Bruno Gomes|         10571|             Andrey|      2024-05-09|\n",
      "|          Goal|          Penalty|       NULL|   1005649|    127|    Flamengo|https://media-4.a...|              56|                           0|     10174|Gabriel Barbosa|          NULL|               NULL|      2024-05-09|\n",
      "|         subst|   Substitution 1|       NULL|   1005649|    127|    Flamengo|https://media-4.a...|              69|                           0|     22231|    Thiago Maia|        322067|         Igor Jesus|      2024-05-09|\n",
      "|         subst|   Substitution 2|       NULL|   1005649|    127|    Flamengo|https://media-4.a...|              69|                           0|      2414|        Everton|         10180|     Bruno Henrique|      2024-05-09|\n",
      "|         subst|   Substitution 4|       NULL|   1005649|    147|    Coritiba|https://media-4.a...|              71|                           0|      9964|        Liziero|          9686|         Zé Roberto|      2024-05-09|\n",
      "|         subst|   Substitution 5|       NULL|   1005649|    147|    Coritiba|https://media-4.a...|              71|                           0|      9907|    Victor Luís|         41357|           Jamerson|      2024-05-09|\n",
      "|         subst|   Substitution 3|       NULL|   1005649|    127|    Flamengo|https://media-4.a...|              76|                           0|     10174|Gabriel Barbosa|         10321|              Pedro|      2024-05-09|\n",
      "|         subst|   Substitution 4|       NULL|   1005649|    127|    Flamengo|https://media-4.a...|              76|                           0|    311157| Matheus França|         10506|            Marinho|      2024-05-09|\n",
      "|          Card|      Yellow Card|       Foul|   1005649|    127|    Flamengo|https://media-4.a...|              80|                           0|     10089| Fabrício Bruno|          NULL|               NULL|      2024-05-09|\n",
      "|         subst|   Substitution 5|       NULL|   1005649|    127|    Flamengo|https://media-4.a...|              86|                           0|     10168|Éverton Ribeiro|        352371|        Victor Hugo|      2024-05-09|\n",
      "|          Card|      Yellow Card|       Foul|   1005649|    127|    Flamengo|https://media-4.a...|              89|                           0|     10506|        Marinho|          NULL|               NULL|      2024-05-09|\n",
      "|          Card|      Yellow Card|       Foul|   1005649|    147|    Coritiba|https://media-4.a...|              90|                           4|      9686|     Zé Roberto|          NULL|               NULL|      2024-05-09|\n",
      "|          Goal|      Normal Goal|       NULL|   1005649|    127|    Flamengo|https://media-4.a...|              90|                           5|     10321|          Pedro|        352371|        Victor Hugo|      2024-05-09|\n",
      "|          Goal|      Normal Goal|       NULL|   1005650|    120|    Botafogo|https://media-4.a...|               4|                           0|       390|Tiquinho Soares|         44348|            Eduardo|      2024-05-09|\n",
      "+--------------+-----------------+-----------+----------+-------+------------+--------------------+----------------+----------------------------+----------+---------------+--------------+-------------------+----------------+\n",
      "only showing top 20 rows\n",
      "\n"
     ]
    }
   ],
   "source": [
    "eventos_df = adicionar_data_de_ingestao(\n",
    "    df = eventos_df,\n",
    "    nome_coluna = 'data_de_ingestao',\n",
    "    add_tempo = -3,\n",
    "    unidade_de_medida = 'horas'\n",
    ")\n",
    "\n",
    "eventos_df.show()"
   ]
  },
  {
   "cell_type": "markdown",
   "metadata": {
    "application/vnd.databricks.v1+cell": {
     "cellMetadata": {},
     "inputWidgets": {},
     "nuid": "1ef7e093-abba-49cb-8eb3-3210576590f3",
     "showTitle": false,
     "title": ""
    }
   },
   "source": [
    "### Salvando em formato parquet"
   ]
  },
  {
   "cell_type": "code",
   "execution_count": 17,
   "metadata": {
    "application/vnd.databricks.v1+cell": {
     "cellMetadata": {
      "byteLimit": 2048000,
      "rowLimit": 10000
     },
     "inputWidgets": {},
     "nuid": "9e325d98-623e-4167-9b72-198a097b6b9e",
     "showTitle": false,
     "title": ""
    }
   },
   "outputs": [],
   "source": [
    "eventos_df.write.mode(\"Overwrite\").parquet(f\"{caminho_silver}/eventos\")"
   ]
  },
  {
   "cell_type": "code",
   "execution_count": 18,
   "metadata": {},
   "outputs": [],
   "source": [
    "dbutils.notebook.exit('Os arquivos da pasta \"eventos\" foram processados e carregados na camada silver.')"
   ]
  }
 ],
 "metadata": {
  "application/vnd.databricks.v1+notebook": {
   "dashboards": [],
   "language": "python",
   "notebookMetadata": {
    "pythonIndentUnit": 4
   },
   "notebookName": "Ingestão de dados - pasta partidas.csv",
   "widgets": {}
  },
  "kernelspec": {
   "display_name": "venv",
   "language": "python",
   "name": "python3"
  },
  "language_info": {
   "codemirror_mode": {
    "name": "ipython",
    "version": 3
   },
   "file_extension": ".py",
   "mimetype": "text/x-python",
   "name": "python",
   "nbconvert_exporter": "python",
   "pygments_lexer": "ipython3",
   "version": "3.11.8"
  }
 },
 "nbformat": 4,
 "nbformat_minor": 0
}

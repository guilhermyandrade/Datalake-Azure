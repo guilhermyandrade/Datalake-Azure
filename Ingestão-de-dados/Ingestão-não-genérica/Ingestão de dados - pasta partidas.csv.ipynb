{
 "cells": [
  {
   "cell_type": "markdown",
   "metadata": {
    "application/vnd.databricks.v1+cell": {
     "cellMetadata": {},
     "inputWidgets": {},
     "nuid": "4f5ab488-4ad4-4c70-b137-3a923648e802",
     "showTitle": false,
     "title": ""
    }
   },
   "source": [
    "\n",
    "### Requisitos para os arquivos da pasta partidas\n",
    "\n",
    "Objetivo: realizar processo de ETL e disponibilizar os dados em camada adequada.\n",
    "\n",
    "1. Ler o arquivos csv da pasta no Datalake [ok]\n",
    "2. Renomear colunas para português usando snake case [ok]\n",
    "3. Definir a tipagem de colunas correta [ok]\n",
    "4. Coluna com data de cosumo do arquivo [ok]\n",
    "5. Salvar dados em formato parquet na camada adequada [ok]"
   ]
  },
  {
   "cell_type": "code",
   "execution_count": 1,
   "metadata": {},
   "outputs": [],
   "source": [
    "%run ../../Configuração-e-Utilitários/Variaveis.ipynb"
   ]
  },
  {
   "cell_type": "code",
   "execution_count": 2,
   "metadata": {},
   "outputs": [],
   "source": [
    "%run ../../Configuração-e-Utilitários/Funções.ipynb"
   ]
  },
  {
   "cell_type": "markdown",
   "metadata": {
    "application/vnd.databricks.v1+cell": {
     "cellMetadata": {},
     "inputWidgets": {},
     "nuid": "8665a122-4340-4026-bed5-7aff6238fd8f",
     "showTitle": false,
     "title": ""
    }
   },
   "source": [
    "### Lendo os arquivos"
   ]
  },
  {
   "cell_type": "code",
   "execution_count": 5,
   "metadata": {},
   "outputs": [
    {
     "name": "stdout",
     "output_type": "stream",
     "text": [
      "+------+-------+-------------------+--------+--------------+---------+-------------+------------------+-------------+-------------+----------+----------+-------------------+-------------------+-------------------+-------------------+\n",
      "|    id|referee|               date|venue.id|   status.long|league.id|league.season|      league.round|teams.home.id|teams.away.id|goals.home|goals.away|score.halftime.home|score.halftime.away|score.fulltime.home|score.fulltime.away|\n",
      "+------+-------+-------------------+--------+--------------+---------+-------------+------------------+-------------+-------------+----------+----------+-------------------+-------------------+-------------------+-------------------+\n",
      "|191547|   NULL|2011-05-21 18:30:00|    NULL|Match Finished|     71.0|       2011.0|Regular Season - 1|        127.0|        145.0|       4.0|       0.0|                1.0|                0.0|                4.0|               0.0�|\n",
      "|191548|   NULL|2011-05-21 18:30:00|    NULL|Match Finished|     71.0|       2011.0|Regular Season - 1|        129.0|        133.0|       1.0|       3.0|                0.0|                0.0|                1.0|               3.0�|\n",
      "|191549|   NULL|2011-05-21 18:30:00|    NULL|Match Finished|     71.0|       2011.0|Regular Season - 1|       1062.0|        134.0|       3.0|       0.0|                2.0|                0.0|                3.0|               0.0�|\n",
      "|191550|   NULL|2011-05-21 21:00:00|    NULL|Match Finished|     71.0|       2011.0|Regular Season - 1|        128.0|        119.0|       1.0|       1.0|                1.0|                1.0|                1.0|               1.0�|\n",
      "|191551|   NULL|2011-05-22 16:00:00|    NULL|Match Finished|     71.0|       2011.0|Regular Season - 1|        121.0|        120.0|       1.0|       0.0|                0.0|                0.0|                1.0|               0.0�|\n",
      "|191552|   NULL|2011-05-22 16:00:00|    NULL|Match Finished|     71.0|       2011.0|Regular Season - 1|        130.0|        131.0|       1.0|       2.0|                0.0|                0.0|                1.0|               2.0�|\n",
      "|191553|   NULL|2011-05-22 16:00:00|    NULL|Match Finished|     71.0|       2011.0|Regular Season - 1|        147.0|        144.0|       0.0|       1.0|                0.0|                0.0|                0.0|               1.0�|\n",
      "|191554|   NULL|2011-05-22 16:00:00|    NULL|Match Finished|     71.0|       2011.0|Regular Season - 1|        137.0|        135.0|       1.0|       0.0|                0.0|                0.0|                1.0|               0.0�|\n",
      "|191555|   NULL|2011-05-22 18:30:00|    NULL|Match Finished|     71.0|       2011.0|Regular Season - 1|        124.0|        126.0|       0.0|       2.0|                0.0|                1.0|                0.0|               2.0�|\n",
      "|191556|   NULL|2011-05-22 18:30:00|    NULL|Match Finished|     71.0|       2011.0|Regular Season - 1|        125.0|        118.0|       2.0|       1.0|                0.0|                1.0|                2.0|               1.0�|\n",
      "|191557|   NULL|2011-05-28 18:30:00|    NULL|Match Finished|     71.0|       2011.0|Regular Season - 2|        120.0|        128.0|       1.0|       0.0|                1.0|                0.0|                1.0|               0.0�|\n",
      "|191558|   NULL|2011-05-28 18:30:00|    NULL|Match Finished|     71.0|       2011.0|Regular Season - 2|        119.0|        129.0|       0.0|       1.0|                0.0|                0.0|                0.0|               1.0�|\n",
      "|191559|   NULL|2011-05-28 18:30:00|    NULL|Match Finished|     71.0|       2011.0|Regular Season - 2|        145.0|       1062.0|       1.0|       3.0|                1.0|                1.0|                1.0|               3.0�|\n",
      "|191560|   NULL|2011-05-28 21:00:00|    NULL|Match Finished|     71.0|       2011.0|Regular Season - 2|        126.0|        137.0|       1.0|       0.0|                0.0|                0.0|                1.0|               0.0�|\n",
      "|191561|   NULL|2011-05-29 16:00:00|    NULL|Match Finished|     71.0|       2011.0|Regular Season - 2|        131.0|        147.0|       2.0|       1.0|                1.0|                0.0|                2.0|               1.0�|\n",
      "|191562|   NULL|2011-05-29 16:00:00|    NULL|Match Finished|     71.0|       2011.0|Regular Season - 2|        118.0|        127.0|       3.0|       3.0|                2.0|                1.0|                3.0|               3.0�|\n",
      "|191563|   NULL|2011-05-29 16:00:00|    NULL|Match Finished|     71.0|       2011.0|Regular Season - 2|        134.0|        130.0|       0.0|       1.0|                0.0|                1.0|                0.0|               1.0�|\n",
      "|191564|   NULL|2011-05-29 16:00:00|    NULL|Match Finished|     71.0|       2011.0|Regular Season - 2|        135.0|        121.0|       1.0|       1.0|                0.0|                0.0|                1.0|               1.0�|\n",
      "|191565|   NULL|2011-05-29 18:30:00|    NULL|Match Finished|     71.0|       2011.0|Regular Season - 2|        133.0|        125.0|       3.0|       0.0|                1.0|                0.0|                3.0|               0.0�|\n",
      "|191566|   NULL|2011-05-29 18:30:00|    NULL|Match Finished|     71.0|       2011.0|Regular Season - 2|        144.0|        124.0|       0.0|       1.0|                0.0|                1.0|                0.0|               1.0�|\n",
      "+------+-------+-------------------+--------+--------------+---------+-------------+------------------+-------------+-------------+----------+----------+-------------------+-------------------+-------------------+-------------------+\n",
      "only showing top 20 rows\n",
      "\n"
     ]
    }
   ],
   "source": [
    "partidas_df = (spark.read\n",
    "               .option(\"header\", \"true\")\n",
    "               .option(\"inferSchema\", \"true\")\n",
    "               .option(\"encoding\", \"UTF-8\")\n",
    "               .csv(f\"{caminho_bronze}/partidas_*.csv\")  # O asterisco representa qualquer coisa após o underline (\"_\")\n",
    ").drop('_c0')\n",
    "\n",
    "# Imprimindo o df\n",
    "partidas_df.show()"
   ]
  },
  {
   "cell_type": "code",
   "execution_count": 6,
   "metadata": {
    "application/vnd.databricks.v1+cell": {
     "cellMetadata": {
      "byteLimit": 2048000,
      "rowLimit": 10000
     },
     "inputWidgets": {},
     "nuid": "fc517ec1-90c1-4aeb-bede-dae4e946325c",
     "showTitle": false,
     "title": ""
    }
   },
   "outputs": [
    {
     "name": "stdout",
     "output_type": "stream",
     "text": [
      "root\n",
      " |-- id: string (nullable = true)\n",
      " |-- referee: string (nullable = true)\n",
      " |-- date: timestamp (nullable = true)\n",
      " |-- venue.id: double (nullable = true)\n",
      " |-- status.long: string (nullable = true)\n",
      " |-- league.id: double (nullable = true)\n",
      " |-- league.season: double (nullable = true)\n",
      " |-- league.round: string (nullable = true)\n",
      " |-- teams.home.id: double (nullable = true)\n",
      " |-- teams.away.id: double (nullable = true)\n",
      " |-- goals.home: double (nullable = true)\n",
      " |-- goals.away: double (nullable = true)\n",
      " |-- score.halftime.home: double (nullable = true)\n",
      " |-- score.halftime.away: double (nullable = true)\n",
      " |-- score.fulltime.home: double (nullable = true)\n",
      " |-- score.fulltime.away: string (nullable = true)\n",
      "\n"
     ]
    }
   ],
   "source": [
    "partidas_df.printSchema()"
   ]
  },
  {
   "cell_type": "markdown",
   "metadata": {
    "application/vnd.databricks.v1+cell": {
     "cellMetadata": {},
     "inputWidgets": {},
     "nuid": "783e4a83-8159-48a1-8bce-c839fd84196c",
     "showTitle": false,
     "title": ""
    }
   },
   "source": [
    "### Renomeando as colunas"
   ]
  },
  {
   "cell_type": "code",
   "execution_count": 7,
   "metadata": {
    "application/vnd.databricks.v1+cell": {
     "cellMetadata": {
      "byteLimit": 2048000,
      "rowLimit": 10000
     },
     "inputWidgets": {},
     "nuid": "078015ad-a5a4-4781-89e7-951b42bacc36",
     "showTitle": false,
     "title": ""
    }
   },
   "outputs": [
    {
     "name": "stdout",
     "output_type": "stream",
     "text": [
      "+----------+---------+-------------------+----------+-----------------+----------+----------------+------------------+------------+-----------------+---------+--------------+--------------------+-------------------------+-----------------+----------------------+\n",
      "|id_partida|nome_juiz|       data_partida|id_estadio|status_da_partida|id_torneio|ano_da_temporada|        nr_partida|id_time_casa|id_time_visitante|gols_casa|gols_visitante|gols_meio_tempo_casa|gols_meio_tempo_visitante|gols_partida_casa|gols_partida_visitante|\n",
      "+----------+---------+-------------------+----------+-----------------+----------+----------------+------------------+------------+-----------------+---------+--------------+--------------------+-------------------------+-----------------+----------------------+\n",
      "|    191547|     NULL|2011-05-21 18:30:00|      NULL|   Match Finished|      71.0|          2011.0|Regular Season - 1|       127.0|            145.0|      4.0|           0.0|                 1.0|                      0.0|              4.0|                  0.0�|\n",
      "|    191548|     NULL|2011-05-21 18:30:00|      NULL|   Match Finished|      71.0|          2011.0|Regular Season - 1|       129.0|            133.0|      1.0|           3.0|                 0.0|                      0.0|              1.0|                  3.0�|\n",
      "|    191549|     NULL|2011-05-21 18:30:00|      NULL|   Match Finished|      71.0|          2011.0|Regular Season - 1|      1062.0|            134.0|      3.0|           0.0|                 2.0|                      0.0|              3.0|                  0.0�|\n",
      "|    191550|     NULL|2011-05-21 21:00:00|      NULL|   Match Finished|      71.0|          2011.0|Regular Season - 1|       128.0|            119.0|      1.0|           1.0|                 1.0|                      1.0|              1.0|                  1.0�|\n",
      "|    191551|     NULL|2011-05-22 16:00:00|      NULL|   Match Finished|      71.0|          2011.0|Regular Season - 1|       121.0|            120.0|      1.0|           0.0|                 0.0|                      0.0|              1.0|                  0.0�|\n",
      "|    191552|     NULL|2011-05-22 16:00:00|      NULL|   Match Finished|      71.0|          2011.0|Regular Season - 1|       130.0|            131.0|      1.0|           2.0|                 0.0|                      0.0|              1.0|                  2.0�|\n",
      "|    191553|     NULL|2011-05-22 16:00:00|      NULL|   Match Finished|      71.0|          2011.0|Regular Season - 1|       147.0|            144.0|      0.0|           1.0|                 0.0|                      0.0|              0.0|                  1.0�|\n",
      "|    191554|     NULL|2011-05-22 16:00:00|      NULL|   Match Finished|      71.0|          2011.0|Regular Season - 1|       137.0|            135.0|      1.0|           0.0|                 0.0|                      0.0|              1.0|                  0.0�|\n",
      "|    191555|     NULL|2011-05-22 18:30:00|      NULL|   Match Finished|      71.0|          2011.0|Regular Season - 1|       124.0|            126.0|      0.0|           2.0|                 0.0|                      1.0|              0.0|                  2.0�|\n",
      "|    191556|     NULL|2011-05-22 18:30:00|      NULL|   Match Finished|      71.0|          2011.0|Regular Season - 1|       125.0|            118.0|      2.0|           1.0|                 0.0|                      1.0|              2.0|                  1.0�|\n",
      "|    191557|     NULL|2011-05-28 18:30:00|      NULL|   Match Finished|      71.0|          2011.0|Regular Season - 2|       120.0|            128.0|      1.0|           0.0|                 1.0|                      0.0|              1.0|                  0.0�|\n",
      "|    191558|     NULL|2011-05-28 18:30:00|      NULL|   Match Finished|      71.0|          2011.0|Regular Season - 2|       119.0|            129.0|      0.0|           1.0|                 0.0|                      0.0|              0.0|                  1.0�|\n",
      "|    191559|     NULL|2011-05-28 18:30:00|      NULL|   Match Finished|      71.0|          2011.0|Regular Season - 2|       145.0|           1062.0|      1.0|           3.0|                 1.0|                      1.0|              1.0|                  3.0�|\n",
      "|    191560|     NULL|2011-05-28 21:00:00|      NULL|   Match Finished|      71.0|          2011.0|Regular Season - 2|       126.0|            137.0|      1.0|           0.0|                 0.0|                      0.0|              1.0|                  0.0�|\n",
      "|    191561|     NULL|2011-05-29 16:00:00|      NULL|   Match Finished|      71.0|          2011.0|Regular Season - 2|       131.0|            147.0|      2.0|           1.0|                 1.0|                      0.0|              2.0|                  1.0�|\n",
      "|    191562|     NULL|2011-05-29 16:00:00|      NULL|   Match Finished|      71.0|          2011.0|Regular Season - 2|       118.0|            127.0|      3.0|           3.0|                 2.0|                      1.0|              3.0|                  3.0�|\n",
      "|    191563|     NULL|2011-05-29 16:00:00|      NULL|   Match Finished|      71.0|          2011.0|Regular Season - 2|       134.0|            130.0|      0.0|           1.0|                 0.0|                      1.0|              0.0|                  1.0�|\n",
      "|    191564|     NULL|2011-05-29 16:00:00|      NULL|   Match Finished|      71.0|          2011.0|Regular Season - 2|       135.0|            121.0|      1.0|           1.0|                 0.0|                      0.0|              1.0|                  1.0�|\n",
      "|    191565|     NULL|2011-05-29 18:30:00|      NULL|   Match Finished|      71.0|          2011.0|Regular Season - 2|       133.0|            125.0|      3.0|           0.0|                 1.0|                      0.0|              3.0|                  0.0�|\n",
      "|    191566|     NULL|2011-05-29 18:30:00|      NULL|   Match Finished|      71.0|          2011.0|Regular Season - 2|       144.0|            124.0|      0.0|           1.0|                 0.0|                      1.0|              0.0|                  1.0�|\n",
      "+----------+---------+-------------------+----------+-----------------+----------+----------------+------------------+------------+-----------------+---------+--------------+--------------------+-------------------------+-----------------+----------------------+\n",
      "only showing top 20 rows\n",
      "\n"
     ]
    }
   ],
   "source": [
    "partidas_df = partidas_df \\\n",
    "    .withColumnRenamed(\"id\", \"id_partida\") \\\n",
    "    .withColumnRenamed(\"referee\", \"nome_juiz\") \\\n",
    "    .withColumnRenamed(\"date\", \"data_partida\") \\\n",
    "    .withColumnRenamed(\"venue.id\", \"id_estadio\") \\\n",
    "    .withColumnRenamed(\"status.long\", \"status_da_partida\") \\\n",
    "    .withColumnRenamed(\"league.id\", \"id_torneio\") \\\n",
    "    .withColumnRenamed(\"league.season\", \"ano_da_temporada\") \\\n",
    "    .withColumnRenamed(\"league.round\", \"nr_partida\") \\\n",
    "    .withColumnRenamed(\"teams.home.id\", \"id_time_casa\") \\\n",
    "    .withColumnRenamed(\"teams.away.id\", \"id_time_visitante\") \\\n",
    "    .withColumnRenamed(\"goals.home\", \"gols_casa\") \\\n",
    "    .withColumnRenamed(\"goals.away\", \"gols_visitante\") \\\n",
    "    .withColumnRenamed(\"score.halftime.home\", \"gols_meio_tempo_casa\") \\\n",
    "    .withColumnRenamed(\"score.halftime.away\", \"gols_meio_tempo_visitante\") \\\n",
    "    .withColumnRenamed(\"score.fulltime.home\", \"gols_partida_casa\") \\\n",
    "    .withColumnRenamed(\"score.fulltime.away\", \"gols_partida_visitante\")\n",
    "\n",
    "partidas_df.show()"
   ]
  },
  {
   "cell_type": "markdown",
   "metadata": {
    "application/vnd.databricks.v1+cell": {
     "cellMetadata": {},
     "inputWidgets": {},
     "nuid": "92d91e5c-4931-4bdf-8e8c-d7ba30caa3aa",
     "showTitle": false,
     "title": ""
    }
   },
   "source": [
    "### Correção do schema"
   ]
  },
  {
   "cell_type": "code",
   "execution_count": 8,
   "metadata": {
    "application/vnd.databricks.v1+cell": {
     "cellMetadata": {
      "byteLimit": 2048000,
      "rowLimit": 10000
     },
     "inputWidgets": {},
     "nuid": "dea3a162-b235-46f9-b7c2-d53f82f76a64",
     "showTitle": false,
     "title": ""
    }
   },
   "outputs": [
    {
     "name": "stdout",
     "output_type": "stream",
     "text": [
      "root\n",
      " |-- id_partida: string (nullable = true)\n",
      " |-- nome_juiz: string (nullable = true)\n",
      " |-- data_partida: timestamp (nullable = true)\n",
      " |-- id_estadio: double (nullable = true)\n",
      " |-- status_da_partida: string (nullable = true)\n",
      " |-- id_torneio: double (nullable = true)\n",
      " |-- ano_da_temporada: double (nullable = true)\n",
      " |-- nr_partida: string (nullable = true)\n",
      " |-- id_time_casa: double (nullable = true)\n",
      " |-- id_time_visitante: double (nullable = true)\n",
      " |-- gols_casa: double (nullable = true)\n",
      " |-- gols_visitante: double (nullable = true)\n",
      " |-- gols_meio_tempo_casa: double (nullable = true)\n",
      " |-- gols_meio_tempo_visitante: double (nullable = true)\n",
      " |-- gols_partida_casa: double (nullable = true)\n",
      " |-- gols_partida_visitante: string (nullable = true)\n",
      "\n"
     ]
    }
   ],
   "source": [
    "partidas_df.printSchema()"
   ]
  },
  {
   "cell_type": "code",
   "execution_count": 9,
   "metadata": {},
   "outputs": [
    {
     "name": "stdout",
     "output_type": "stream",
     "text": [
      "+----------+---------+-------------------+----------+-----------------+----------+----------------+------------------+------------+-----------------+---------+--------------+--------------------+-------------------------+-----------------+----------------------+\n",
      "|id_partida|nome_juiz|       data_partida|id_estadio|status_da_partida|id_torneio|ano_da_temporada|        nr_partida|id_time_casa|id_time_visitante|gols_casa|gols_visitante|gols_meio_tempo_casa|gols_meio_tempo_visitante|gols_partida_casa|gols_partida_visitante|\n",
      "+----------+---------+-------------------+----------+-----------------+----------+----------------+------------------+------------+-----------------+---------+--------------+--------------------+-------------------------+-----------------+----------------------+\n",
      "|    191547|     NULL|2011-05-21 18:30:00|      NULL|   Match Finished|      71.0|          2011.0|Regular Season - 1|       127.0|            145.0|      4.0|           0.0|                 1.0|                      0.0|              4.0|                     0|\n",
      "|    191548|     NULL|2011-05-21 18:30:00|      NULL|   Match Finished|      71.0|          2011.0|Regular Season - 1|       129.0|            133.0|      1.0|           3.0|                 0.0|                      0.0|              1.0|                     3|\n",
      "|    191549|     NULL|2011-05-21 18:30:00|      NULL|   Match Finished|      71.0|          2011.0|Regular Season - 1|      1062.0|            134.0|      3.0|           0.0|                 2.0|                      0.0|              3.0|                     0|\n",
      "|    191550|     NULL|2011-05-21 21:00:00|      NULL|   Match Finished|      71.0|          2011.0|Regular Season - 1|       128.0|            119.0|      1.0|           1.0|                 1.0|                      1.0|              1.0|                     1|\n",
      "|    191551|     NULL|2011-05-22 16:00:00|      NULL|   Match Finished|      71.0|          2011.0|Regular Season - 1|       121.0|            120.0|      1.0|           0.0|                 0.0|                      0.0|              1.0|                     0|\n",
      "|    191552|     NULL|2011-05-22 16:00:00|      NULL|   Match Finished|      71.0|          2011.0|Regular Season - 1|       130.0|            131.0|      1.0|           2.0|                 0.0|                      0.0|              1.0|                     2|\n",
      "|    191553|     NULL|2011-05-22 16:00:00|      NULL|   Match Finished|      71.0|          2011.0|Regular Season - 1|       147.0|            144.0|      0.0|           1.0|                 0.0|                      0.0|              0.0|                     1|\n",
      "|    191554|     NULL|2011-05-22 16:00:00|      NULL|   Match Finished|      71.0|          2011.0|Regular Season - 1|       137.0|            135.0|      1.0|           0.0|                 0.0|                      0.0|              1.0|                     0|\n",
      "|    191555|     NULL|2011-05-22 18:30:00|      NULL|   Match Finished|      71.0|          2011.0|Regular Season - 1|       124.0|            126.0|      0.0|           2.0|                 0.0|                      1.0|              0.0|                     2|\n",
      "|    191556|     NULL|2011-05-22 18:30:00|      NULL|   Match Finished|      71.0|          2011.0|Regular Season - 1|       125.0|            118.0|      2.0|           1.0|                 0.0|                      1.0|              2.0|                     1|\n",
      "|    191557|     NULL|2011-05-28 18:30:00|      NULL|   Match Finished|      71.0|          2011.0|Regular Season - 2|       120.0|            128.0|      1.0|           0.0|                 1.0|                      0.0|              1.0|                     0|\n",
      "|    191558|     NULL|2011-05-28 18:30:00|      NULL|   Match Finished|      71.0|          2011.0|Regular Season - 2|       119.0|            129.0|      0.0|           1.0|                 0.0|                      0.0|              0.0|                     1|\n",
      "|    191559|     NULL|2011-05-28 18:30:00|      NULL|   Match Finished|      71.0|          2011.0|Regular Season - 2|       145.0|           1062.0|      1.0|           3.0|                 1.0|                      1.0|              1.0|                     3|\n",
      "|    191560|     NULL|2011-05-28 21:00:00|      NULL|   Match Finished|      71.0|          2011.0|Regular Season - 2|       126.0|            137.0|      1.0|           0.0|                 0.0|                      0.0|              1.0|                     0|\n",
      "|    191561|     NULL|2011-05-29 16:00:00|      NULL|   Match Finished|      71.0|          2011.0|Regular Season - 2|       131.0|            147.0|      2.0|           1.0|                 1.0|                      0.0|              2.0|                     1|\n",
      "|    191562|     NULL|2011-05-29 16:00:00|      NULL|   Match Finished|      71.0|          2011.0|Regular Season - 2|       118.0|            127.0|      3.0|           3.0|                 2.0|                      1.0|              3.0|                     3|\n",
      "|    191563|     NULL|2011-05-29 16:00:00|      NULL|   Match Finished|      71.0|          2011.0|Regular Season - 2|       134.0|            130.0|      0.0|           1.0|                 0.0|                      1.0|              0.0|                     1|\n",
      "|    191564|     NULL|2011-05-29 16:00:00|      NULL|   Match Finished|      71.0|          2011.0|Regular Season - 2|       135.0|            121.0|      1.0|           1.0|                 0.0|                      0.0|              1.0|                     1|\n",
      "|    191565|     NULL|2011-05-29 18:30:00|      NULL|   Match Finished|      71.0|          2011.0|Regular Season - 2|       133.0|            125.0|      3.0|           0.0|                 1.0|                      0.0|              3.0|                     0|\n",
      "|    191566|     NULL|2011-05-29 18:30:00|      NULL|   Match Finished|      71.0|          2011.0|Regular Season - 2|       144.0|            124.0|      0.0|           1.0|                 0.0|                      1.0|              0.0|                     1|\n",
      "+----------+---------+-------------------+----------+-----------------+----------+----------------+------------------+------------+-----------------+---------+--------------+--------------------+-------------------------+-----------------+----------------------+\n",
      "only showing top 20 rows\n",
      "\n"
     ]
    }
   ],
   "source": [
    "from pyspark.sql.functions import substring\n",
    "\n",
    "# Corrigindo valores da coluna gols_visitante\n",
    "partidas_df = partidas_df.withColumn('gols_partida_visitante', substring(partidas_df.gols_visitante, 0, 1))\n",
    "partidas_df.show()"
   ]
  },
  {
   "cell_type": "code",
   "execution_count": 10,
   "metadata": {
    "application/vnd.databricks.v1+cell": {
     "cellMetadata": {
      "byteLimit": 2048000,
      "rowLimit": 10000
     },
     "inputWidgets": {},
     "nuid": "3ca680e0-5df9-4d50-ba6a-2e5d6c00b7f8",
     "showTitle": false,
     "title": ""
    }
   },
   "outputs": [
    {
     "name": "stdout",
     "output_type": "stream",
     "text": [
      "+----------+---------+------------+----------+-----------------+----------+----------------+------------------+------------+-----------------+---------+--------------+--------------------+-------------------------+-----------------+----------------------+\n",
      "|id_partida|nome_juiz|data_partida|id_estadio|status_da_partida|id_torneio|ano_da_temporada|        nr_partida|id_time_casa|id_time_visitante|gols_casa|gols_visitante|gols_meio_tempo_casa|gols_meio_tempo_visitante|gols_partida_casa|gols_partida_visitante|\n",
      "+----------+---------+------------+----------+-----------------+----------+----------------+------------------+------------+-----------------+---------+--------------+--------------------+-------------------------+-----------------+----------------------+\n",
      "|    191547|     NULL|  2011-05-21|      NULL|   Match Finished|        71|            2011|Regular Season - 1|         127|              145|        4|             0|                   1|                        0|                4|                     0|\n",
      "|    191548|     NULL|  2011-05-21|      NULL|   Match Finished|        71|            2011|Regular Season - 1|         129|              133|        1|             3|                   0|                        0|                1|                     3|\n",
      "|    191549|     NULL|  2011-05-21|      NULL|   Match Finished|        71|            2011|Regular Season - 1|        1062|              134|        3|             0|                   2|                        0|                3|                     0|\n",
      "|    191550|     NULL|  2011-05-21|      NULL|   Match Finished|        71|            2011|Regular Season - 1|         128|              119|        1|             1|                   1|                        1|                1|                     1|\n",
      "|    191551|     NULL|  2011-05-22|      NULL|   Match Finished|        71|            2011|Regular Season - 1|         121|              120|        1|             0|                   0|                        0|                1|                     0|\n",
      "|    191552|     NULL|  2011-05-22|      NULL|   Match Finished|        71|            2011|Regular Season - 1|         130|              131|        1|             2|                   0|                        0|                1|                     2|\n",
      "|    191553|     NULL|  2011-05-22|      NULL|   Match Finished|        71|            2011|Regular Season - 1|         147|              144|        0|             1|                   0|                        0|                0|                     1|\n",
      "|    191554|     NULL|  2011-05-22|      NULL|   Match Finished|        71|            2011|Regular Season - 1|         137|              135|        1|             0|                   0|                        0|                1|                     0|\n",
      "|    191555|     NULL|  2011-05-22|      NULL|   Match Finished|        71|            2011|Regular Season - 1|         124|              126|        0|             2|                   0|                        1|                0|                     2|\n",
      "|    191556|     NULL|  2011-05-22|      NULL|   Match Finished|        71|            2011|Regular Season - 1|         125|              118|        2|             1|                   0|                        1|                2|                     1|\n",
      "|    191557|     NULL|  2011-05-28|      NULL|   Match Finished|        71|            2011|Regular Season - 2|         120|              128|        1|             0|                   1|                        0|                1|                     0|\n",
      "|    191558|     NULL|  2011-05-28|      NULL|   Match Finished|        71|            2011|Regular Season - 2|         119|              129|        0|             1|                   0|                        0|                0|                     1|\n",
      "|    191559|     NULL|  2011-05-28|      NULL|   Match Finished|        71|            2011|Regular Season - 2|         145|             1062|        1|             3|                   1|                        1|                1|                     3|\n",
      "|    191560|     NULL|  2011-05-28|      NULL|   Match Finished|        71|            2011|Regular Season - 2|         126|              137|        1|             0|                   0|                        0|                1|                     0|\n",
      "|    191561|     NULL|  2011-05-29|      NULL|   Match Finished|        71|            2011|Regular Season - 2|         131|              147|        2|             1|                   1|                        0|                2|                     1|\n",
      "|    191562|     NULL|  2011-05-29|      NULL|   Match Finished|        71|            2011|Regular Season - 2|         118|              127|        3|             3|                   2|                        1|                3|                     3|\n",
      "|    191563|     NULL|  2011-05-29|      NULL|   Match Finished|        71|            2011|Regular Season - 2|         134|              130|        0|             1|                   0|                        1|                0|                     1|\n",
      "|    191564|     NULL|  2011-05-29|      NULL|   Match Finished|        71|            2011|Regular Season - 2|         135|              121|        1|             1|                   0|                        0|                1|                     1|\n",
      "|    191565|     NULL|  2011-05-29|      NULL|   Match Finished|        71|            2011|Regular Season - 2|         133|              125|        3|             0|                   1|                        0|                3|                     0|\n",
      "|    191566|     NULL|  2011-05-29|      NULL|   Match Finished|        71|            2011|Regular Season - 2|         144|              124|        0|             1|                   0|                        1|                0|                     1|\n",
      "+----------+---------+------------+----------+-----------------+----------+----------------+------------------+------------+-----------------+---------+--------------+--------------------+-------------------------+-----------------+----------------------+\n",
      "only showing top 20 rows\n",
      "\n"
     ]
    }
   ],
   "source": [
    "# Alterando os tipos da colunas\n",
    "partidas_df = partidas_df \\\n",
    "    .withColumn(\"data_partida\",                 partidas_df.data_partida.cast(\"date\")) \\\n",
    "    .withColumn(\"id_estadio\",                   partidas_df.id_estadio.cast(\"integer\")) \\\n",
    "    .withColumn(\"id_torneio\",                   partidas_df.id_torneio.cast(\"integer\")) \\\n",
    "    .withColumn(\"ano_da_temporada\",             partidas_df.ano_da_temporada.cast(\"integer\")) \\\n",
    "    .withColumn(\"id_time_casa\",                 partidas_df.id_time_casa.cast(\"integer\")) \\\n",
    "    .withColumn(\"id_time_visitante\",            partidas_df.id_time_visitante.cast(\"integer\")) \\\n",
    "    .withColumn(\"gols_meio_tempo_casa\",         partidas_df.gols_meio_tempo_casa.cast(\"integer\")) \\\n",
    "    .withColumn(\"gols_meio_tempo_visitante\",    partidas_df.gols_meio_tempo_visitante.cast(\"integer\")) \\\n",
    "    .withColumn(\"gols_partida_casa\",            partidas_df.gols_partida_casa.cast(\"integer\")) \\\n",
    "    .withColumn(\"gols_partida_visitante\",       partidas_df.gols_partida_visitante.cast(\"integer\")) \\\n",
    "    .withColumn(\"gols_casa\",                    partidas_df.gols_casa.cast(\"integer\")) \\\n",
    "    .withColumn(\"gols_visitante\",               partidas_df.gols_visitante.cast(\"integer\"))\n",
    "\n",
    "partidas_df.show()"
   ]
  },
  {
   "cell_type": "code",
   "execution_count": 11,
   "metadata": {},
   "outputs": [
    {
     "name": "stdout",
     "output_type": "stream",
     "text": [
      "root\n",
      " |-- id_partida: string (nullable = true)\n",
      " |-- nome_juiz: string (nullable = true)\n",
      " |-- data_partida: date (nullable = true)\n",
      " |-- id_estadio: integer (nullable = true)\n",
      " |-- status_da_partida: string (nullable = true)\n",
      " |-- id_torneio: integer (nullable = true)\n",
      " |-- ano_da_temporada: integer (nullable = true)\n",
      " |-- nr_partida: string (nullable = true)\n",
      " |-- id_time_casa: integer (nullable = true)\n",
      " |-- id_time_visitante: integer (nullable = true)\n",
      " |-- gols_casa: integer (nullable = true)\n",
      " |-- gols_visitante: integer (nullable = true)\n",
      " |-- gols_meio_tempo_casa: integer (nullable = true)\n",
      " |-- gols_meio_tempo_visitante: integer (nullable = true)\n",
      " |-- gols_partida_casa: integer (nullable = true)\n",
      " |-- gols_partida_visitante: integer (nullable = true)\n",
      "\n"
     ]
    }
   ],
   "source": [
    "partidas_df.printSchema()"
   ]
  },
  {
   "cell_type": "markdown",
   "metadata": {
    "application/vnd.databricks.v1+cell": {
     "cellMetadata": {},
     "inputWidgets": {},
     "nuid": "05f3a0c9-5377-46a3-8aba-3d407debdba5",
     "showTitle": false,
     "title": ""
    }
   },
   "source": [
    "### Criando coluna com data de consumo"
   ]
  },
  {
   "cell_type": "code",
   "execution_count": 12,
   "metadata": {
    "application/vnd.databricks.v1+cell": {
     "cellMetadata": {
      "byteLimit": 2048000,
      "rowLimit": 10000
     },
     "inputWidgets": {},
     "nuid": "c7618875-fc82-4c8e-8d6d-df542f1a2310",
     "showTitle": false,
     "title": ""
    }
   },
   "outputs": [
    {
     "name": "stdout",
     "output_type": "stream",
     "text": [
      "+----------+---------+------------+----------+-----------------+----------+----------------+------------------+------------+-----------------+---------+--------------+--------------------+-------------------------+-----------------+----------------------+----------------+\n",
      "|id_partida|nome_juiz|data_partida|id_estadio|status_da_partida|id_torneio|ano_da_temporada|        nr_partida|id_time_casa|id_time_visitante|gols_casa|gols_visitante|gols_meio_tempo_casa|gols_meio_tempo_visitante|gols_partida_casa|gols_partida_visitante|data_de_ingestao|\n",
      "+----------+---------+------------+----------+-----------------+----------+----------------+------------------+------------+-----------------+---------+--------------+--------------------+-------------------------+-----------------+----------------------+----------------+\n",
      "|    191547|     NULL|  2011-05-21|      NULL|   Match Finished|        71|            2011|Regular Season - 1|         127|              145|        4|             0|                   1|                        0|                4|                     0|      2024-05-08|\n",
      "|    191548|     NULL|  2011-05-21|      NULL|   Match Finished|        71|            2011|Regular Season - 1|         129|              133|        1|             3|                   0|                        0|                1|                     3|      2024-05-08|\n",
      "|    191549|     NULL|  2011-05-21|      NULL|   Match Finished|        71|            2011|Regular Season - 1|        1062|              134|        3|             0|                   2|                        0|                3|                     0|      2024-05-08|\n",
      "|    191550|     NULL|  2011-05-21|      NULL|   Match Finished|        71|            2011|Regular Season - 1|         128|              119|        1|             1|                   1|                        1|                1|                     1|      2024-05-08|\n",
      "|    191551|     NULL|  2011-05-22|      NULL|   Match Finished|        71|            2011|Regular Season - 1|         121|              120|        1|             0|                   0|                        0|                1|                     0|      2024-05-08|\n",
      "|    191552|     NULL|  2011-05-22|      NULL|   Match Finished|        71|            2011|Regular Season - 1|         130|              131|        1|             2|                   0|                        0|                1|                     2|      2024-05-08|\n",
      "|    191553|     NULL|  2011-05-22|      NULL|   Match Finished|        71|            2011|Regular Season - 1|         147|              144|        0|             1|                   0|                        0|                0|                     1|      2024-05-08|\n",
      "|    191554|     NULL|  2011-05-22|      NULL|   Match Finished|        71|            2011|Regular Season - 1|         137|              135|        1|             0|                   0|                        0|                1|                     0|      2024-05-08|\n",
      "|    191555|     NULL|  2011-05-22|      NULL|   Match Finished|        71|            2011|Regular Season - 1|         124|              126|        0|             2|                   0|                        1|                0|                     2|      2024-05-08|\n",
      "|    191556|     NULL|  2011-05-22|      NULL|   Match Finished|        71|            2011|Regular Season - 1|         125|              118|        2|             1|                   0|                        1|                2|                     1|      2024-05-08|\n",
      "|    191557|     NULL|  2011-05-28|      NULL|   Match Finished|        71|            2011|Regular Season - 2|         120|              128|        1|             0|                   1|                        0|                1|                     0|      2024-05-08|\n",
      "|    191558|     NULL|  2011-05-28|      NULL|   Match Finished|        71|            2011|Regular Season - 2|         119|              129|        0|             1|                   0|                        0|                0|                     1|      2024-05-08|\n",
      "|    191559|     NULL|  2011-05-28|      NULL|   Match Finished|        71|            2011|Regular Season - 2|         145|             1062|        1|             3|                   1|                        1|                1|                     3|      2024-05-08|\n",
      "|    191560|     NULL|  2011-05-28|      NULL|   Match Finished|        71|            2011|Regular Season - 2|         126|              137|        1|             0|                   0|                        0|                1|                     0|      2024-05-08|\n",
      "|    191561|     NULL|  2011-05-29|      NULL|   Match Finished|        71|            2011|Regular Season - 2|         131|              147|        2|             1|                   1|                        0|                2|                     1|      2024-05-08|\n",
      "|    191562|     NULL|  2011-05-29|      NULL|   Match Finished|        71|            2011|Regular Season - 2|         118|              127|        3|             3|                   2|                        1|                3|                     3|      2024-05-08|\n",
      "|    191563|     NULL|  2011-05-29|      NULL|   Match Finished|        71|            2011|Regular Season - 2|         134|              130|        0|             1|                   0|                        1|                0|                     1|      2024-05-08|\n",
      "|    191564|     NULL|  2011-05-29|      NULL|   Match Finished|        71|            2011|Regular Season - 2|         135|              121|        1|             1|                   0|                        0|                1|                     1|      2024-05-08|\n",
      "|    191565|     NULL|  2011-05-29|      NULL|   Match Finished|        71|            2011|Regular Season - 2|         133|              125|        3|             0|                   1|                        0|                3|                     0|      2024-05-08|\n",
      "|    191566|     NULL|  2011-05-29|      NULL|   Match Finished|        71|            2011|Regular Season - 2|         144|              124|        0|             1|                   0|                        1|                0|                     1|      2024-05-08|\n",
      "+----------+---------+------------+----------+-----------------+----------+----------------+------------------+------------+-----------------+---------+--------------+--------------------+-------------------------+-----------------+----------------------+----------------+\n",
      "only showing top 20 rows\n",
      "\n"
     ]
    }
   ],
   "source": [
    "partidas_df = adicionar_data_de_ingestao(\n",
    "    df = partidas_df,\n",
    "    nome_coluna = 'data_de_ingestao',\n",
    "    add_tempo = -3,\n",
    "    unidade_de_medida = 'horas'\n",
    ")\n",
    "\n",
    "partidas_df.show()"
   ]
  },
  {
   "cell_type": "markdown",
   "metadata": {
    "application/vnd.databricks.v1+cell": {
     "cellMetadata": {},
     "inputWidgets": {},
     "nuid": "1ef7e093-abba-49cb-8eb3-3210576590f3",
     "showTitle": false,
     "title": ""
    }
   },
   "source": [
    "### Salvando em formato parquet"
   ]
  },
  {
   "cell_type": "code",
   "execution_count": 14,
   "metadata": {
    "application/vnd.databricks.v1+cell": {
     "cellMetadata": {
      "byteLimit": 2048000,
      "rowLimit": 10000
     },
     "inputWidgets": {},
     "nuid": "9e325d98-623e-4167-9b72-198a097b6b9e",
     "showTitle": false,
     "title": ""
    }
   },
   "outputs": [],
   "source": [
    "partidas_df.write.mode(\"Overwrite\").parquet(f\"{caminho_silver}/partidas\")"
   ]
  },
  {
   "cell_type": "code",
   "execution_count": 15,
   "metadata": {},
   "outputs": [],
   "source": [
    "dbutils.notebook.exit('Os arquivos da pasta \"partidas\" foram processados e carregados na camada silver.')"
   ]
  }
 ],
 "metadata": {
  "application/vnd.databricks.v1+notebook": {
   "dashboards": [],
   "language": "python",
   "notebookMetadata": {
    "pythonIndentUnit": 4
   },
   "notebookName": "Ingestão de dados - pasta partidas.csv",
   "widgets": {}
  },
  "kernelspec": {
   "display_name": "venv",
   "language": "python",
   "name": "python3"
  },
  "language_info": {
   "codemirror_mode": {
    "name": "ipython",
    "version": 3
   },
   "file_extension": ".py",
   "mimetype": "text/x-python",
   "name": "python",
   "nbconvert_exporter": "python",
   "pygments_lexer": "ipython3",
   "version": "3.11.8"
  }
 },
 "nbformat": 4,
 "nbformat_minor": 0
}

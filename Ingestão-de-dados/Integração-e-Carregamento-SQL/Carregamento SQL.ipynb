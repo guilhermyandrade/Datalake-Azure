{
 "cells": [
  {
   "cell_type": "markdown",
   "metadata": {},
   "source": [
    "### Objetivo do notebook\n",
    "\n",
    "1. Criar o database futdata [ok]\n",
    "2. Carregar os dados em tabelas externas no database [ok]"
   ]
  },
  {
   "cell_type": "code",
   "execution_count": 1,
   "metadata": {},
   "outputs": [],
   "source": [
    "%run ../../Configuração-e-Utilitários/Variaveis.ipynb"
   ]
  },
  {
   "cell_type": "code",
   "execution_count": 2,
   "metadata": {},
   "outputs": [],
   "source": [
    "%run ../../Configuração-e-Utilitários/Funções.ipynb"
   ]
  },
  {
   "cell_type": "markdown",
   "metadata": {},
   "source": [
    "### Leitura dos dados"
   ]
  },
  {
   "cell_type": "code",
   "execution_count": 5,
   "metadata": {},
   "outputs": [],
   "source": [
    "estadios_df = spark.read.parquet(f'{caminho_silver}/estadios')\n",
    "partidas_df = spark.read.parquet(f'{caminho_silver}/partidas')\n",
    "eventos_df = spark.read.parquet(f'{caminho_silver}/eventos')\n",
    "torneios_df = spark.read.parquet(f'{caminho_silver}/torneios') \n",
    "jogadores_df = spark.read.parquet(f'{caminho_silver}/jogadores')\n",
    "times_df = spark.read.parquet(f'{caminho_silver}/times')"
   ]
  },
  {
   "cell_type": "code",
   "execution_count": 9,
   "metadata": {},
   "outputs": [
    {
     "name": "stdout",
     "output_type": "stream",
     "text": [
      "+----------+--------------------+--------------------+--------------------+------+----------+----------+--------------------+----------------+\n",
      "|id_estadio|          nm_estadio|            endereço|              cidade|  pais|capacidade|superficie|         link_imagem|data_de_ingestao|\n",
      "+----------+--------------------+--------------------+--------------------+------+----------+----------+--------------------+----------------+\n",
      "|       204|Estadio Jornalist...|Rua Professor Eur...|Rio de Janeiro, R...|Brazil|     78838|     grass|https://media-2.a...|      2024-05-04|\n",
      "|       216|    Arena Fonte Nova|Rua Lions Club, N...|     Salvador, Bahia|Brazil|     56500|     grass|https://media-1.a...|      2024-05-04|\n",
      "|       244|Estádio José Pinh...|Avenida Padre Cac...|Porto Alegre, Rio...|Brazil|     50128|     grass|https://media-3.a...|      2024-05-04|\n",
      "|       218|Estádio Nilton Sa...|Rua Arquias Corde...|      Rio de Janeiro|Brazil|     46931|     grass|https://media-1.a...|      2024-05-04|\n",
      "|       258|      Allianz Parque|Rua Turiaçu 1840,...|São Paulo, São Paulo|Brazil|     43713|     grass|https://media-2.a...|      2024-05-04|\n",
      "|       259|Estádio Durival d...|Rua Engenheiro Re...|    Curitiba, Paraná|Brazil|     20083|     grass|https://media-2.a...|      2024-05-04|\n",
      "|       276|Estádio Adelmar d...|   Praça da Bandeira|  Recife, Pernambuco|Brazil|     32983|     grass|https://media-2.a...|      2024-05-04|\n",
      "|       206|Estádio Raimundo ...|Avenida Ismênia T...|Belo Horizonte, M...|Brazil|     23018|     grass|https://media-1.a...|      2024-05-04|\n",
      "|       269|Estádio Cícero Po...|Praca Roberto Gom...|São Paulo, São Paulo|Brazil|     66795|     grass|https://media-3.a...|      2024-05-04|\n",
      "|     10494|Estádio Urbano Ca...|Rue Princesa Isab...|   Santos, São Paulo|Brazil|     21256|     grass|https://media-2.a...|      2024-05-04|\n",
      "|       225|Estádio Governado...|Avenida Alberto C...|    Fortaleza, Ceará|Brazil|     63903|     grass|https://media-2.a...|      2024-05-04|\n",
      "|       241|     Arena do Grêmio|      Bairro Humaitá|Porto Alegre, Rio...|Brazil|     60540|     grass|https://media-2.a...|      2024-05-04|\n",
      "|     11531|   Neo Química Arena|Avenida Miguel In...|São Paulo, São Paulo|Brazil|     49205|     grass|https://media-2.a...|      2024-05-04|\n",
      "|       227|         Arena Condá|Rua Clevelândia, ...|Chapecó, Santa Ca...|Brazil|     22600|     grass|https://media-2.a...|      2024-05-04|\n",
      "|     19377|Estádio São Januário|Rua Gal Almério d...|Rio de Janeiro, R...|Brazil|     24584|     grass|https://media-3.a...|      2024-05-04|\n",
      "|     10493|    Arena da Baixada|Rua Buenos Aires ...|    Curitiba, Paraná|Brazil|     43981|     grass|https://media-2.a...|      2024-05-04|\n",
      "|       234|Estádio Governado...|Avenida Antonio A...|Belo Horizonte, M...|Brazil|     62170|     grass|https://media-1.a...|      2024-05-04|\n",
      "|       281|Estádio Manoel Ba...|Rua Artêmio Castr...|     Salvador, Bahia|Brazil|     35980|     grass|https://media-3.a...|      2024-05-04|\n",
      "|      7126|Estádio Orlando S...|Rua Humaitá 194, ...|Florianópolis, Sa...|Brazil|     19584|     grass|https://media-1.a...|      2024-05-04|\n",
      "|       242|Estádio Brinco de...|Avenida Imperatri...| Campinas, São Paulo|Brazil|     29130|     grass|https://media-1.a...|      2024-05-04|\n",
      "+----------+--------------------+--------------------+--------------------+------+----------+----------+--------------------+----------------+\n",
      "only showing top 20 rows\n",
      "\n",
      "+----------+---------+------------+----------+-----------------+----------+----------------+------------------+------------+-----------------+---------+--------------+--------------------+-------------------------+-----------------+----------------------+----------------+\n",
      "|id_partida|nome_juiz|data_partida|id_estadio|status_da_partida|id_torneio|ano_da_temporada|        nr_partida|id_time_casa|id_time_visitante|gols_casa|gols_visitante|gols_meio_tempo_casa|gols_meio_tempo_visitante|gols_partida_casa|gols_partida_visitante|data_de_ingestao|\n",
      "+----------+---------+------------+----------+-----------------+----------+----------------+------------------+------------+-----------------+---------+--------------+--------------------+-------------------------+-----------------+----------------------+----------------+\n",
      "|    191547|     NULL|  2011-05-21|      NULL|   Match Finished|        71|            2011|Regular Season - 1|         127|              145|        4|             0|                   1|                        0|                4|                     0|      2024-05-04|\n",
      "|    191548|     NULL|  2011-05-21|      NULL|   Match Finished|        71|            2011|Regular Season - 1|         129|              133|        1|             3|                   0|                        0|                1|                     3|      2024-05-04|\n",
      "|    191549|     NULL|  2011-05-21|      NULL|   Match Finished|        71|            2011|Regular Season - 1|        1062|              134|        3|             0|                   2|                        0|                3|                     0|      2024-05-04|\n",
      "|    191550|     NULL|  2011-05-21|      NULL|   Match Finished|        71|            2011|Regular Season - 1|         128|              119|        1|             1|                   1|                        1|                1|                     1|      2024-05-04|\n",
      "|    191551|     NULL|  2011-05-22|      NULL|   Match Finished|        71|            2011|Regular Season - 1|         121|              120|        1|             0|                   0|                        0|                1|                     0|      2024-05-04|\n",
      "|    191552|     NULL|  2011-05-22|      NULL|   Match Finished|        71|            2011|Regular Season - 1|         130|              131|        1|             2|                   0|                        0|                1|                     2|      2024-05-04|\n",
      "|    191553|     NULL|  2011-05-22|      NULL|   Match Finished|        71|            2011|Regular Season - 1|         147|              144|        0|             1|                   0|                        0|                0|                     1|      2024-05-04|\n",
      "|    191554|     NULL|  2011-05-22|      NULL|   Match Finished|        71|            2011|Regular Season - 1|         137|              135|        1|             0|                   0|                        0|                1|                     0|      2024-05-04|\n",
      "|    191555|     NULL|  2011-05-22|      NULL|   Match Finished|        71|            2011|Regular Season - 1|         124|              126|        0|             2|                   0|                        1|                0|                     2|      2024-05-04|\n",
      "|    191556|     NULL|  2011-05-22|      NULL|   Match Finished|        71|            2011|Regular Season - 1|         125|              118|        2|             1|                   0|                        1|                2|                     1|      2024-05-04|\n",
      "|    191557|     NULL|  2011-05-28|      NULL|   Match Finished|        71|            2011|Regular Season - 2|         120|              128|        1|             0|                   1|                        0|                1|                     0|      2024-05-04|\n",
      "|    191558|     NULL|  2011-05-28|      NULL|   Match Finished|        71|            2011|Regular Season - 2|         119|              129|        0|             1|                   0|                        0|                0|                     1|      2024-05-04|\n",
      "|    191559|     NULL|  2011-05-28|      NULL|   Match Finished|        71|            2011|Regular Season - 2|         145|             1062|        1|             3|                   1|                        1|                1|                     3|      2024-05-04|\n",
      "|    191560|     NULL|  2011-05-28|      NULL|   Match Finished|        71|            2011|Regular Season - 2|         126|              137|        1|             0|                   0|                        0|                1|                     0|      2024-05-04|\n",
      "|    191561|     NULL|  2011-05-29|      NULL|   Match Finished|        71|            2011|Regular Season - 2|         131|              147|        2|             1|                   1|                        0|                2|                     1|      2024-05-04|\n",
      "|    191562|     NULL|  2011-05-29|      NULL|   Match Finished|        71|            2011|Regular Season - 2|         118|              127|        3|             3|                   2|                        1|                3|                     3|      2024-05-04|\n",
      "|    191563|     NULL|  2011-05-29|      NULL|   Match Finished|        71|            2011|Regular Season - 2|         134|              130|        0|             1|                   0|                        1|                0|                     1|      2024-05-04|\n",
      "|    191564|     NULL|  2011-05-29|      NULL|   Match Finished|        71|            2011|Regular Season - 2|         135|              121|        1|             1|                   0|                        0|                1|                     1|      2024-05-04|\n",
      "|    191565|     NULL|  2011-05-29|      NULL|   Match Finished|        71|            2011|Regular Season - 2|         133|              125|        3|             0|                   1|                        0|                3|                     0|      2024-05-04|\n",
      "|    191566|     NULL|  2011-05-29|      NULL|   Match Finished|        71|            2011|Regular Season - 2|         144|              124|        0|             1|                   0|                        1|                0|                     1|      2024-05-04|\n",
      "+----------+---------+------------+----------+-----------------+----------+----------------+------------------+------------+-----------------+---------+--------------+--------------------+-------------------------+-----------------+----------------------+----------------+\n",
      "only showing top 20 rows\n",
      "\n",
      "+----------+------------+------+-------------+----------------+----------------------+-------------------+---------------+----------------+\n",
      "|id_torneio|nome_torneio|  pais|sigla_do_pais|ano_da_temporada|dt_inicio_da_temporada|dt_fim_da_temporada|temporada_atual|data_de_ingestao|\n",
      "+----------+------------+------+-------------+----------------+----------------------+-------------------+---------------+----------------+\n",
      "|        71|     Serie A|Brazil|           BR|            2010|            2010-05-08|         2010-11-28|            Não|      2024-05-04|\n",
      "|        71|     Serie A|Brazil|           BR|            2011|            2011-05-21|         2011-12-04|            Não|      2024-05-04|\n",
      "|        71|     Serie A|Brazil|           BR|            2012|            2012-05-19|         2012-12-02|            Não|      2024-05-04|\n",
      "|        71|     Serie A|Brazil|           BR|            2013|            2013-05-25|         2013-12-08|            Não|      2024-05-04|\n",
      "|        71|     Serie A|Brazil|           BR|            2014|            2014-04-19|         2014-12-07|            Não|      2024-05-04|\n",
      "|        71|     Serie A|Brazil|           BR|            2015|            2015-05-09|         2015-12-06|            Não|      2024-05-04|\n",
      "|        71|     Serie A|Brazil|           BR|            2016|            2016-05-14|         2016-12-11|            Não|      2024-05-04|\n",
      "|        71|     Serie A|Brazil|           BR|            2017|            2017-05-13|         2017-12-03|            Não|      2024-05-04|\n",
      "|        71|     Serie A|Brazil|           BR|            2018|            2018-04-14|         2018-12-02|            Não|      2024-05-04|\n",
      "|        71|     Serie A|Brazil|           BR|            2019|            2019-04-27|         2019-12-08|            Não|      2024-05-04|\n",
      "|        71|     Serie A|Brazil|           BR|            2020|            2020-08-08|         2021-02-26|            Não|      2024-05-04|\n",
      "|        71|     Serie A|Brazil|           BR|            2021|            2021-05-29|         2021-12-10|            Não|      2024-05-04|\n",
      "|        71|     Serie A|Brazil|           BR|            2022|            2022-04-10|         2022-11-13|            Não|      2024-05-04|\n",
      "|        71|     Serie A|Brazil|           BR|            2023|            2023-04-15|         2023-12-03|            Sim|      2024-05-04|\n",
      "|        72|     Serie B|Brazil|           BR|            2012|            2012-05-19|         2012-11-24|            Não|      2024-05-04|\n",
      "|        72|     Serie B|Brazil|           BR|            2013|            2013-05-24|         2013-11-30|            Não|      2024-05-04|\n",
      "|        72|     Serie B|Brazil|           BR|            2014|            2014-04-18|         2014-11-29|            Não|      2024-05-04|\n",
      "|        72|     Serie B|Brazil|           BR|            2015|            2015-05-08|         2015-11-28|            Não|      2024-05-04|\n",
      "|        72|     Serie B|Brazil|           BR|            2016|            2016-05-13|         2016-11-26|            Não|      2024-05-04|\n",
      "|        72|     Serie B|Brazil|           BR|            2017|            2017-05-12|         2017-11-25|            Não|      2024-05-04|\n",
      "+----------+------------+------+-------------+----------------+----------------------+-------------------+---------------+----------------+\n",
      "only showing top 20 rows\n",
      "\n",
      "+-----+-----------------+-----------+----------+----------+--------------------+-----------------+-------------+--------------------+---------+--------------+------------------+----------------+----------------+\n",
      "|idade|    primeiro_nome|altura (cm)|id_jogador|lesionado?|         ultimo_nome|    nome_completo|nacionalidade|         link_imagem|peso (kg)|pais_de_origem|data_de_nascimento|cidade_de_origem|data_de_ingestao|\n",
      "+-----+-----------------+-----------+----------+----------+--------------------+-----------------+-------------+--------------------+---------+--------------+------------------+----------------+----------------+\n",
      "|   24|         Vinícius|       NULL|     10367|       Não|      Lopes da Silva|   Vinícius Lopes|       Brazil|https://media-4.a...|     NULL|        Brazil|        1999-05-07|            NULL|      2024-05-04|\n",
      "|   20|        Ryan Luka|        185|    266020|       Não|   Cordeiro de Souza|        Ryan Luka|       Brazil|https://media-4.a...|       76|        Brazil|        2003-04-30|            NULL|      2024-05-04|\n",
      "|   24|Vinicius Balieiro|       NULL|    278496|       Não|Lourenco De Carvalho|Vinicius Balieiro|       Brazil|https://media-4.a...|     NULL|        Brazil|        1999-05-28|            NULL|      2024-05-04|\n",
      "|   22|             Yago|        174|    305815|       Não|   de Paula Ferreira|    Yago Ferreira|       Brazil|https://media-4.a...|       73|        Brazil|        2001-08-02|            NULL|      2024-05-04|\n",
      "|   19|           Mateus|        184|    306216|       Não|           Dias Lima|         Mateusão|       Brazil|https://media-4.a...|       80|        Brazil|        2004-04-23|            NULL|      2024-05-04|\n",
      "|   19|      Victor Hugo|       NULL|    322069|       Não|      da Silva Costa|      Victor Hugo|       Brazil|https://media-4.a...|     NULL|        Brazil|        2004-11-11|            NULL|      2024-05-04|\n",
      "|   19|          Douglas|        190|    327635|       Não|      Mendes Moreira|   Douglas Mendes|       Brazil|https://media-4.a...|       84|        Brazil|        2004-06-13|            NULL|      2024-05-04|\n",
      "|   21|       Yani David|       NULL|    356992|       Não|      Quintero Rivas|      Y. Quintero|     Colombia|https://media-4.a...|     NULL|      Colombia|        2002-07-17|            NULL|      2024-05-04|\n",
      "|   20|           Sidnei|       NULL|    402498|       Não|    Fernandes Junior|           Sidnei|       Brazil|https://media-4.a...|     NULL|        Brazil|        2003-03-28|            NULL|      2024-05-04|\n",
      "|   18|           Adryan|       NULL|    403952|       Não|       Bezerra Silva|           Adryan|       Brazil|https://media-4.a...|     NULL|        Brazil|        2005-06-18|            NULL|      2024-05-04|\n",
      "|   18|     Pedro Inácio|       NULL|    405162|       Não| dos Santos Ferreira|     Pedro Inácio|       Brazil|https://media-4.a...|     NULL|        Brazil|        2005-05-12|            NULL|      2024-05-04|\n",
      "|   21|         Vinicius|       NULL|    405341|       Não|    Negro Di Stefano|         Vinicius|       Brazil|https://media-4.a...|     NULL|        Brazil|        2002-09-23|            NULL|      2024-05-04|\n",
      "|   20|     Rubens Tadeu|       NULL|    408347|       Não|    Hartmann Ricoldi|           Rubens|       Brazil|https://media-4.a...|     NULL|        Brazil|        2003-03-28|    Porto Alegre|      2024-05-04|\n",
      "|   20|   Pedro Henrique|       NULL|    408349|       Não|  Fernandes Clemente|   Pedro Clemente|       Brazil|https://media-4.a...|     NULL|        Brazil|        2003-04-29|         Taubaté|      2024-05-04|\n",
      "|   18|     Kauan Kelvin|       NULL|    408350|       Não|  Magalhães da Silva|     Kauan Kelvin|       Brazil|https://media-4.a...|     NULL|        Brazil|        2005-01-21|         Goiânia|      2024-05-04|\n",
      "|   19|            Pedro|        186|    409765|       Não|Henrique Franklim...|           Pedrão|       Brazil|https://media-4.a...|     NULL|        Brazil|        2004-01-06|            NULL|      2024-05-04|\n",
      "|   16|          Evertow|        186|    415048|       Não|Vaz Pereira da Silva|          Evertow|       Brazil|https://media-4.a...|       79|        Brazil|        2007-02-01|            NULL|      2024-05-04|\n",
      "|   17|            Allex|        164|    415052|       Não|Rodrigues Pereira...|            Allex|       Brazil|https://media-4.a...|       60|        Brazil|        2006-05-04|       São Paulo|      2024-05-04|\n",
      "|   18|   Carlos Eduardo|        193|    415082|       Não|    Coutinho de Góes|             Cadu|       Brazil|https://media-4.a...|       75|        Brazil|        2005-01-11|            NULL|      2024-05-04|\n",
      "|   18|        Newertton|        167|    415151|       Não|    Martins da Silva|        Newertton|       Brazil|https://media-4.a...|       59|        Brazil|        2005-06-03|            NULL|      2024-05-04|\n",
      "+-----+-----------------+-----------+----------+----------+--------------------+-----------------+-------------+--------------------+---------+--------------+------------------+----------------+----------------+\n",
      "only showing top 20 rows\n",
      "\n",
      "+-------+-------------------+-----+---------------+---------+--------------------+----------------+\n",
      "|id_time|       nome_do_time|sigla|ano_de_fundacao|nacional?|    link_imagem_logo|data_de_ingestao|\n",
      "+-------+-------------------+-----+---------------+---------+--------------------+----------------+\n",
      "|      6|             Brazil|  BRA|           1914|      Sim|https://media-1.a...|      2024-05-04|\n",
      "|    118|              Bahia|  BAH|           1931|      Não|https://media-1.a...|      2024-05-04|\n",
      "|    119|      Internacional|  INT|           1909|      Não|https://media-2.a...|      2024-05-04|\n",
      "|    120|           Botafogo|  BOT|           1904|      Não|https://media-2.a...|      2024-05-04|\n",
      "|    121|          Palmeiras|  PAL|           1914|      Não|https://media-2.a...|      2024-05-04|\n",
      "|    122|             Parana|  PAR|           1989|      Não|https://media-1.a...|      2024-05-04|\n",
      "|    123|       Sport Recife|  SPO|           1905|      Não|https://media-2.a...|      2024-05-04|\n",
      "|    124|         Fluminense|  FLU|           1902|      Não|https://media-1.a...|      2024-05-04|\n",
      "|    125|    America Mineiro|  AME|           1912|      Não|https://media-3.a...|      2024-05-04|\n",
      "|    126|          Sao Paulo|  PAU|           1930|      Não|https://media-2.a...|      2024-05-04|\n",
      "|    127|           Flamengo|  FLA|           1895|      Não|https://media-2.a...|      2024-05-04|\n",
      "|    128|             Santos|  SAN|           1912|      Não|https://media-2.a...|      2024-05-04|\n",
      "|    129|              Ceara|  CEA|           1914|      Não|https://media-3.a...|      2024-05-04|\n",
      "|    130|             Gremio|  GRE|           1903|      Não|https://media-1.a...|      2024-05-04|\n",
      "|    131|        Corinthians|  COR|           1910|      Não|https://media-1.a...|      2024-05-04|\n",
      "|    132|     Chapecoense-sc|  CHA|           1973|      Não|https://media-1.a...|      2024-05-04|\n",
      "|    133|      Vasco DA Gama|  VAS|           1898|      Não|https://media-2.a...|      2024-05-04|\n",
      "|    134|Atletico Paranaense|  ATL|           1924|      Não|https://media-2.a...|      2024-05-04|\n",
      "|    135|           Cruzeiro|  CRU|           1921|      Não|https://media-3.a...|      2024-05-04|\n",
      "|    136|            Vitoria|  VIT|           1899|      Não|https://media-1.a...|      2024-05-04|\n",
      "+-------+-------------------+-----+---------------+---------+--------------------+----------------+\n",
      "only showing top 20 rows\n",
      "\n"
     ]
    },
    {
     "data": {
      "text/plain": [
       "(None, None, None, None, None)"
      ]
     },
     "execution_count": 9,
     "metadata": {},
     "output_type": "execute_result"
    }
   ],
   "source": [
    "estadios_df.show(), partidas_df.show(), eventos_df.show(), torneios_df.show(), jogadores_df.show(), times_df.show()"
   ]
  },
  {
   "cell_type": "markdown",
   "metadata": {},
   "source": [
    "### Criando o banco de dados"
   ]
  },
  {
   "cell_type": "code",
   "execution_count": null,
   "metadata": {},
   "outputs": [],
   "source": [
    "%sql\n",
    "\n",
    "CREATE DATABASE IF NOT EXISTS futdata"
   ]
  },
  {
   "cell_type": "code",
   "execution_count": null,
   "metadata": {},
   "outputs": [],
   "source": [
    "%sql\n",
    "\n",
    "USE futdata"
   ]
  },
  {
   "cell_type": "markdown",
   "metadata": {},
   "source": [
    "### Carregamento dos dados"
   ]
  },
  {
   "cell_type": "code",
   "execution_count": null,
   "metadata": {},
   "outputs": [],
   "source": [
    "# ESTADIOS - Salvando na camada gold\n",
    "estadios_df.write.mode('overwrite').parquet(f'{caminho_gold}/dim_estadios')\n",
    "# Salvando no banco de dados futdata\n",
    "estadios_df.write.mode('overwrite').option('path', f'{caminho_gold}/dim_estadios_external').saveAsTable('futdata.dim_estadios')"
   ]
  },
  {
   "cell_type": "code",
   "execution_count": null,
   "metadata": {},
   "outputs": [],
   "source": [
    "# PARTIDAS -  Salvando na camada gold\n",
    "partidas_df.write.mode('overwrite').parquet(f'{caminho_gold}/fato_partidas')\n",
    "# Salvando no banco de dados futdata\n",
    "partidas_df.write.mode('overwrite').option('path', f'{caminho_gold}/fato_partidas_external').saveAsTable('futdata.fato_partidas')"
   ]
  },
  {
   "cell_type": "code",
   "execution_count": null,
   "metadata": {},
   "outputs": [],
   "source": [
    "# PARTIDAS -  Salvando na camada gold\n",
    "eventos_df.write.mode('overwrite').parquet(f'{caminho_gold}/fato_eventos')\n",
    "# Salvando no banco de dados futdata\n",
    "eventos_df.write.mode('overwrite').option('path', f'{caminho_gold}/fato_eventos_external').saveAsTable('futdata.fato_eventos')"
   ]
  },
  {
   "cell_type": "code",
   "execution_count": null,
   "metadata": {},
   "outputs": [],
   "source": [
    "# TORNEIOS - Salvando na camada gold\n",
    "torneios_df.write.mode('overwrite').parquet(f'{caminho_gold}/dim_torneios')\n",
    "# Salvando no banco de dados futdata\n",
    "torneios_df.write.mode('overwrite').option('path', f'{caminho_gold}/dim_torneios_external').saveAsTable('futdata.dim_torneios')"
   ]
  },
  {
   "cell_type": "code",
   "execution_count": null,
   "metadata": {},
   "outputs": [],
   "source": [
    "# JOGADORES -  Salvando na camada gold\n",
    "jogadores_df.write.mode('overwrite').parquet(f'{caminho_gold}/dim_jogadores')\n",
    "# Salvando no banco de dados futdata\n",
    "jogadores_df.write.mode('overwrite').option('path', f'{caminho_gold}/dim_jogadores_external').saveAsTable('futdata.dim_jogadores')"
   ]
  },
  {
   "cell_type": "code",
   "execution_count": null,
   "metadata": {},
   "outputs": [],
   "source": [
    "# TIMES -  Salvando na camada gold\n",
    "times_df.write.mode('overwrite').parquet(f'{caminho_gold}/dim_times')\n",
    "# Salvando no banco de dados futdata\n",
    "times_df.write.mode('overwrite').option('path', f'{caminho_gold}/dim_times_external').saveAsTable('futdata.dim_times')"
   ]
  },
  {
   "cell_type": "code",
   "execution_count": null,
   "metadata": {},
   "outputs": [],
   "source": [
    "%sql\n",
    "\n",
    "SHOW TABLES"
   ]
  }
 ],
 "metadata": {
  "kernelspec": {
   "display_name": "Python 3",
   "language": "python",
   "name": "python3"
  },
  "language_info": {
   "codemirror_mode": {
    "name": "ipython",
    "version": 3
   },
   "file_extension": ".py",
   "mimetype": "text/x-python",
   "name": "python",
   "nbconvert_exporter": "python",
   "pygments_lexer": "ipython3",
   "version": "3.11.8"
  }
 },
 "nbformat": 4,
 "nbformat_minor": 2
}
